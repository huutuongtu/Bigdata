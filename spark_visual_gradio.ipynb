{
  "nbformat": 4,
  "nbformat_minor": 0,
  "metadata": {
    "colab": {
      "provenance": []
    },
    "kernelspec": {
      "name": "python3",
      "display_name": "Python 3"
    },
    "language_info": {
      "name": "python"
    },
    "accelerator": "GPU",
    "gpuClass": "standard"
  },
  "cells": [
    {
      "cell_type": "code",
      "execution_count": 65,
      "metadata": {
        "colab": {
          "base_uri": "https://localhost:8080/"
        },
        "id": "ksruf47wKYqT",
        "outputId": "1cfedf9c-013d-44e0-d936-9ea6a564b482"
      },
      "outputs": [
        {
          "output_type": "stream",
          "name": "stdout",
          "text": [
            "Looking in indexes: https://pypi.org/simple, https://us-python.pkg.dev/colab-wheels/public/simple/\n",
            "Requirement already satisfied: pyspark in /usr/local/lib/python3.8/dist-packages (3.3.1)\n",
            "Requirement already satisfied: py4j==0.10.9.5 in /usr/local/lib/python3.8/dist-packages (from pyspark) (0.10.9.5)\n"
          ]
        }
      ],
      "source": [
        "!pip install pyspark"
      ]
    },
    {
      "cell_type": "code",
      "source": [
        "!pip install gradio\n",
        "!pip install PIL\n",
        "!pip install -U kaleido"
      ],
      "metadata": {
        "colab": {
          "base_uri": "https://localhost:8080/"
        },
        "id": "5qaXJEQo7_UE",
        "outputId": "28a7f160-281f-415f-a781-e84c93d9b24b"
      },
      "execution_count": 66,
      "outputs": [
        {
          "output_type": "stream",
          "name": "stdout",
          "text": [
            "Looking in indexes: https://pypi.org/simple, https://us-python.pkg.dev/colab-wheels/public/simple/\n",
            "Requirement already satisfied: gradio in /usr/local/lib/python3.8/dist-packages (3.17.1)\n",
            "Requirement already satisfied: fastapi in /usr/local/lib/python3.8/dist-packages (from gradio) (0.89.1)\n",
            "Requirement already satisfied: aiofiles in /usr/local/lib/python3.8/dist-packages (from gradio) (22.1.0)\n",
            "Requirement already satisfied: matplotlib in /usr/local/lib/python3.8/dist-packages (from gradio) (3.2.2)\n",
            "Requirement already satisfied: pandas in /usr/local/lib/python3.8/dist-packages (from gradio) (1.3.5)\n",
            "Requirement already satisfied: markupsafe in /usr/local/lib/python3.8/dist-packages (from gradio) (2.0.1)\n",
            "Requirement already satisfied: numpy in /usr/local/lib/python3.8/dist-packages (from gradio) (1.21.6)\n",
            "Requirement already satisfied: pillow in /usr/local/lib/python3.8/dist-packages (from gradio) (7.1.2)\n",
            "Requirement already satisfied: jinja2 in /usr/local/lib/python3.8/dist-packages (from gradio) (2.11.3)\n",
            "Requirement already satisfied: fsspec in /usr/local/lib/python3.8/dist-packages (from gradio) (2023.1.0)\n",
            "Requirement already satisfied: orjson in /usr/local/lib/python3.8/dist-packages (from gradio) (3.8.5)\n",
            "Requirement already satisfied: ffmpy in /usr/local/lib/python3.8/dist-packages (from gradio) (0.3.0)\n",
            "Requirement already satisfied: pycryptodome in /usr/local/lib/python3.8/dist-packages (from gradio) (3.17)\n",
            "Requirement already satisfied: altair>=4.2.0 in /usr/local/lib/python3.8/dist-packages (from gradio) (4.2.2)\n",
            "Requirement already satisfied: pydub in /usr/local/lib/python3.8/dist-packages (from gradio) (0.25.1)\n",
            "Requirement already satisfied: pyyaml in /usr/local/lib/python3.8/dist-packages (from gradio) (6.0)\n",
            "Requirement already satisfied: typing-extensions in /usr/local/lib/python3.8/dist-packages (from gradio) (4.4.0)\n",
            "Requirement already satisfied: websockets>=10.0 in /usr/local/lib/python3.8/dist-packages (from gradio) (10.4)\n",
            "Requirement already satisfied: pydantic in /usr/local/lib/python3.8/dist-packages (from gradio) (1.10.4)\n",
            "Requirement already satisfied: markdown-it-py[linkify,plugins]>=2.0.0 in /usr/local/lib/python3.8/dist-packages (from gradio) (2.1.0)\n",
            "Requirement already satisfied: aiohttp in /usr/local/lib/python3.8/dist-packages (from gradio) (3.8.3)\n",
            "Requirement already satisfied: httpx in /usr/local/lib/python3.8/dist-packages (from gradio) (0.23.3)\n",
            "Requirement already satisfied: requests in /usr/local/lib/python3.8/dist-packages (from gradio) (2.25.1)\n",
            "Requirement already satisfied: python-multipart in /usr/local/lib/python3.8/dist-packages (from gradio) (0.0.5)\n",
            "Requirement already satisfied: uvicorn in /usr/local/lib/python3.8/dist-packages (from gradio) (0.20.0)\n",
            "Requirement already satisfied: toolz in /usr/local/lib/python3.8/dist-packages (from altair>=4.2.0->gradio) (0.12.0)\n",
            "Requirement already satisfied: jsonschema>=3.0 in /usr/local/lib/python3.8/dist-packages (from altair>=4.2.0->gradio) (4.3.3)\n",
            "Requirement already satisfied: entrypoints in /usr/local/lib/python3.8/dist-packages (from altair>=4.2.0->gradio) (0.4)\n",
            "Requirement already satisfied: mdurl~=0.1 in /usr/local/lib/python3.8/dist-packages (from markdown-it-py[linkify,plugins]>=2.0.0->gradio) (0.1.2)\n",
            "Requirement already satisfied: linkify-it-py~=1.0 in /usr/local/lib/python3.8/dist-packages (from markdown-it-py[linkify,plugins]>=2.0.0->gradio) (1.0.3)\n",
            "Requirement already satisfied: mdit-py-plugins in /usr/local/lib/python3.8/dist-packages (from markdown-it-py[linkify,plugins]>=2.0.0->gradio) (0.3.3)\n",
            "Requirement already satisfied: python-dateutil>=2.7.3 in /usr/local/lib/python3.8/dist-packages (from pandas->gradio) (2.8.2)\n",
            "Requirement already satisfied: pytz>=2017.3 in /usr/local/lib/python3.8/dist-packages (from pandas->gradio) (2022.7.1)\n",
            "Requirement already satisfied: charset-normalizer<3.0,>=2.0 in /usr/local/lib/python3.8/dist-packages (from aiohttp->gradio) (2.1.1)\n",
            "Requirement already satisfied: attrs>=17.3.0 in /usr/local/lib/python3.8/dist-packages (from aiohttp->gradio) (22.2.0)\n",
            "Requirement already satisfied: frozenlist>=1.1.1 in /usr/local/lib/python3.8/dist-packages (from aiohttp->gradio) (1.3.3)\n",
            "Requirement already satisfied: multidict<7.0,>=4.5 in /usr/local/lib/python3.8/dist-packages (from aiohttp->gradio) (6.0.4)\n",
            "Requirement already satisfied: async-timeout<5.0,>=4.0.0a3 in /usr/local/lib/python3.8/dist-packages (from aiohttp->gradio) (4.0.2)\n",
            "Requirement already satisfied: yarl<2.0,>=1.0 in /usr/local/lib/python3.8/dist-packages (from aiohttp->gradio) (1.8.2)\n",
            "Requirement already satisfied: aiosignal>=1.1.2 in /usr/local/lib/python3.8/dist-packages (from aiohttp->gradio) (1.3.1)\n",
            "Requirement already satisfied: starlette==0.22.0 in /usr/local/lib/python3.8/dist-packages (from fastapi->gradio) (0.22.0)\n",
            "Requirement already satisfied: anyio<5,>=3.4.0 in /usr/local/lib/python3.8/dist-packages (from starlette==0.22.0->fastapi->gradio) (3.6.2)\n",
            "Requirement already satisfied: rfc3986[idna2008]<2,>=1.3 in /usr/local/lib/python3.8/dist-packages (from httpx->gradio) (1.5.0)\n",
            "Requirement already satisfied: sniffio in /usr/local/lib/python3.8/dist-packages (from httpx->gradio) (1.3.0)\n",
            "Requirement already satisfied: certifi in /usr/local/lib/python3.8/dist-packages (from httpx->gradio) (2022.12.7)\n",
            "Requirement already satisfied: httpcore<0.17.0,>=0.15.0 in /usr/local/lib/python3.8/dist-packages (from httpx->gradio) (0.16.3)\n",
            "Requirement already satisfied: cycler>=0.10 in /usr/local/lib/python3.8/dist-packages (from matplotlib->gradio) (0.11.0)\n",
            "Requirement already satisfied: kiwisolver>=1.0.1 in /usr/local/lib/python3.8/dist-packages (from matplotlib->gradio) (1.4.4)\n",
            "Requirement already satisfied: pyparsing!=2.0.4,!=2.1.2,!=2.1.6,>=2.0.1 in /usr/local/lib/python3.8/dist-packages (from matplotlib->gradio) (3.0.9)\n",
            "Requirement already satisfied: six>=1.4.0 in /usr/local/lib/python3.8/dist-packages (from python-multipart->gradio) (1.15.0)\n",
            "Requirement already satisfied: idna<3,>=2.5 in /usr/local/lib/python3.8/dist-packages (from requests->gradio) (2.10)\n",
            "Requirement already satisfied: chardet<5,>=3.0.2 in /usr/local/lib/python3.8/dist-packages (from requests->gradio) (4.0.0)\n",
            "Requirement already satisfied: urllib3<1.27,>=1.21.1 in /usr/local/lib/python3.8/dist-packages (from requests->gradio) (1.24.3)\n",
            "Requirement already satisfied: click>=7.0 in /usr/local/lib/python3.8/dist-packages (from uvicorn->gradio) (7.1.2)\n",
            "Requirement already satisfied: h11>=0.8 in /usr/local/lib/python3.8/dist-packages (from uvicorn->gradio) (0.14.0)\n",
            "Requirement already satisfied: pyrsistent!=0.17.0,!=0.17.1,!=0.17.2,>=0.14.0 in /usr/local/lib/python3.8/dist-packages (from jsonschema>=3.0->altair>=4.2.0->gradio) (0.19.3)\n",
            "Requirement already satisfied: importlib-resources>=1.4.0 in /usr/local/lib/python3.8/dist-packages (from jsonschema>=3.0->altair>=4.2.0->gradio) (5.10.2)\n",
            "Requirement already satisfied: uc-micro-py in /usr/local/lib/python3.8/dist-packages (from linkify-it-py~=1.0->markdown-it-py[linkify,plugins]>=2.0.0->gradio) (1.0.1)\n",
            "Requirement already satisfied: zipp>=3.1.0 in /usr/local/lib/python3.8/dist-packages (from importlib-resources>=1.4.0->jsonschema>=3.0->altair>=4.2.0->gradio) (3.12.0)\n",
            "Looking in indexes: https://pypi.org/simple, https://us-python.pkg.dev/colab-wheels/public/simple/\n",
            "\u001b[31mERROR: Could not find a version that satisfies the requirement PIL (from versions: none)\u001b[0m\u001b[31m\n",
            "\u001b[0m\u001b[31mERROR: No matching distribution found for PIL\u001b[0m\u001b[31m\n",
            "\u001b[0mLooking in indexes: https://pypi.org/simple, https://us-python.pkg.dev/colab-wheels/public/simple/\n",
            "Requirement already satisfied: kaleido in /usr/local/lib/python3.8/dist-packages (0.2.1)\n"
          ]
        }
      ]
    },
    {
      "cell_type": "code",
      "source": [
        "from google.colab import drive\n",
        "drive.mount('/content/drive')"
      ],
      "metadata": {
        "colab": {
          "base_uri": "https://localhost:8080/"
        },
        "id": "6Jha_EuZKgcQ",
        "outputId": "97b0a779-1822-4c93-cc10-4ff581e9e4d2"
      },
      "execution_count": 67,
      "outputs": [
        {
          "output_type": "stream",
          "name": "stdout",
          "text": [
            "Drive already mounted at /content/drive; to attempt to forcibly remount, call drive.mount(\"/content/drive\", force_remount=True).\n"
          ]
        }
      ]
    },
    {
      "cell_type": "code",
      "source": [
        "cd /content/drive/MyDrive/Bigdata"
      ],
      "metadata": {
        "colab": {
          "base_uri": "https://localhost:8080/"
        },
        "id": "KF3k-rrVKlPG",
        "outputId": "eedd19f5-6fca-4c5d-cee1-0397a180b1d8"
      },
      "execution_count": 68,
      "outputs": [
        {
          "output_type": "stream",
          "name": "stdout",
          "text": [
            "/content/drive/MyDrive/Bigdata\n"
          ]
        }
      ]
    },
    {
      "cell_type": "code",
      "source": [
        "\n",
        "#Replace part of string with another string\n",
        "from pyspark.sql.window import Window\n",
        "from pyspark.sql.functions import col, row_number\n",
        "from pyspark.sql.functions import regexp_replace\n",
        "from pyspark.sql.functions import mean, col, max, countDistinct, concat\n",
        "from pyspark.sql.functions import col,isnan, when, count\n",
        "import pandas as pd\n",
        "from datetime import datetime\n",
        "from dateutil import parser\n",
        "import numpy as np \n",
        "import pandas as pd\n",
        "import matplotlib.pyplot as plt\n",
        "import seaborn as sns\n",
        "import plotly as py\n",
        "import plotly.express as px\n",
        "import plotly.graph_objs as go\n",
        "from plotly.subplots import make_subplots\n",
        "import time\n",
        "from plotly.offline import download_plotlyjs, init_notebook_mode, plot, iplot\n",
        "\n",
        "import PIL\n",
        "import gradio as gr\n",
        "\n"
      ],
      "metadata": {
        "id": "lcfVZ94FNSfI"
      },
      "execution_count": 69,
      "outputs": []
    },
    {
      "cell_type": "code",
      "source": [
        "df_train = pd.read_csv('train.csv', low_memory=False)"
      ],
      "metadata": {
        "id": "jnvxu_zhb7xx"
      },
      "execution_count": 70,
      "outputs": []
    },
    {
      "cell_type": "code",
      "source": [
        "from pyspark.sql import SparkSession\n",
        "\n",
        "spark = SparkSession \\\n",
        "    .builder \\\n",
        "    .appName(\"Python Spark SQL basic example\") \\\n",
        "    .config(\"spark.some.config.option\", \"some-value\") \\\n",
        "    .getOrCreate()\n",
        "\n",
        "df = spark.read.csv(\"train.csv\",header=True,sep=\",\")\n",
        "\n",
        "# print(df.collect())"
      ],
      "metadata": {
        "id": "67HtPm7CKjfF"
      },
      "execution_count": 71,
      "outputs": []
    },
    {
      "cell_type": "code",
      "source": [
        "print(\"Total Row Number: {0} \\nTotal Col Number: {1}\".format(df.count(), len(df.dtypes)))\n"
      ],
      "metadata": {
        "colab": {
          "base_uri": "https://localhost:8080/"
        },
        "id": "-rEh0fO3LFhC",
        "outputId": "1d45dfdf-2d79-4b49-e0f8-d0262db51365"
      },
      "execution_count": 72,
      "outputs": [
        {
          "output_type": "stream",
          "name": "stdout",
          "text": [
            "Total Row Number: 682154 \n",
            "Total Col Number: 49\n"
          ]
        }
      ]
    },
    {
      "cell_type": "code",
      "source": [
        "df.show()"
      ],
      "metadata": {
        "colab": {
          "base_uri": "https://localhost:8080/"
        },
        "id": "YV1NZOf7j6RS",
        "outputId": "472034ca-b22e-4f59-f6fc-bd1c34ffe09a"
      },
      "execution_count": 73,
      "outputs": [
        {
          "output_type": "stream",
          "name": "stdout",
          "text": [
            "+----------+--------------+----+-----+-----+----+----+----+-----------+------+-------+-----------------+------------+------+--------+-------+---------+--------------+----+--------+-------------+-------------------+----------------------+-----------+----------------+----------------+-----------------+----------------+-------------+--------------------+--------------------+-----+------------+------------+---------------+-----------------+--------+------------+---------------+----+----------------+--------------+-----------+----------+--------------+-----------+--------+---------+-------------+\n",
            "|    GameId|        PlayId|Team|    X|    Y|   S|   A| Dis|Orientation|   Dir|  NflId|      DisplayName|JerseyNumber|Season|YardLine|Quarter|GameClock|PossessionTeam|Down|Distance|FieldPosition|HomeScoreBeforePlay|VisitorScoreBeforePlay|NflIdRusher|OffenseFormation|OffensePersonnel|DefendersInTheBox|DefensePersonnel|PlayDirection|         TimeHandoff|            TimeSnap|Yards|PlayerHeight|PlayerWeight|PlayerBirthDate|PlayerCollegeName|Position|HomeTeamAbbr|VisitorTeamAbbr|Week|         Stadium|      Location|StadiumType|      Turf|   GameWeather|Temperature|Humidity|WindSpeed|WindDirection|\n",
            "+----------+--------------+----+-----+-----+----+----+----+-----------+------+-------+-----------------+------------+------+--------+-------+---------+--------------+----+--------+-------------+-------------------+----------------------+-----------+----------------+----------------+-----------------+----------------+-------------+--------------------+--------------------+-----+------------+------------+---------------+-----------------+--------+------------+---------------+----+----------------+--------------+-----------+----------+--------------+-----------+--------+---------+-------------+\n",
            "|2017090700|20170907000118|away|73.91|34.84|1.69|1.13| 0.4|      81.99|177.18| 496723|       Eric Berry|          29|  2017|      35|      1| 14:14:00|            NE|   3|       2|           NE|                  0|                     0|    2543773|         SHOTGUN|1 RB, 1 TE, 3 WR|                6|2 DL, 3 LB, 6 DB|         left|2017-09-08T00:44:...|2017-09-08T00:44:...|    8|         6-0|         212|     12/29/1988|        Tennessee|      SS|          NE|             KC|   1|Gillette Stadium|Foxborough, MA|    Outdoor|Field Turf|Clear and warm|         63|      77|        8|           SW|\n",
            "|2017090700|20170907000118|away|74.67|32.64|0.42|1.35|0.01|      27.61| 198.7|2495116|     Allen Bailey|          97|  2017|      35|      1| 14:14:00|            NE|   3|       2|           NE|                  0|                     0|    2543773|         SHOTGUN|1 RB, 1 TE, 3 WR|                6|2 DL, 3 LB, 6 DB|         left|2017-09-08T00:44:...|2017-09-08T00:44:...|    8|         6-3|         288|     03/25/1989|            Miami|      DE|          NE|             KC|   1|Gillette Stadium|Foxborough, MA|    Outdoor|Field Turf|Clear and warm|         63|      77|        8|           SW|\n",
            "|2017090700|20170907000118|away|   74| 33.2|1.22|0.59|0.31|       3.01|202.73|2495493|   Justin Houston|          50|  2017|      35|      1| 14:14:00|            NE|   3|       2|           NE|                  0|                     0|    2543773|         SHOTGUN|1 RB, 1 TE, 3 WR|                6|2 DL, 3 LB, 6 DB|         left|2017-09-08T00:44:...|2017-09-08T00:44:...|    8|         6-3|         270|     01/21/1989|          Georgia|      DE|          NE|             KC|   1|Gillette Stadium|Foxborough, MA|    Outdoor|Field Turf|Clear and warm|         63|      77|        8|           SW|\n",
            "|2017090700|20170907000118|away|71.46| 27.7|0.42|0.54|0.02|     359.77|105.64|2506353|  Derrick Johnson|          56|  2017|      35|      1| 14:14:00|            NE|   3|       2|           NE|                  0|                     0|    2543773|         SHOTGUN|1 RB, 1 TE, 3 WR|                6|2 DL, 3 LB, 6 DB|         left|2017-09-08T00:44:...|2017-09-08T00:44:...|    8|         6-3|         245|     11/22/1982|            Texas|     ILB|          NE|             KC|   1|Gillette Stadium|Foxborough, MA|    Outdoor|Field Turf|Clear and warm|         63|      77|        8|           SW|\n",
            "|2017090700|20170907000118|away|69.32|35.42|1.82|2.43|0.16|      12.63|164.31|2530794|       Ron Parker|          38|  2017|      35|      1| 14:14:00|            NE|   3|       2|           NE|                  0|                     0|    2543773|         SHOTGUN|1 RB, 1 TE, 3 WR|                6|2 DL, 3 LB, 6 DB|         left|2017-09-08T00:44:...|2017-09-08T00:44:...|    8|         6-0|         206|     08/17/1987|         Newberry|      FS|          NE|             KC|   1|Gillette Stadium|Foxborough, MA|    Outdoor|Field Turf|Clear and warm|         63|      77|        8|           SW|\n",
            "|2017090700|20170907000118|away|75.06|   24|1.01|0.32|0.18|     308.34| 95.01|2543494|         Dee Ford|          55|  2017|      35|      1| 14:14:00|            NE|   3|       2|           NE|                  0|                     0|    2543773|         SHOTGUN|1 RB, 1 TE, 3 WR|                6|2 DL, 3 LB, 6 DB|         left|2017-09-08T00:44:...|2017-09-08T00:44:...|    8|         6-2|         252|     03/19/1991|           Auburn|      DE|          NE|             KC|   1|Gillette Stadium|Foxborough, MA|    Outdoor|Field Turf|Clear and warm|         63|      77|        8|           SW|\n",
            "|2017090700|20170907000118|away|74.11|16.64|1.11|0.83|0.02|     357.23|322.59|2543637|Terrance Mitchell|          39|  2017|      35|      1| 14:14:00|            NE|   3|       2|           NE|                  0|                     0|    2543773|         SHOTGUN|1 RB, 1 TE, 3 WR|                6|2 DL, 3 LB, 6 DB|         left|2017-09-08T00:44:...|2017-09-08T00:44:...|    8|        5-11|         190|     05/17/1992|           Oregon|      CB|          NE|             KC|   1|Gillette Stadium|Foxborough, MA|    Outdoor|Field Turf|Clear and warm|         63|      77|        8|           SW|\n",
            "|2017090700|20170907000118|away|73.37|18.73|1.24|0.74|0.13|     328.52|270.04|2543851|   Phillip Gaines|          23|  2017|      35|      1| 14:14:00|            NE|   3|       2|           NE|                  0|                     0|    2543773|         SHOTGUN|1 RB, 1 TE, 3 WR|                6|2 DL, 3 LB, 6 DB|         left|2017-09-08T00:44:...|2017-09-08T00:44:...|    8|         6-0|         193|     04/04/1991|             Rice|      CB|          NE|             KC|   1|Gillette Stadium|Foxborough, MA|    Outdoor|Field Turf|Clear and warm|         63|      77|        8|           SW|\n",
            "|2017090700|20170907000118|away|56.63| 26.9|0.26|1.86|0.28|      344.7| 55.31|2550257|  Daniel Sorensen|          49|  2017|      35|      1| 14:14:00|            NE|   3|       2|           NE|                  0|                     0|    2543773|         SHOTGUN|1 RB, 1 TE, 3 WR|                6|2 DL, 3 LB, 6 DB|         left|2017-09-08T00:44:...|2017-09-08T00:44:...|    8|         6-2|         208|     03/05/1990|    Brigham Young|      SS|          NE|             KC|   1|Gillette Stadium|Foxborough, MA|    Outdoor|Field Turf|Clear and warm|         63|      77|        8|           SW|\n",
            "|2017090700|20170907000118|away|73.35|38.83|4.55|0.76|0.51|      75.47|190.84|2552488|    Marcus Peters|          22|  2017|      35|      1| 14:14:00|            NE|   3|       2|           NE|                  0|                     0|    2543773|         SHOTGUN|1 RB, 1 TE, 3 WR|                6|2 DL, 3 LB, 6 DB|         left|2017-09-08T00:44:...|2017-09-08T00:44:...|    8|         6-0|         197|     01/09/1993|       Washington|      CB|          NE|             KC|   1|Gillette Stadium|Foxborough, MA|    Outdoor|Field Turf|Clear and warm|         63|      77|        8|           SW|\n",
            "|2017090700|20170907000118|away|74.15| 28.9|0.72|0.73|0.01|     342.58|274.14|2556369|      Chris Jones|          95|  2017|      35|      1| 14:14:00|            NE|   3|       2|           NE|                  0|                     0|    2543773|         SHOTGUN|1 RB, 1 TE, 3 WR|                6|2 DL, 3 LB, 6 DB|         left|2017-09-08T00:44:...|2017-09-08T00:44:...|    8|         6-6|         308|     07/03/1994|Mississippi State|      DT|          NE|             KC|   1|Gillette Stadium|Foxborough, MA|    Outdoor|Field Turf|Clear and warm|         63|      77|        8|           SW|\n",
            "|2017090700|20170907000118|home|75.82|17.56| 2.3|1.39|0.55|     178.97|284.15|   2649|   Danny Amendola|          80|  2017|      35|      1| 14:14:00|            NE|   3|       2|           NE|                  0|                     0|    2543773|         SHOTGUN|1 RB, 1 TE, 3 WR|                6|2 DL, 3 LB, 6 DB|         left|2017-09-08T00:44:...|2017-09-08T00:44:...|    8|        5-11|         185|     11/02/1985|       Texas Tech|      WR|          NE|             KC|   1|Gillette Stadium|Foxborough, MA|    Outdoor|Field Turf|Clear and warm|         63|      77|        8|           SW|\n",
            "|2017090700|20170907000118|home|74.78|33.21|1.71|0.82|0.19|     178.82| 215.9| 497240|   Rob Gronkowski|          87|  2017|      35|      1| 14:14:00|            NE|   3|       2|           NE|                  0|                     0|    2543773|         SHOTGUN|1 RB, 1 TE, 3 WR|                6|2 DL, 3 LB, 6 DB|         left|2017-09-08T00:44:...|2017-09-08T00:44:...|    8|         6-6|         265|     05/14/1989|          Arizona|      TE|          NE|             KC|   1|Gillette Stadium|Foxborough, MA|    Outdoor|Field Turf|Clear and warm|         63|      77|        8|           SW|\n",
            "|2017090700|20170907000118|home|75.43|32.41| 1.5|1.36|0.32|     207.08|222.76|2495131|    Marcus Cannon|          61|  2017|      35|      1| 14:14:00|            NE|   3|       2|           NE|                  0|                     0|    2543773|         SHOTGUN|1 RB, 1 TE, 3 WR|                6|2 DL, 3 LB, 6 DB|         left|2017-09-08T00:44:...|2017-09-08T00:44:...|    8|         6-6|         335|     05/06/1988|  Texas Christian|       T|          NE|             KC|   1|Gillette Stadium|Foxborough, MA|    Outdoor|Field Turf|Clear and warm|         63|      77|        8|           SW|\n",
            "|2017090700|20170907000118|home| 75.9|25.12|1.38| 0.8|0.19|     133.01|198.55|2495232|      Nate Solder|          77|  2017|      35|      1| 14:14:00|            NE|   3|       2|           NE|                  0|                     0|    2543773|         SHOTGUN|1 RB, 1 TE, 3 WR|                6|2 DL, 3 LB, 6 DB|         left|2017-09-08T00:44:...|2017-09-08T00:44:...|    8|         6-9|         325|     04/12/1988|         Colorado|       T|          NE|             KC|   1|Gillette Stadium|Foxborough, MA|    Outdoor|Field Turf|Clear and warm|         63|      77|        8|           SW|\n",
            "|2017090700|20170907000118|home|79.76|29.49|0.84|1.22|   0|     192.18|110.86|2504211|        Tom Brady|          12|  2017|      35|      1| 14:14:00|            NE|   3|       2|           NE|                  0|                     0|    2543773|         SHOTGUN|1 RB, 1 TE, 3 WR|                6|2 DL, 3 LB, 6 DB|         left|2017-09-08T00:44:...|2017-09-08T00:44:...|    8|         6-4|         225|     08/03/1977|         Michigan|      QB|          NE|             KC|   1|Gillette Stadium|Foxborough, MA|    Outdoor|Field Turf|Clear and warm|         63|      77|        8|           SW|\n",
            "|2017090700|20170907000118|home|76.47|36.91|5.15|0.77|0.59|     112.02|195.09|2530515|      Chris Hogan|          15|  2017|      35|      1| 14:14:00|            NE|   3|       2|           NE|                  0|                     0|    2543773|         SHOTGUN|1 RB, 1 TE, 3 WR|                6|2 DL, 3 LB, 6 DB|         left|2017-09-08T00:44:...|2017-09-08T00:44:...|    8|         6-1|         210|     10/24/1987|   Monmouth, N.J.|      WR|          NE|             KC|   1|Gillette Stadium|Foxborough, MA|    Outdoor|Field Turf|Clear and warm|         63|      77|        8|           SW|\n",
            "|2017090700|20170907000118|home| 74.7|19.19| 2.1|1.48|0.51|     152.14|278.52|2543498|    Brandin Cooks|          14|  2017|      35|      1| 14:14:00|            NE|   3|       2|           NE|                  0|                     0|    2543773|         SHOTGUN|1 RB, 1 TE, 3 WR|                6|2 DL, 3 LB, 6 DB|         left|2017-09-08T00:44:...|2017-09-08T00:44:...|    8|        5-10|         183|     09/25/1993|     Oregon State|      WR|          NE|             KC|   1|Gillette Stadium|Foxborough, MA|    Outdoor|Field Turf|Clear and warm|         63|      77|        8|           SW|\n",
            "|2017090700|20170907000118|home|78.75|30.53|3.63|3.35|0.38|     161.98|245.74|2543773|      James White|          28|  2017|      35|      1| 14:14:00|            NE|   3|       2|           NE|                  0|                     0|    2543773|         SHOTGUN|1 RB, 1 TE, 3 WR|                6|2 DL, 3 LB, 6 DB|         left|2017-09-08T00:44:...|2017-09-08T00:44:...|    8|        5-10|         205|     02/03/1992|        Wisconsin|      RB|          NE|             KC|   1|Gillette Stadium|Foxborough, MA|    Outdoor|Field Turf|Clear and warm|         63|      77|        8|           SW|\n",
            "|2017090700|20170907000118|home| 74.6|31.88|1.86|1.51|0.17|     218.49|267.32|2552563|       Shaq Mason|          69|  2017|      35|      1| 14:14:00|            NE|   3|       2|           NE|                  0|                     0|    2543773|         SHOTGUN|1 RB, 1 TE, 3 WR|                6|2 DL, 3 LB, 6 DB|         left|2017-09-08T00:44:...|2017-09-08T00:44:...|    8|         6-1|         310|     08/28/1993|     Georgia Tech|       G|          NE|             KC|   1|Gillette Stadium|Foxborough, MA|    Outdoor|Field Turf|Clear and warm|         63|      77|        8|           SW|\n",
            "+----------+--------------+----+-----+-----+----+----+----+-----------+------+-------+-----------------+------------+------+--------+-------+---------+--------------+----+--------+-------------+-------------------+----------------------+-----------+----------------+----------------+-----------------+----------------+-------------+--------------------+--------------------+-----+------------+------------+---------------+-----------------+--------+------------+---------------+----+----------------+--------------+-----------+----------+--------------+-----------+--------+---------+-------------+\n",
            "only showing top 20 rows\n",
            "\n"
          ]
        }
      ]
    },
    {
      "cell_type": "code",
      "source": [
        "df.columns"
      ],
      "metadata": {
        "colab": {
          "base_uri": "https://localhost:8080/"
        },
        "id": "YXezQNWQkFAW",
        "outputId": "7c7c6819-8ede-4a6a-f08b-257dbd3d8499"
      },
      "execution_count": 74,
      "outputs": [
        {
          "output_type": "execute_result",
          "data": {
            "text/plain": [
              "['GameId',\n",
              " 'PlayId',\n",
              " 'Team',\n",
              " 'X',\n",
              " 'Y',\n",
              " 'S',\n",
              " 'A',\n",
              " 'Dis',\n",
              " 'Orientation',\n",
              " 'Dir',\n",
              " 'NflId',\n",
              " 'DisplayName',\n",
              " 'JerseyNumber',\n",
              " 'Season',\n",
              " 'YardLine',\n",
              " 'Quarter',\n",
              " 'GameClock',\n",
              " 'PossessionTeam',\n",
              " 'Down',\n",
              " 'Distance',\n",
              " 'FieldPosition',\n",
              " 'HomeScoreBeforePlay',\n",
              " 'VisitorScoreBeforePlay',\n",
              " 'NflIdRusher',\n",
              " 'OffenseFormation',\n",
              " 'OffensePersonnel',\n",
              " 'DefendersInTheBox',\n",
              " 'DefensePersonnel',\n",
              " 'PlayDirection',\n",
              " 'TimeHandoff',\n",
              " 'TimeSnap',\n",
              " 'Yards',\n",
              " 'PlayerHeight',\n",
              " 'PlayerWeight',\n",
              " 'PlayerBirthDate',\n",
              " 'PlayerCollegeName',\n",
              " 'Position',\n",
              " 'HomeTeamAbbr',\n",
              " 'VisitorTeamAbbr',\n",
              " 'Week',\n",
              " 'Stadium',\n",
              " 'Location',\n",
              " 'StadiumType',\n",
              " 'Turf',\n",
              " 'GameWeather',\n",
              " 'Temperature',\n",
              " 'Humidity',\n",
              " 'WindSpeed',\n",
              " 'WindDirection']"
            ]
          },
          "metadata": {},
          "execution_count": 74
        }
      ]
    },
    {
      "cell_type": "markdown",
      "source": [
        "**There are 49 columns and 11 columns have null values. Total null values of these are below:**"
      ],
      "metadata": {
        "id": "5BfOSolusv_E"
      }
    },
    {
      "cell_type": "code",
      "source": [
        "\n",
        "#Pandas\n",
        "start = time.time()\n",
        "nullvalues = df_train.loc[:, df_train.isnull().any()].isnull().sum()\n",
        "end = time.time()\n",
        "print(end-start)\n",
        "\n",
        "#Spark\n",
        "start = time.time()\n",
        "unique_value = df.select([count(when(isnan(c) | col(c).isNull(), c)).alias(c) for c in df.columns])\n",
        "end = time.time()\n",
        "print(end-start)\n",
        "\n",
        "unique_value.show()"
      ],
      "metadata": {
        "id": "3olsfOf_ka5g",
        "colab": {
          "base_uri": "https://localhost:8080/"
        },
        "outputId": "e302b2fb-ff85-44bb-d7ee-8425d54b9e99"
      },
      "execution_count": 75,
      "outputs": [
        {
          "output_type": "stream",
          "name": "stdout",
          "text": [
            "1.418156385421753\n",
            "0.5868911743164062\n",
            "+------+------+----+---+---+---+---+---+-----------+---+-----+-----------+------------+------+--------+-------+---------+--------------+----+--------+-------------+-------------------+----------------------+-----------+----------------+----------------+-----------------+----------------+-------------+-----------+--------+-----+------------+------------+---------------+-----------------+--------+------------+---------------+----+-------+--------+-----------+----+-----------+-----------+--------+---------+-------------+\n",
            "|GameId|PlayId|Team|  X|  Y|  S|  A|Dis|Orientation|Dir|NflId|DisplayName|JerseyNumber|Season|YardLine|Quarter|GameClock|PossessionTeam|Down|Distance|FieldPosition|HomeScoreBeforePlay|VisitorScoreBeforePlay|NflIdRusher|OffenseFormation|OffensePersonnel|DefendersInTheBox|DefensePersonnel|PlayDirection|TimeHandoff|TimeSnap|Yards|PlayerHeight|PlayerWeight|PlayerBirthDate|PlayerCollegeName|Position|HomeTeamAbbr|VisitorTeamAbbr|Week|Stadium|Location|StadiumType|Turf|GameWeather|Temperature|Humidity|WindSpeed|WindDirection|\n",
            "+------+------+----+---+---+---+---+---+-----------+---+-----+-----------+------------+------+--------+-------+---------+--------------+----+--------+-------------+-------------------+----------------------+-----------+----------------+----------------+-----------------+----------------+-------------+-----------+--------+-----+------------+------------+---------------+-----------------+--------+------------+---------------+----+-------+--------+-----------+----+-----------+-----------+--------+---------+-------------+\n",
            "|     0|     0|   0|  0|  0|  0|  0|  0|         23| 28|    0|          0|           0|     0|       0|      0|        0|             0|   0|       0|         8602|                  0|                     0|          0|              88|               0|               22|               0|            0|          0|       0|    0|           0|           0|              0|                0|       0|           0|              0|   0|      0|       0|      41690|   0|      55374|      63646|    6160|    91872|       103818|\n",
            "+------+------+----+---+---+---+---+---+-----------+---+-----+-----------+------------+------+--------+-------+---------+--------------+----+--------+-------------+-------------------+----------------------+-----------+----------------+----------------+-----------------+----------------+-------------+-----------+--------+-----+------------+------------+---------------+-----------------+--------+------------+---------------+----+-------+--------+-----------+----+-----------+-----------+--------+---------+-------------+\n",
            "\n"
          ]
        }
      ]
    },
    {
      "cell_type": "code",
      "source": [
        "Position_PlayerWeight_cor()"
      ],
      "metadata": {
        "colab": {
          "base_uri": "https://localhost:8080/",
          "height": 317
        },
        "id": "jbQAn2m4mxHV",
        "outputId": "f12dc068-c629-4538-9088-99671242ffa2"
      },
      "execution_count": 76,
      "outputs": [
        {
          "output_type": "execute_result",
          "data": {
            "text/plain": [
              "(<PIL.PngImagePlugin.PngImageFile image mode=RGBA size=432x288 at 0x7F645988E100>,\n",
              " '',\n",
              " '')"
            ]
          },
          "metadata": {},
          "execution_count": 76
        },
        {
          "output_type": "display_data",
          "data": {
            "text/plain": [
              "<Figure size 432x288 with 1 Axes>"
            ],
            "image/png": "[encoded data removed]"
          },
          "metadata": {
            "needs_background": "light"
          }
        }
      ]
    },
    {
      "cell_type": "code",
      "source": [
        "def Plays_Games_Players():\n",
        "  #Pandas\n",
        "  start = time.time()\n",
        "  unique_plays = df_train.groupby('Season').agg({'PlayId': 'nunique', 'GameId': 'nunique', 'NflId':'nunique'})\n",
        "  end = time.time()\n",
        "  pandas_query = (end-start)\n",
        "\n",
        "  #Spark\n",
        "  start = time.time()\n",
        "  playIddistinct = df.groupBy(\"Season\").agg(countDistinct('PlayId')) \n",
        "  GameIddistinct = df.groupBy(\"Season\").agg(countDistinct('GameId')) \n",
        "  NflIddistinct = df.groupBy(\"Season\").agg(countDistinct('NflId')) \n",
        "\n",
        "  end = time.time()\n",
        "  spark_query = (end-start)\n",
        "\n",
        "\n",
        "  # playIddistinct.show()\n",
        "  # GameIddistinct.show()\n",
        "  # NflIddistinct.show()\n",
        "\n",
        "  playIddistinct = playIddistinct.toPandas()\n",
        "  GameIddistinct = GameIddistinct.toPandas()\n",
        "  NflIddistinct = NflIddistinct.toPandas()\n",
        "\n",
        "  f,ax=plt.subplots(1,3,figsize=(11,4))\n",
        "  playIddistinct.plot(ax=ax[0],color='crimson', kind='bar')\n",
        "\n",
        "  ax[0].set_title('Count of Plays')\n",
        "  GameIddistinct.plot(ax=ax[1],color='darkmagenta', kind='bar')\n",
        "\n",
        "  ax[1].set_title('Count of Games')\n",
        "  NflIddistinct.plot(ax=ax[2],color='slateblue', kind='bar')\n",
        "\n",
        "  ax[2].set_title('Count of Player')\n",
        "\n",
        "  # plt.show()\n",
        "  plt.savefig('test.png')\n",
        "  return PIL.Image.open('test.png', 'r'), pandas_query, spark_query"
      ],
      "metadata": {
        "id": "2vVXGq_7mEKL"
      },
      "execution_count": 77,
      "outputs": []
    },
    {
      "cell_type": "code",
      "source": [
        "def Away_Home():\n",
        "  #Pandas\n",
        "  start = time.time()\n",
        "  df_team = df_train.loc[:,['PlayId', 'Team']].drop_duplicates()\n",
        "  teamcount = df_team[\"Team\"].value_counts()\n",
        "  end = time.time()\n",
        "  pandas_query = (end-start)\n",
        "\n",
        "  #Spark\n",
        "  start = time.time()\n",
        "  team_count = df.select('PlayId', 'Team').drop_duplicates().groupby('Team').count().orderBy('count', ascending=False)\n",
        "  end = time.time()\n",
        "  spark_query = (end-start)\n",
        "\n",
        "\n",
        "\n",
        "  team_count = team_count.toPandas()\n",
        "  print(team_count)\n",
        "  fig = px.bar(team_count, x='Team', y='count')\n",
        "  fig.update_layout(\n",
        "      title_text=\"Team (Away or Home)\", height=300, width=300)\n",
        "  fig.write_image(file='test.png', format='png')\n",
        "  return PIL.Image.open('test.png', 'r'), pandas_query, spark_query\n",
        "# fig.show()"
      ],
      "metadata": {
        "id": "zWjctZsuuGsP"
      },
      "execution_count": 78,
      "outputs": []
    },
    {
      "cell_type": "code",
      "source": [
        "def weight_height_fre():\n",
        "  #Pandas\n",
        "  start = time.time()\n",
        "  df_player = df_train.loc[:,['NflId', 'DisplayName', 'PlayerBirthDate', 'PlayerWeight', 'PlayerHeight', 'PlayerCollegeName']].drop_duplicates()\n",
        "  end = time.time()\n",
        "  pandas_query = (end-start)\n",
        "\n",
        "  #Spark\n",
        "  start = time.time()\n",
        "  df_player = df.select('NflId', 'DisplayName', 'PlayerBirthDate', 'PlayerWeight', 'PlayerHeight', 'PlayerCollegeName').drop_duplicates()\n",
        "  end = time.time()\n",
        "  spark_query = (end-start)\n",
        "\n",
        "  # df_player.show()\n",
        "\n",
        "  df_player = df_player.toPandas()\n",
        "  df_player = df_player.loc[:,['NflId', 'DisplayName', 'PlayerBirthDate', 'PlayerWeight', 'PlayerHeight', 'PlayerCollegeName']].drop_duplicates()\n",
        "  df_player[\"HeightFt\"] = df_player[\"PlayerHeight\"].str.split('-', expand=True)[0].astype(int)\n",
        "  df_player[\"HeightIn\"] = df_player[\"PlayerHeight\"].str.split('-', expand=True)[1].astype(int)\n",
        "  df_player[\"HeightCm\"] = df_player[\"HeightFt\"]*30.48 + df_player[\"HeightIn\"]*2.54\n",
        "  df_player['PlayerWeight'] = df_player['PlayerWeight'].astype(float)\n",
        "  df_player[\"WeightKg\"] = df_player[\"PlayerWeight\"]*0.45359237\n",
        "  df_height = df_player.groupby(['PlayerHeight','HeightFt','HeightIn']).size().reset_index().sort_values([\"HeightFt\", \"HeightIn\"])\n",
        "  df_height.columns = [\"PlayerHeight\",\"HeightFt\",\"HeightIn\",\"Count\"]\n",
        "\n",
        "\n",
        "  f,ax=plt.subplots(1,2,figsize=(13,5))\n",
        "  df_height.loc[:,[\"PlayerHeight\",\"Count\"]].set_index(\"PlayerHeight\").plot(ax=ax[0],color='slateblue', kind='bar')\n",
        "\n",
        "  ax[0].set_xlabel(\"Height\") \n",
        "  ax[0].set_ylabel(\"Count\") \n",
        "  ax[0].get_legend().remove()\n",
        "  ax[0].set_title('Player Height (ft-in)')\n",
        "\n",
        "  df_player.PlayerWeight.plot.hist(ax=ax[1],bins=30,edgecolor='black',color='steelblue')\n",
        "\n",
        "  ax[1].set_xlabel(\"Weight\") \n",
        "  ax[1].set_title('Player Weight (lbs)')\n",
        "  plt.savefig('test.png')\n",
        "  return PIL.Image.open('test.png', 'r'), pandas_query, spark_query\n",
        "# plt.show()"
      ],
      "metadata": {
        "id": "AU3ll3ufM3BC"
      },
      "execution_count": 79,
      "outputs": []
    },
    {
      "cell_type": "code",
      "source": [
        "def weight_height_corre():\n",
        "  #Pandas\n",
        "  start = time.time()\n",
        "  df_player = df_train.loc[:,['NflId', 'DisplayName', 'PlayerBirthDate', 'PlayerWeight', 'PlayerHeight', 'PlayerCollegeName']].drop_duplicates()\n",
        "  end = time.time()\n",
        "  pandas_query = (end-start)\n",
        "\n",
        "  #Spark\n",
        "  start = time.time()\n",
        "  df_player = df.select('NflId', 'DisplayName', 'PlayerBirthDate', 'PlayerWeight', 'PlayerHeight', 'PlayerCollegeName').drop_duplicates()\n",
        "  end = time.time()\n",
        "  spark_query = (end-start)\n",
        "\n",
        "  # df_player.show()\n",
        "\n",
        "  df_player = df_player.toPandas()\n",
        "  df_player = df_player.loc[:,['NflId', 'DisplayName', 'PlayerBirthDate', 'PlayerWeight', 'PlayerHeight', 'PlayerCollegeName']].drop_duplicates()\n",
        "  df_player[\"HeightFt\"] = df_player[\"PlayerHeight\"].str.split('-', expand=True)[0].astype(int)\n",
        "  df_player[\"HeightIn\"] = df_player[\"PlayerHeight\"].str.split('-', expand=True)[1].astype(int)\n",
        "  df_player[\"HeightCm\"] = df_player[\"HeightFt\"]*30.48 + df_player[\"HeightIn\"]*2.54\n",
        "  df_player['PlayerWeight'] = df_player['PlayerWeight'].astype(float)\n",
        "  df_player[\"WeightKg\"] = df_player[\"PlayerWeight\"]*0.45359237\n",
        "  df_height = df_player.groupby(['PlayerHeight','HeightFt','HeightIn']).size().reset_index().sort_values([\"HeightFt\", \"HeightIn\"])\n",
        "  df_height.columns = [\"PlayerHeight\",\"HeightFt\",\"HeightIn\",\"Count\"]\n",
        "\n",
        "  fig = go.Figure(data=go.Scattergl\n",
        "  (\n",
        "      x = df_player[\"HeightCm\"], \n",
        "      y = df_player[\"WeightKg\"],\n",
        "      mode='markers',\n",
        "      text = df_player['DisplayName'],\n",
        "      marker=dict(line_width=0.4),\n",
        "      marker_color='rgb(0,145,119)'))\n",
        "\n",
        "  fig.update_layout(title='Weight Height Correlation', height=600, width=800)\n",
        "  fig.update_xaxes(title_text=\"Height (Cm)\")\n",
        "  fig.update_yaxes(title_text=\"Weight (Kg)\")\n",
        "  fig.write_image(file='test.png', format='png')\n",
        "  return PIL.Image.open('test.png', 'r'), pandas_query, spark_query\n",
        "  # fig.show()"
      ],
      "metadata": {
        "id": "3DyhBsFFPlEw"
      },
      "execution_count": 80,
      "outputs": []
    },
    {
      "cell_type": "code",
      "source": [
        "def Player_Colleges_Fre():\n",
        "  #Pandas\n",
        "  start = time.time()\n",
        "  df_player = df_train.loc[:,['NflId', 'DisplayName', 'PlayerBirthDate', 'PlayerWeight', 'PlayerHeight', 'PlayerCollegeName']].drop_duplicates()\n",
        "  end = time.time()\n",
        "  pandas_query = (end-start)\n",
        "\n",
        "  #Spark\n",
        "  start = time.time()\n",
        "  df_player = df.select('NflId', 'DisplayName', 'PlayerBirthDate', 'PlayerWeight', 'PlayerHeight', 'PlayerCollegeName').drop_duplicates()\n",
        "  end = time.time()\n",
        "  spark_query = (end-start)\n",
        "\n",
        "  # df_player.show()\n",
        "\n",
        "\n",
        "  df_player = df_player.groupBy('PlayerCollegeName').count().orderBy('count')\n",
        "  Collage = df_player.toPandas()\n",
        "  print(Collage)\n",
        "  fig = px.treemap(Collage, path=['PlayerCollegeName'], values='count', color='count', title=\"Arrangement Of Colleges From Highest To Lowest Number Of Players\")\n",
        "  fig.write_image(file='test.png', format='png')\n",
        "  return PIL.Image.open('test.png', 'r'), pandas_query, spark_query\n",
        "  \"\"\"\n",
        "  df_CollageCount = pd.DataFrame({'College Name':Collage.index, 'Count':Collage.values}).sort_values(\"Count\", ascending = False).head(50)\n",
        "\n",
        "  fig = px.bar(df_CollageCount, x='College Name', y='Count', title=\"The 50 Top Colleges With The Most Players\", height=700, width=800)\n",
        "\n",
        "  fig.update_traces(marker_color='rgb(239, 117, 100)', marker_line_color='rgb(8,48,107)',\n",
        "                    marker_line_width=2, opacity=0.7)\n",
        "\n",
        "  \"\"\"# fig.show()"
      ],
      "metadata": {
        "id": "BBsyDK1mPnzQ"
      },
      "execution_count": 81,
      "outputs": []
    },
    {
      "cell_type": "code",
      "source": [
        "  def Quarter_Fre():\n",
        "    #Pandas\n",
        "    start = time.time()\n",
        "    df_quarter = df_train[\"Quarter\"].dropna().value_counts()\n",
        "    # print(df_quarter)\n",
        "    end = time.time()\n",
        "    pandas_query = (end-start)\n",
        "\n",
        "    #Spark\n",
        "    start = time.time()\n",
        "    df_quarter = df.select('Quarter').dropna().groupby('Quarter').count().orderBy('count', ascending=False)\n",
        "    # df_quarter.show()\n",
        "    end = time.time()\n",
        "    spark_query = (end-start)\n",
        "\n",
        "    df_quarter = df_quarter.toPandas()\n",
        "    fig = px.bar(df_quarter, x=\"Quarter\", y=\"count\", title=\"Distinct Count Of NFL Game Quarters\", color=\"Quarter\")\n",
        "    fig.write_image(file='test.png', format='png')\n",
        "    # fig.show()\n",
        "    return PIL.Image.open('test.png', 'r'), pandas_query, spark_query"
      ],
      "metadata": {
        "id": "5_6dYc8q0ZNL"
      },
      "execution_count": 82,
      "outputs": []
    },
    {
      "cell_type": "code",
      "source": [
        "#Game Id = 2018123000 and Position = RB\n",
        "def Position_index_Game():\n",
        "  #Pandas\n",
        "  start = time.time()\n",
        "  position_player = df_train[(df_train['GameId'] == 2018123000) & (df_train['Position'] == 'RB')]\n",
        "  end = time.time()\n",
        "  pandas_query = end-start\n",
        "  #Spark\n",
        "  start = time.time()\n",
        "  position_player = df.filter(df.GameId == 2018123000).filter(df.Position == 'RB')\n",
        "  end = time.time()\n",
        "  spark_query = end-start\n",
        "\n",
        "  position_player = position_player.select(\"X\", \"Y\", \"Team\")\n",
        "  position_player = position_player.toPandas()\n",
        "  position_player['X'] = position_player['X'].astype(\"float\")\n",
        "  position_player['Y'] = position_player['Y'].astype(\"float\")\n",
        "  position_player = position_player.sort_values([\"X\", \"Y\"],ascending = [True, True])\n",
        "\n",
        "  fig = px.scatter(position_player, x=\"X\", y=\"Y\", color=\"Team\")\n",
        "  fig.write_image(file='test.png', format='png')\n",
        "  return PIL.Image.open('test.png', 'r'), pandas_query, spark_query\n",
        "\n",
        "\n"
      ],
      "metadata": {
        "id": "52prH9Uw4tgW"
      },
      "execution_count": 83,
      "outputs": []
    },
    {
      "cell_type": "code",
      "source": [
        "def Visuallize_A_Game():\n",
        "  df_test = df_train\n",
        "  # df_test['TimeSnap'] = pd.DatetimeIndex(df_test['TimeSnap'])\n",
        "  rslt_df = df_test[df_test['TimeSnap'].str.contains('2018-10-09')]\n",
        "  # print(rslt_df.head())\n",
        "  fig = px.scatter(rslt_df, x=\"X\", y=\"Y\", animation_frame=\"TimeSnap\", color=\"Team\")\n",
        "  fig.show()"
      ],
      "metadata": {
        "id": "TeZ5UyKPB2ez"
      },
      "execution_count": 84,
      "outputs": []
    },
    {
      "cell_type": "code",
      "source": [
        "def Visuallize_A_Player_Game():\n",
        "  df_test = df_train\n",
        "  # df_test['TimeSnap'] = pd.DatetimeIndex(df_test['TimeSnap'])\n",
        "  rslt_df = df_test[(df_test['TimeSnap'].str.contains('2018-10-09')) & (df_test['Position']==\"CB\")]\n",
        "  # print(rslt_df.head())\n",
        "  fig = px.scatter(rslt_df, x=\"X\", y=\"Y\", animation_frame=\"TimeSnap\", color=\"Team\")\n",
        "  fig.show()"
      ],
      "metadata": {
        "id": "a6EYcl55G9i_"
      },
      "execution_count": 85,
      "outputs": []
    },
    {
      "cell_type": "code",
      "source": [
        "Visuallize_A_Game()\n",
        "Visuallize_A_Player_Game()"
      ],
      "metadata": {
        "colab": {
          "base_uri": "https://localhost:8080/",
          "height": 1000
        },
        "id": "Las-MLwhtEdf",
        "outputId": "2bbd6d23-e21c-455e-a838-543369ccfb72"
      },
      "execution_count": 86,
      "outputs": [
        {
          "output_type": "display_data",
          "data": {
            "text/html": [
              "<html>\n",
              "<head><meta charset=\"utf-8\" /></head>\n",
              "<body>\n",
              "    <div>            <script src=\"https://cdnjs.cloudflare.com/ajax/libs/mathjax/2.7.5/MathJax.js?config=TeX-AMS-MML_SVG\"></script><script type=\"text/javascript\">if (window.MathJax) {MathJax.Hub.Config({SVG: {font: \"STIX-Web\"}});}</script>                <script type=\"text/javascript\">window.PlotlyConfig = {MathJaxConfig: 'local'};</script>\n",
              "        <script src=\"https://cdn.plot.ly/plotly-2.8.3.min.js\"></script>                <div id=\"d691d935-31a8-4601-9b43-5932986fef5d\" class=\"plotly-graph-div\" style=\"height:525px; width:100%;\"></div>            <script type=\"text/javascript\">                                    window.PLOTLYENV=window.PLOTLYENV || {};                                    if (document.getElementById(\"d691d935-31a8-4601-9b43-5932986fef5d\")) {                    Plotly.newPlot(                        \"d691d935-31a8-4601-9b43-5932986fef5d\",                        [{\"hovertemplate\":\"Team=away<br>TimeSnap=2018-10-09T00:20:12.000Z<br>X=%{x}<br>Y=%{y}<extra></extra>\",\"legendgroup\":\"away\",\"marker\":{\"color\":\"#636efa\",\"symbol\":\"circle\"},\"mode\":\"markers\",\"name\":\"away\",\"orientation\":\"v\",\"showlegend\":true,\"x\":[43.29,48.63,49.79,46.46,50.94,46.25,51.54,45.19,46.88,57.55,46.41],\"xaxis\":\"x\",\"y\":[25.46,33.36,30.7,20.74,25.52,35.09,37.35,28.49,31.8,33.56,29.03],\"yaxis\":\"y\",\"type\":\"scatter\"},{\"hovertemplate\":\"Team=home<br>TimeSnap=2018-10-09T00:20:12.000Z<br>X=%{x}<br>Y=%{y}<extra></extra>\",\"legendgroup\":\"home\",\"marker\":{\"color\":\"#EF553B\",\"symbol\":\"circle\"},\"mode\":\"markers\",\"name\":\"home\",\"orientation\":\"v\",\"showlegend\":true,\"x\":[44.46,40.71,41.0,45.54,46.31,44.79,46.37,46.07,45.74,43.51,43.43],\"xaxis\":\"x\",\"y\":[29.02,30.86,30.05,34.96,32.46,31.07,31.58,29.64,21.2,27.05,37.57],\"yaxis\":\"y\",\"type\":\"scatter\"}],                        {\"template\":{\"data\":{\"bar\":[{\"error_x\":{\"color\":\"#2a3f5f\"},\"error_y\":{\"color\":\"#2a3f5f\"},\"marker\":{\"line\":{\"color\":\"#E5ECF6\",\"width\":0.5},\"pattern\":{\"fillmode\":\"overlay\",\"size\":10,\"solidity\":0.2}},\"type\":\"bar\"}],\"barpolar\":[{\"marker\":{\"line\":{\"color\":\"#E5ECF6\",\"width\":0.5},\"pattern\":{\"fillmode\":\"overlay\",\"size\":10,\"solidity\":0.2}},\"type\":\"barpolar\"}],\"carpet\":[{\"aaxis\":{\"endlinecolor\":\"#2a3f5f\",\"gridcolor\":\"white\",\"linecolor\":\"white\",\"minorgridcolor\":\"white\",\"startlinecolor\":\"#2a3f5f\"},\"baxis\":{\"endlinecolor\":\"#2a3f5f\",\"gridcolor\":\"white\",\"linecolor\":\"white\",\"minorgridcolor\":\"white\",\"startlinecolor\":\"#2a3f5f\"},\"type\":\"carpet\"}],\"choropleth\":[{\"colorbar\":{\"outlinewidth\":0,\"ticks\":\"\"},\"type\":\"choropleth\"}],\"contour\":[{\"colorbar\":{\"outlinewidth\":0,\"ticks\":\"\"},\"colorscale\":[[0.0,\"#0d0887\"],[0.1111111111111111,\"#46039f\"],[0.2222222222222222,\"#7201a8\"],[0.3333333333333333,\"#9c179e\"],[0.4444444444444444,\"#bd3786\"],[0.5555555555555556,\"#d8576b\"],[0.6666666666666666,\"#ed7953\"],[0.7777777777777778,\"#fb9f3a\"],[0.8888888888888888,\"#fdca26\"],[1.0,\"#f0f921\"]],\"type\":\"contour\"}],\"contourcarpet\":[{\"colorbar\":{\"outlinewidth\":0,\"ticks\":\"\"},\"type\":\"contourcarpet\"}],\"heatmap\":[{\"colorbar\":{\"outlinewidth\":0,\"ticks\":\"\"},\"colorscale\":[[0.0,\"#0d0887\"],[0.1111111111111111,\"#46039f\"],[0.2222222222222222,\"#7201a8\"],[0.3333333333333333,\"#9c179e\"],[0.4444444444444444,\"#bd3786\"],[0.5555555555555556,\"#d8576b\"],[0.6666666666666666,\"#ed7953\"],[0.7777777777777778,\"#fb9f3a\"],[0.8888888888888888,\"#fdca26\"],[1.0,\"#f0f921\"]],\"type\":\"heatmap\"}],\"heatmapgl\":[{\"colorbar\":{\"outlinewidth\":0,\"ticks\":\"\"},\"colorscale\":[[0.0,\"#0d0887\"],[0.1111111111111111,\"#46039f\"],[0.2222222222222222,\"#7201a8\"],[0.3333333333333333,\"#9c179e\"],[0.4444444444444444,\"#bd3786\"],[0.5555555555555556,\"#d8576b\"],[0.6666666666666666,\"#ed7953\"],[0.7777777777777778,\"#fb9f3a\"],[0.8888888888888888,\"#fdca26\"],[1.0,\"#f0f921\"]],\"type\":\"heatmapgl\"}],\"histogram\":[{\"marker\":{\"pattern\":{\"fillmode\":\"overlay\",\"size\":10,\"solidity\":0.2}},\"type\":\"histogram\"}],\"histogram2d\":[{\"colorbar\":{\"outlinewidth\":0,\"ticks\":\"\"},\"colorscale\":[[0.0,\"#0d0887\"],[0.1111111111111111,\"#46039f\"],[0.2222222222222222,\"#7201a8\"],[0.3333333333333333,\"#9c179e\"],[0.4444444444444444,\"#bd3786\"],[0.5555555555555556,\"#d8576b\"],[0.6666666666666666,\"#ed7953\"],[0.7777777777777778,\"#fb9f3a\"],[0.8888888888888888,\"#fdca26\"],[1.0,\"#f0f921\"]],\"type\":\"histogram2d\"}],\"histogram2dcontour\":[{\"colorbar\":{\"outlinewidth\":0,\"ticks\":\"\"},\"colorscale\":[[0.0,\"#0d0887\"],[0.1111111111111111,\"#46039f\"],[0.2222222222222222,\"#7201a8\"],[0.3333333333333333,\"#9c179e\"],[0.4444444444444444,\"#bd3786\"],[0.5555555555555556,\"#d8576b\"],[0.6666666666666666,\"#ed7953\"],[0.7777777777777778,\"#fb9f3a\"],[0.8888888888888888,\"#fdca26\"],[1.0,\"#f0f921\"]],\"type\":\"histogram2dcontour\"}],\"mesh3d\":[{\"colorbar\":{\"outlinewidth\":0,\"ticks\":\"\"},\"type\":\"mesh3d\"}],\"parcoords\":[{\"line\":{\"colorbar\":{\"outlinewidth\":0,\"ticks\":\"\"}},\"type\":\"parcoords\"}],\"pie\":[{\"automargin\":true,\"type\":\"pie\"}],\"scatter\":[{\"marker\":{\"colorbar\":{\"outlinewidth\":0,\"ticks\":\"\"}},\"type\":\"scatter\"}],\"scatter3d\":[{\"line\":{\"colorbar\":{\"outlinewidth\":0,\"ticks\":\"\"}},\"marker\":{\"colorbar\":{\"outlinewidth\":0,\"ticks\":\"\"}},\"type\":\"scatter3d\"}],\"scattercarpet\":[{\"marker\":{\"colorbar\":{\"outlinewidth\":0,\"ticks\":\"\"}},\"type\":\"scattercarpet\"}],\"scattergeo\":[{\"marker\":{\"colorbar\":{\"outlinewidth\":0,\"ticks\":\"\"}},\"type\":\"scattergeo\"}],\"scattergl\":[{\"marker\":{\"colorbar\":{\"outlinewidth\":0,\"ticks\":\"\"}},\"type\":\"scattergl\"}],\"scattermapbox\":[{\"marker\":{\"colorbar\":{\"outlinewidth\":0,\"ticks\":\"\"}},\"type\":\"scattermapbox\"}],\"scatterpolar\":[{\"marker\":{\"colorbar\":{\"outlinewidth\":0,\"ticks\":\"\"}},\"type\":\"scatterpolar\"}],\"scatterpolargl\":[{\"marker\":{\"colorbar\":{\"outlinewidth\":0,\"ticks\":\"\"}},\"type\":\"scatterpolargl\"}],\"scatterternary\":[{\"marker\":{\"colorbar\":{\"outlinewidth\":0,\"ticks\":\"\"}},\"type\":\"scatterternary\"}],\"surface\":[{\"colorbar\":{\"outlinewidth\":0,\"ticks\":\"\"},\"colorscale\":[[0.0,\"#0d0887\"],[0.1111111111111111,\"#46039f\"],[0.2222222222222222,\"#7201a8\"],[0.3333333333333333,\"#9c179e\"],[0.4444444444444444,\"#bd3786\"],[0.5555555555555556,\"#d8576b\"],[0.6666666666666666,\"#ed7953\"],[0.7777777777777778,\"#fb9f3a\"],[0.8888888888888888,\"#fdca26\"],[1.0,\"#f0f921\"]],\"type\":\"surface\"}],\"table\":[{\"cells\":{\"fill\":{\"color\":\"#EBF0F8\"},\"line\":{\"color\":\"white\"}},\"header\":{\"fill\":{\"color\":\"#C8D4E3\"},\"line\":{\"color\":\"white\"}},\"type\":\"table\"}]},\"layout\":{\"annotationdefaults\":{\"arrowcolor\":\"#2a3f5f\",\"arrowhead\":0,\"arrowwidth\":1},\"autotypenumbers\":\"strict\",\"coloraxis\":{\"colorbar\":{\"outlinewidth\":0,\"ticks\":\"\"}},\"colorscale\":{\"diverging\":[[0,\"#8e0152\"],[0.1,\"#c51b7d\"],[0.2,\"#de77ae\"],[0.3,\"#f1b6da\"],[0.4,\"#fde0ef\"],[0.5,\"#f7f7f7\"],[0.6,\"#e6f5d0\"],[0.7,\"#b8e186\"],[0.8,\"#7fbc41\"],[0.9,\"#4d9221\"],[1,\"#276419\"]],\"sequential\":[[0.0,\"#0d0887\"],[0.1111111111111111,\"#46039f\"],[0.2222222222222222,\"#7201a8\"],[0.3333333333333333,\"#9c179e\"],[0.4444444444444444,\"#bd3786\"],[0.5555555555555556,\"#d8576b\"],[0.6666666666666666,\"#ed7953\"],[0.7777777777777778,\"#fb9f3a\"],[0.8888888888888888,\"#fdca26\"],[1.0,\"#f0f921\"]],\"sequentialminus\":[[0.0,\"#0d0887\"],[0.1111111111111111,\"#46039f\"],[0.2222222222222222,\"#7201a8\"],[0.3333333333333333,\"#9c179e\"],[0.4444444444444444,\"#bd3786\"],[0.5555555555555556,\"#d8576b\"],[0.6666666666666666,\"#ed7953\"],[0.7777777777777778,\"#fb9f3a\"],[0.8888888888888888,\"#fdca26\"],[1.0,\"#f0f921\"]]},\"colorway\":[\"#636efa\",\"#EF553B\",\"#00cc96\",\"#ab63fa\",\"#FFA15A\",\"#19d3f3\",\"#FF6692\",\"#B6E880\",\"#FF97FF\",\"#FECB52\"],\"font\":{\"color\":\"#2a3f5f\"},\"geo\":{\"bgcolor\":\"white\",\"lakecolor\":\"white\",\"landcolor\":\"#E5ECF6\",\"showlakes\":true,\"showland\":true,\"subunitcolor\":\"white\"},\"hoverlabel\":{\"align\":\"left\"},\"hovermode\":\"closest\",\"mapbox\":{\"style\":\"light\"},\"paper_bgcolor\":\"white\",\"plot_bgcolor\":\"#E5ECF6\",\"polar\":{\"angularaxis\":{\"gridcolor\":\"white\",\"linecolor\":\"white\",\"ticks\":\"\"},\"bgcolor\":\"#E5ECF6\",\"radialaxis\":{\"gridcolor\":\"white\",\"linecolor\":\"white\",\"ticks\":\"\"}},\"scene\":{\"xaxis\":{\"backgroundcolor\":\"#E5ECF6\",\"gridcolor\":\"white\",\"gridwidth\":2,\"linecolor\":\"white\",\"showbackground\":true,\"ticks\":\"\",\"zerolinecolor\":\"white\"},\"yaxis\":{\"backgroundcolor\":\"#E5ECF6\",\"gridcolor\":\"white\",\"gridwidth\":2,\"linecolor\":\"white\",\"showbackground\":true,\"ticks\":\"\",\"zerolinecolor\":\"white\"},\"zaxis\":{\"backgroundcolor\":\"#E5ECF6\",\"gridcolor\":\"white\",\"gridwidth\":2,\"linecolor\":\"white\",\"showbackground\":true,\"ticks\":\"\",\"zerolinecolor\":\"white\"}},\"shapedefaults\":{\"line\":{\"color\":\"#2a3f5f\"}},\"ternary\":{\"aaxis\":{\"gridcolor\":\"white\",\"linecolor\":\"white\",\"ticks\":\"\"},\"baxis\":{\"gridcolor\":\"white\",\"linecolor\":\"white\",\"ticks\":\"\"},\"bgcolor\":\"#E5ECF6\",\"caxis\":{\"gridcolor\":\"white\",\"linecolor\":\"white\",\"ticks\":\"\"}},\"title\":{\"x\":0.05},\"xaxis\":{\"automargin\":true,\"gridcolor\":\"white\",\"linecolor\":\"white\",\"ticks\":\"\",\"title\":{\"standoff\":15},\"zerolinecolor\":\"white\",\"zerolinewidth\":2},\"yaxis\":{\"automargin\":true,\"gridcolor\":\"white\",\"linecolor\":\"white\",\"ticks\":\"\",\"title\":{\"standoff\":15},\"zerolinecolor\":\"white\",\"zerolinewidth\":2}}},\"xaxis\":{\"anchor\":\"y\",\"domain\":[0.0,1.0],\"title\":{\"text\":\"X\"}},\"yaxis\":{\"anchor\":\"x\",\"domain\":[0.0,1.0],\"title\":{\"text\":\"Y\"}},\"legend\":{\"title\":{\"text\":\"Team\"},\"tracegroupgap\":0},\"margin\":{\"t\":60},\"updatemenus\":[{\"buttons\":[{\"args\":[null,{\"frame\":{\"duration\":500,\"redraw\":false},\"mode\":\"immediate\",\"fromcurrent\":true,\"transition\":{\"duration\":500,\"easing\":\"linear\"}}],\"label\":\"&#9654;\",\"method\":\"animate\"},{\"args\":[[null],{\"frame\":{\"duration\":0,\"redraw\":false},\"mode\":\"immediate\",\"fromcurrent\":true,\"transition\":{\"duration\":0,\"easing\":\"linear\"}}],\"label\":\"&#9724;\",\"method\":\"animate\"}],\"direction\":\"left\",\"pad\":{\"r\":10,\"t\":70},\"showactive\":false,\"type\":\"buttons\",\"x\":0.1,\"xanchor\":\"right\",\"y\":0,\"yanchor\":\"top\"}],\"sliders\":[{\"active\":0,\"currentvalue\":{\"prefix\":\"TimeSnap=\"},\"len\":0.9,\"pad\":{\"b\":10,\"t\":60},\"steps\":[{\"args\":[[\"2018-10-09T00:20:12.000Z\"],{\"frame\":{\"duration\":0,\"redraw\":false},\"mode\":\"immediate\",\"fromcurrent\":true,\"transition\":{\"duration\":0,\"easing\":\"linear\"}}],\"label\":\"2018-10-09T00:20:12.000Z\",\"method\":\"animate\"},{\"args\":[[\"2018-10-09T00:20:40.000Z\"],{\"frame\":{\"duration\":0,\"redraw\":false},\"mode\":\"immediate\",\"fromcurrent\":true,\"transition\":{\"duration\":0,\"easing\":\"linear\"}}],\"label\":\"2018-10-09T00:20:40.000Z\",\"method\":\"animate\"},{\"args\":[[\"2018-10-09T00:22:51.000Z\"],{\"frame\":{\"duration\":0,\"redraw\":false},\"mode\":\"immediate\",\"fromcurrent\":true,\"transition\":{\"duration\":0,\"easing\":\"linear\"}}],\"label\":\"2018-10-09T00:22:51.000Z\",\"method\":\"animate\"},{\"args\":[[\"2018-10-09T00:24:17.000Z\"],{\"frame\":{\"duration\":0,\"redraw\":false},\"mode\":\"immediate\",\"fromcurrent\":true,\"transition\":{\"duration\":0,\"easing\":\"linear\"}}],\"label\":\"2018-10-09T00:24:17.000Z\",\"method\":\"animate\"},{\"args\":[[\"2018-10-09T00:28:32.000Z\"],{\"frame\":{\"duration\":0,\"redraw\":false},\"mode\":\"immediate\",\"fromcurrent\":true,\"transition\":{\"duration\":0,\"easing\":\"linear\"}}],\"label\":\"2018-10-09T00:28:32.000Z\",\"method\":\"animate\"},{\"args\":[[\"2018-10-09T00:32:55.000Z\"],{\"frame\":{\"duration\":0,\"redraw\":false},\"mode\":\"immediate\",\"fromcurrent\":true,\"transition\":{\"duration\":0,\"easing\":\"linear\"}}],\"label\":\"2018-10-09T00:32:55.000Z\",\"method\":\"animate\"},{\"args\":[[\"2018-10-09T00:34:29.000Z\"],{\"frame\":{\"duration\":0,\"redraw\":false},\"mode\":\"immediate\",\"fromcurrent\":true,\"transition\":{\"duration\":0,\"easing\":\"linear\"}}],\"label\":\"2018-10-09T00:34:29.000Z\",\"method\":\"animate\"},{\"args\":[[\"2018-10-09T00:36:39.000Z\"],{\"frame\":{\"duration\":0,\"redraw\":false},\"mode\":\"immediate\",\"fromcurrent\":true,\"transition\":{\"duration\":0,\"easing\":\"linear\"}}],\"label\":\"2018-10-09T00:36:39.000Z\",\"method\":\"animate\"},{\"args\":[[\"2018-10-09T00:40:11.000Z\"],{\"frame\":{\"duration\":0,\"redraw\":false},\"mode\":\"immediate\",\"fromcurrent\":true,\"transition\":{\"duration\":0,\"easing\":\"linear\"}}],\"label\":\"2018-10-09T00:40:11.000Z\",\"method\":\"animate\"},{\"args\":[[\"2018-10-09T00:46:38.000Z\"],{\"frame\":{\"duration\":0,\"redraw\":false},\"mode\":\"immediate\",\"fromcurrent\":true,\"transition\":{\"duration\":0,\"easing\":\"linear\"}}],\"label\":\"2018-10-09T00:46:38.000Z\",\"method\":\"animate\"},{\"args\":[[\"2018-10-09T00:48:01.000Z\"],{\"frame\":{\"duration\":0,\"redraw\":false},\"mode\":\"immediate\",\"fromcurrent\":true,\"transition\":{\"duration\":0,\"easing\":\"linear\"}}],\"label\":\"2018-10-09T00:48:01.000Z\",\"method\":\"animate\"},{\"args\":[[\"2018-10-09T00:56:54.000Z\"],{\"frame\":{\"duration\":0,\"redraw\":false},\"mode\":\"immediate\",\"fromcurrent\":true,\"transition\":{\"duration\":0,\"easing\":\"linear\"}}],\"label\":\"2018-10-09T00:56:54.000Z\",\"method\":\"animate\"},{\"args\":[[\"2018-10-09T01:04:49.000Z\"],{\"frame\":{\"duration\":0,\"redraw\":false},\"mode\":\"immediate\",\"fromcurrent\":true,\"transition\":{\"duration\":0,\"easing\":\"linear\"}}],\"label\":\"2018-10-09T01:04:49.000Z\",\"method\":\"animate\"},{\"args\":[[\"2018-10-09T01:08:57.000Z\"],{\"frame\":{\"duration\":0,\"redraw\":false},\"mode\":\"immediate\",\"fromcurrent\":true,\"transition\":{\"duration\":0,\"easing\":\"linear\"}}],\"label\":\"2018-10-09T01:08:57.000Z\",\"method\":\"animate\"},{\"args\":[[\"2018-10-09T01:15:56.000Z\"],{\"frame\":{\"duration\":0,\"redraw\":false},\"mode\":\"immediate\",\"fromcurrent\":true,\"transition\":{\"duration\":0,\"easing\":\"linear\"}}],\"label\":\"2018-10-09T01:15:56.000Z\",\"method\":\"animate\"},{\"args\":[[\"2018-10-09T01:18:51.000Z\"],{\"frame\":{\"duration\":0,\"redraw\":false},\"mode\":\"immediate\",\"fromcurrent\":true,\"transition\":{\"duration\":0,\"easing\":\"linear\"}}],\"label\":\"2018-10-09T01:18:51.000Z\",\"method\":\"animate\"},{\"args\":[[\"2018-10-09T01:21:59.000Z\"],{\"frame\":{\"duration\":0,\"redraw\":false},\"mode\":\"immediate\",\"fromcurrent\":true,\"transition\":{\"duration\":0,\"easing\":\"linear\"}}],\"label\":\"2018-10-09T01:21:59.000Z\",\"method\":\"animate\"},{\"args\":[[\"2018-10-09T01:22:37.000Z\"],{\"frame\":{\"duration\":0,\"redraw\":false},\"mode\":\"immediate\",\"fromcurrent\":true,\"transition\":{\"duration\":0,\"easing\":\"linear\"}}],\"label\":\"2018-10-09T01:22:37.000Z\",\"method\":\"animate\"},{\"args\":[[\"2018-10-09T01:49:56.000Z\"],{\"frame\":{\"duration\":0,\"redraw\":false},\"mode\":\"immediate\",\"fromcurrent\":true,\"transition\":{\"duration\":0,\"easing\":\"linear\"}}],\"label\":\"2018-10-09T01:49:56.000Z\",\"method\":\"animate\"},{\"args\":[[\"2018-10-09T02:09:22.000Z\"],{\"frame\":{\"duration\":0,\"redraw\":false},\"mode\":\"immediate\",\"fromcurrent\":true,\"transition\":{\"duration\":0,\"easing\":\"linear\"}}],\"label\":\"2018-10-09T02:09:22.000Z\",\"method\":\"animate\"},{\"args\":[[\"2018-10-09T02:10:37.000Z\"],{\"frame\":{\"duration\":0,\"redraw\":false},\"mode\":\"immediate\",\"fromcurrent\":true,\"transition\":{\"duration\":0,\"easing\":\"linear\"}}],\"label\":\"2018-10-09T02:10:37.000Z\",\"method\":\"animate\"},{\"args\":[[\"2018-10-09T02:17:52.000Z\"],{\"frame\":{\"duration\":0,\"redraw\":false},\"mode\":\"immediate\",\"fromcurrent\":true,\"transition\":{\"duration\":0,\"easing\":\"linear\"}}],\"label\":\"2018-10-09T02:17:52.000Z\",\"method\":\"animate\"},{\"args\":[[\"2018-10-09T02:19:09.000Z\"],{\"frame\":{\"duration\":0,\"redraw\":false},\"mode\":\"immediate\",\"fromcurrent\":true,\"transition\":{\"duration\":0,\"easing\":\"linear\"}}],\"label\":\"2018-10-09T02:19:09.000Z\",\"method\":\"animate\"},{\"args\":[[\"2018-10-09T02:20:34.000Z\"],{\"frame\":{\"duration\":0,\"redraw\":false},\"mode\":\"immediate\",\"fromcurrent\":true,\"transition\":{\"duration\":0,\"easing\":\"linear\"}}],\"label\":\"2018-10-09T02:20:34.000Z\",\"method\":\"animate\"},{\"args\":[[\"2018-10-09T02:31:01.000Z\"],{\"frame\":{\"duration\":0,\"redraw\":false},\"mode\":\"immediate\",\"fromcurrent\":true,\"transition\":{\"duration\":0,\"easing\":\"linear\"}}],\"label\":\"2018-10-09T02:31:01.000Z\",\"method\":\"animate\"},{\"args\":[[\"2018-10-09T02:33:31.000Z\"],{\"frame\":{\"duration\":0,\"redraw\":false},\"mode\":\"immediate\",\"fromcurrent\":true,\"transition\":{\"duration\":0,\"easing\":\"linear\"}}],\"label\":\"2018-10-09T02:33:31.000Z\",\"method\":\"animate\"},{\"args\":[[\"2018-10-09T02:40:47.000Z\"],{\"frame\":{\"duration\":0,\"redraw\":false},\"mode\":\"immediate\",\"fromcurrent\":true,\"transition\":{\"duration\":0,\"easing\":\"linear\"}}],\"label\":\"2018-10-09T02:40:47.000Z\",\"method\":\"animate\"},{\"args\":[[\"2018-10-09T02:46:45.000Z\"],{\"frame\":{\"duration\":0,\"redraw\":false},\"mode\":\"immediate\",\"fromcurrent\":true,\"transition\":{\"duration\":0,\"easing\":\"linear\"}}],\"label\":\"2018-10-09T02:46:45.000Z\",\"method\":\"animate\"},{\"args\":[[\"2018-10-09T02:52:36.000Z\"],{\"frame\":{\"duration\":0,\"redraw\":false},\"mode\":\"immediate\",\"fromcurrent\":true,\"transition\":{\"duration\":0,\"easing\":\"linear\"}}],\"label\":\"2018-10-09T02:52:36.000Z\",\"method\":\"animate\"},{\"args\":[[\"2018-10-09T02:56:26.000Z\"],{\"frame\":{\"duration\":0,\"redraw\":false},\"mode\":\"immediate\",\"fromcurrent\":true,\"transition\":{\"duration\":0,\"easing\":\"linear\"}}],\"label\":\"2018-10-09T02:56:26.000Z\",\"method\":\"animate\"},{\"args\":[[\"2018-10-09T02:59:47.000Z\"],{\"frame\":{\"duration\":0,\"redraw\":false},\"mode\":\"immediate\",\"fromcurrent\":true,\"transition\":{\"duration\":0,\"easing\":\"linear\"}}],\"label\":\"2018-10-09T02:59:47.000Z\",\"method\":\"animate\"},{\"args\":[[\"2018-10-09T03:04:40.000Z\"],{\"frame\":{\"duration\":0,\"redraw\":false},\"mode\":\"immediate\",\"fromcurrent\":true,\"transition\":{\"duration\":0,\"easing\":\"linear\"}}],\"label\":\"2018-10-09T03:04:40.000Z\",\"method\":\"animate\"},{\"args\":[[\"2018-10-09T03:05:27.000Z\"],{\"frame\":{\"duration\":0,\"redraw\":false},\"mode\":\"immediate\",\"fromcurrent\":true,\"transition\":{\"duration\":0,\"easing\":\"linear\"}}],\"label\":\"2018-10-09T03:05:27.000Z\",\"method\":\"animate\"},{\"args\":[[\"2018-10-09T03:06:52.000Z\"],{\"frame\":{\"duration\":0,\"redraw\":false},\"mode\":\"immediate\",\"fromcurrent\":true,\"transition\":{\"duration\":0,\"easing\":\"linear\"}}],\"label\":\"2018-10-09T03:06:52.000Z\",\"method\":\"animate\"},{\"args\":[[\"2018-10-09T03:08:21.000Z\"],{\"frame\":{\"duration\":0,\"redraw\":false},\"mode\":\"immediate\",\"fromcurrent\":true,\"transition\":{\"duration\":0,\"easing\":\"linear\"}}],\"label\":\"2018-10-09T03:08:21.000Z\",\"method\":\"animate\"},{\"args\":[[\"2018-10-09T03:09:56.000Z\"],{\"frame\":{\"duration\":0,\"redraw\":false},\"mode\":\"immediate\",\"fromcurrent\":true,\"transition\":{\"duration\":0,\"easing\":\"linear\"}}],\"label\":\"2018-10-09T03:09:56.000Z\",\"method\":\"animate\"},{\"args\":[[\"2018-10-09T03:12:09.000Z\"],{\"frame\":{\"duration\":0,\"redraw\":false},\"mode\":\"immediate\",\"fromcurrent\":true,\"transition\":{\"duration\":0,\"easing\":\"linear\"}}],\"label\":\"2018-10-09T03:12:09.000Z\",\"method\":\"animate\"},{\"args\":[[\"2018-10-09T03:12:48.000Z\"],{\"frame\":{\"duration\":0,\"redraw\":false},\"mode\":\"immediate\",\"fromcurrent\":true,\"transition\":{\"duration\":0,\"easing\":\"linear\"}}],\"label\":\"2018-10-09T03:12:48.000Z\",\"method\":\"animate\"}],\"x\":0.1,\"xanchor\":\"left\",\"y\":0,\"yanchor\":\"top\"}]},                        {\"responsive\": true}                    ).then(function(){\n",
              "                            Plotly.addFrames('d691d935-31a8-4601-9b43-5932986fef5d', [{\"data\":[{\"hovertemplate\":\"Team=away<br>TimeSnap=2018-10-09T00:20:12.000Z<br>X=%{x}<br>Y=%{y}<extra></extra>\",\"legendgroup\":\"away\",\"marker\":{\"color\":\"#636efa\",\"symbol\":\"circle\"},\"mode\":\"markers\",\"name\":\"away\",\"orientation\":\"v\",\"showlegend\":true,\"x\":[43.29,48.63,49.79,46.46,50.94,46.25,51.54,45.19,46.88,57.55,46.41],\"xaxis\":\"x\",\"y\":[25.46,33.36,30.7,20.74,25.52,35.09,37.35,28.49,31.8,33.56,29.03],\"yaxis\":\"y\",\"type\":\"scatter\"},{\"hovertemplate\":\"Team=home<br>TimeSnap=2018-10-09T00:20:12.000Z<br>X=%{x}<br>Y=%{y}<extra></extra>\",\"legendgroup\":\"home\",\"marker\":{\"color\":\"#EF553B\",\"symbol\":\"circle\"},\"mode\":\"markers\",\"name\":\"home\",\"orientation\":\"v\",\"showlegend\":true,\"x\":[44.46,40.71,41.0,45.54,46.31,44.79,46.37,46.07,45.74,43.51,43.43],\"xaxis\":\"x\",\"y\":[29.02,30.86,30.05,34.96,32.46,31.07,31.58,29.64,21.2,27.05,37.57],\"yaxis\":\"y\",\"type\":\"scatter\"}],\"name\":\"2018-10-09T00:20:12.000Z\"},{\"data\":[{\"hovertemplate\":\"Team=away<br>TimeSnap=2018-10-09T00:20:40.000Z<br>X=%{x}<br>Y=%{y}<extra></extra>\",\"legendgroup\":\"away\",\"marker\":{\"color\":\"#636efa\",\"symbol\":\"circle\"},\"mode\":\"markers\",\"name\":\"away\",\"orientation\":\"v\",\"showlegend\":true,\"x\":[47.95,50.94,51.63,50.65,58.46,49.46,54.74,48.46,51.86,50.77,49.14],\"xaxis\":\"x\",\"y\":[22.77,24.04,27.66,8.92,22.9,30.7,33.22,28.79,32.89,15.29,25.22],\"yaxis\":\"y\",\"type\":\"scatter\"},{\"hovertemplate\":\"Team=home<br>TimeSnap=2018-10-09T00:20:40.000Z<br>X=%{x}<br>Y=%{y}<extra></extra>\",\"legendgroup\":\"home\",\"marker\":{\"color\":\"#EF553B\",\"symbol\":\"circle\"},\"mode\":\"markers\",\"name\":\"home\",\"orientation\":\"v\",\"showlegend\":true,\"x\":[48.66,44.59,48.52,48.23,47.66,49.68,49.17,47.37,43.52,50.16,49.79],\"xaxis\":\"x\",\"y\":[25.84,27.58,31.09,24.86,28.78,27.54,8.81,23.11,26.89,21.61,15.24],\"yaxis\":\"y\",\"type\":\"scatter\"}],\"name\":\"2018-10-09T00:20:40.000Z\"},{\"data\":[{\"hovertemplate\":\"Team=away<br>TimeSnap=2018-10-09T00:22:51.000Z<br>X=%{x}<br>Y=%{y}<extra></extra>\",\"legendgroup\":\"away\",\"marker\":{\"color\":\"#636efa\",\"symbol\":\"circle\"},\"mode\":\"markers\",\"name\":\"away\",\"orientation\":\"v\",\"showlegend\":true,\"x\":[75.64,80.01,80.26,82.62,90.91,77.85,79.06,77.36,76.95,86.31,77.59],\"xaxis\":\"x\",\"y\":[26.83,20.08,24.45,12.66,29.45,15.99,31.66,18.56,23.94,18.4,21.91],\"yaxis\":\"y\",\"type\":\"scatter\"},{\"hovertemplate\":\"Team=home<br>TimeSnap=2018-10-09T00:22:51.000Z<br>X=%{x}<br>Y=%{y}<extra></extra>\",\"legendgroup\":\"home\",\"marker\":{\"color\":\"#EF553B\",\"symbol\":\"circle\"},\"mode\":\"markers\",\"name\":\"home\",\"orientation\":\"v\",\"showlegend\":true,\"x\":[77.06,71.43,72.5,77.14,76.91,76.11,74.99,77.69,78.02,76.63,69.63],\"xaxis\":\"x\",\"y\":[22.43,22.43,22.99,16.95,19.36,24.2,22.76,23.4,30.12,18.57,22.03],\"yaxis\":\"y\",\"type\":\"scatter\"}],\"name\":\"2018-10-09T00:22:51.000Z\"},{\"data\":[{\"hovertemplate\":\"Team=away<br>TimeSnap=2018-10-09T00:24:17.000Z<br>X=%{x}<br>Y=%{y}<extra></extra>\",\"legendgroup\":\"away\",\"marker\":{\"color\":\"#636efa\",\"symbol\":\"circle\"},\"mode\":\"markers\",\"name\":\"away\",\"orientation\":\"v\",\"showlegend\":true,\"x\":[107.05,110.6,107.38,109.4,113.45,108.57,110.55,108.12,107.92,109.67,108.46],\"xaxis\":\"x\",\"y\":[25.08,29.11,36.47,12.76,25.49,31.08,33.31,28.59,35.38,18.19,28.02],\"yaxis\":\"y\",\"type\":\"scatter\"},{\"hovertemplate\":\"Team=home<br>TimeSnap=2018-10-09T00:24:17.000Z<br>X=%{x}<br>Y=%{y}<extra></extra>\",\"legendgroup\":\"home\",\"marker\":{\"color\":\"#EF553B\",\"symbol\":\"circle\"},\"mode\":\"markers\",\"name\":\"home\",\"orientation\":\"v\",\"showlegend\":true,\"x\":[107.56,103.39,103.58,107.78,107.85,107.29,108.15,108.12,106.7,107.15,108.96],\"xaxis\":\"x\",\"y\":[29.01,31.05,30.32,27.83,31.21,35.93,30.23,13.1,25.77,34.3,18.03],\"yaxis\":\"y\",\"type\":\"scatter\"}],\"name\":\"2018-10-09T00:24:17.000Z\"},{\"data\":[{\"hovertemplate\":\"Team=away<br>TimeSnap=2018-10-09T00:28:32.000Z<br>X=%{x}<br>Y=%{y}<extra></extra>\",\"legendgroup\":\"away\",\"marker\":{\"color\":\"#636efa\",\"symbol\":\"circle\"},\"mode\":\"markers\",\"name\":\"away\",\"orientation\":\"v\",\"showlegend\":true,\"x\":[85.35,90.66,90.91,85.01,87.22,88.22,86.17,83.65,83.54,86.71,85.49],\"xaxis\":\"x\",\"y\":[27.33,28.96,29.57,30.85,32.33,21.15,31.35,33.47,13.23,27.02,29.14],\"yaxis\":\"y\",\"type\":\"scatter\"},{\"hovertemplate\":\"Team=home<br>TimeSnap=2018-10-09T00:28:32.000Z<br>X=%{x}<br>Y=%{y}<extra></extra>\",\"legendgroup\":\"home\",\"marker\":{\"color\":\"#EF553B\",\"symbol\":\"circle\"},\"mode\":\"markers\",\"name\":\"home\",\"orientation\":\"v\",\"showlegend\":true,\"x\":[87.12,84.65,83.93,82.42,81.88,85.68,78.25,81.5,66.36,84.73,85.71],\"xaxis\":\"x\",\"y\":[32.85,28.3,31.35,32.9,19.52,32.22,36.62,11.32,25.65,29.42,24.19],\"yaxis\":\"y\",\"type\":\"scatter\"}],\"name\":\"2018-10-09T00:28:32.000Z\"},{\"data\":[{\"hovertemplate\":\"Team=away<br>TimeSnap=2018-10-09T00:32:55.000Z<br>X=%{x}<br>Y=%{y}<extra></extra>\",\"legendgroup\":\"away\",\"marker\":{\"color\":\"#636efa\",\"symbol\":\"circle\"},\"mode\":\"markers\",\"name\":\"away\",\"orientation\":\"v\",\"showlegend\":true,\"x\":[67.33,68.66,73.01,72.43,66.02,68.59,69.65,67.12,69.55,77.03,68.03],\"xaxis\":\"x\",\"y\":[22.93,20.14,24.15,24.9,42.77,24.13,25.89,15.2,22.57,25.53,23.15],\"yaxis\":\"y\",\"type\":\"scatter\"},{\"hovertemplate\":\"Team=home<br>TimeSnap=2018-10-09T00:32:55.000Z<br>X=%{x}<br>Y=%{y}<extra></extra>\",\"legendgroup\":\"home\",\"marker\":{\"color\":\"#EF553B\",\"symbol\":\"circle\"},\"mode\":\"markers\",\"name\":\"home\",\"orientation\":\"v\",\"showlegend\":true,\"x\":[54.65,69.12,64.3,67.9,64.0,67.95,65.2,67.31,64.52,64.71,49.68],\"xaxis\":\"x\",\"y\":[17.13,27.16,20.18,20.17,23.67,24.35,13.49,23.69,26.88,42.95,33.53],\"yaxis\":\"y\",\"type\":\"scatter\"}],\"name\":\"2018-10-09T00:32:55.000Z\"},{\"data\":[{\"hovertemplate\":\"Team=away<br>TimeSnap=2018-10-09T00:34:29.000Z<br>X=%{x}<br>Y=%{y}<extra></extra>\",\"legendgroup\":\"away\",\"marker\":{\"color\":\"#636efa\",\"symbol\":\"circle\"},\"mode\":\"markers\",\"name\":\"away\",\"orientation\":\"v\",\"showlegend\":true,\"x\":[53.47,57.15,52.0,58.06,53.19,49.82,49.64,52.71,55.1,49.05,52.58],\"xaxis\":\"x\",\"y\":[27.19,32.55,29.5,36.99,39.72,31.09,42.33,31.41,30.01,25.09,32.78],\"yaxis\":\"y\",\"type\":\"scatter\"},{\"hovertemplate\":\"Team=home<br>TimeSnap=2018-10-09T00:34:29.000Z<br>X=%{x}<br>Y=%{y}<extra></extra>\",\"legendgroup\":\"home\",\"marker\":{\"color\":\"#EF553B\",\"symbol\":\"circle\"},\"mode\":\"markers\",\"name\":\"home\",\"orientation\":\"v\",\"showlegend\":true,\"x\":[51.5,53.55,49.23,53.2,48.13,51.62,42.72,52.03,48.56,42.28,32.34],\"xaxis\":\"x\",\"y\":[41.33,34.15,34.34,26.57,31.44,29.12,19.31,31.38,25.9,41.97,31.57],\"yaxis\":\"y\",\"type\":\"scatter\"}],\"name\":\"2018-10-09T00:34:29.000Z\"},{\"data\":[{\"hovertemplate\":\"Team=away<br>TimeSnap=2018-10-09T00:36:39.000Z<br>X=%{x}<br>Y=%{y}<extra></extra>\",\"legendgroup\":\"away\",\"marker\":{\"color\":\"#636efa\",\"symbol\":\"circle\"},\"mode\":\"markers\",\"name\":\"away\",\"orientation\":\"v\",\"showlegend\":true,\"x\":[39.25,42.53,45.44,46.13,37.06,42.87,39.63,41.81,40.43,37.74,40.83],\"xaxis\":\"x\",\"y\":[20.47,18.3,24.47,23.53,41.35,23.3,23.08,25.36,23.09,16.24,21.04],\"yaxis\":\"y\",\"type\":\"scatter\"},{\"hovertemplate\":\"Team=home<br>TimeSnap=2018-10-09T00:36:39.000Z<br>X=%{x}<br>Y=%{y}<extra></extra>\",\"legendgroup\":\"home\",\"marker\":{\"color\":\"#EF553B\",\"symbol\":\"circle\"},\"mode\":\"markers\",\"name\":\"home\",\"orientation\":\"v\",\"showlegend\":true,\"x\":[36.45,41.5,36.62,38.26,32.64,36.46,40.16,31.57,21.81,40.41,41.81],\"xaxis\":\"x\",\"y\":[27.21,25.96,24.42,21.22,13.62,16.72,21.33,43.05,27.7,23.88,18.27],\"yaxis\":\"y\",\"type\":\"scatter\"}],\"name\":\"2018-10-09T00:36:39.000Z\"},{\"data\":[{\"hovertemplate\":\"Team=away<br>TimeSnap=2018-10-09T00:40:11.000Z<br>X=%{x}<br>Y=%{y}<extra></extra>\",\"legendgroup\":\"away\",\"marker\":{\"color\":\"#636efa\",\"symbol\":\"circle\"},\"mode\":\"markers\",\"name\":\"away\",\"orientation\":\"v\",\"showlegend\":true,\"x\":[15.4,15.16,18.99,20.11,18.65,16.46,15.86,15.95,15.83,13.52,16.26],\"xaxis\":\"x\",\"y\":[27.52,26.43,28.12,27.61,33.56,27.2,29.92,28.34,40.12,37.65,25.76],\"yaxis\":\"y\",\"type\":\"scatter\"},{\"hovertemplate\":\"Team=home<br>TimeSnap=2018-10-09T00:40:11.000Z<br>X=%{x}<br>Y=%{y}<extra></extra>\",\"legendgroup\":\"home\",\"marker\":{\"color\":\"#EF553B\",\"symbol\":\"circle\"},\"mode\":\"markers\",\"name\":\"home\",\"orientation\":\"v\",\"showlegend\":true,\"x\":[14.4,15.83,15.12,15.96,11.47,14.99,11.69,15.35,13.91,10.83,9.92],\"xaxis\":\"x\",\"y\":[26.74,24.04,35.07,28.45,28.2,29.96,38.21,27.95,40.39,27.65,38.57],\"yaxis\":\"y\",\"type\":\"scatter\"}],\"name\":\"2018-10-09T00:40:11.000Z\"},{\"data\":[{\"hovertemplate\":\"Team=away<br>TimeSnap=2018-10-09T00:46:38.000Z<br>X=%{x}<br>Y=%{y}<extra></extra>\",\"legendgroup\":\"away\",\"marker\":{\"color\":\"#636efa\",\"symbol\":\"circle\"},\"mode\":\"markers\",\"name\":\"away\",\"orientation\":\"v\",\"showlegend\":true,\"x\":[41.36,45.08,41.92,46.54,58.52,42.72,48.37,42.51,43.33,45.57,43.18],\"xaxis\":\"x\",\"y\":[22.8,28.15,24.37,8.78,26.04,33.08,19.16,24.96,29.82,33.4,26.77],\"yaxis\":\"y\",\"type\":\"scatter\"},{\"hovertemplate\":\"Team=home<br>TimeSnap=2018-10-09T00:46:38.000Z<br>X=%{x}<br>Y=%{y}<extra></extra>\",\"legendgroup\":\"home\",\"marker\":{\"color\":\"#EF553B\",\"symbol\":\"circle\"},\"mode\":\"markers\",\"name\":\"home\",\"orientation\":\"v\",\"showlegend\":true,\"x\":[42.59,36.96,37.75,42.59,41.75,39.54,42.78,42.19,42.61,45.7,41.11],\"xaxis\":\"x\",\"y\":[26.61,27.26,27.61,31.9,25.03,25.48,29.88,9.5,27.43,19.43,23.16],\"yaxis\":\"y\",\"type\":\"scatter\"}],\"name\":\"2018-10-09T00:46:38.000Z\"},{\"data\":[{\"hovertemplate\":\"Team=away<br>TimeSnap=2018-10-09T00:48:01.000Z<br>X=%{x}<br>Y=%{y}<extra></extra>\",\"legendgroup\":\"away\",\"marker\":{\"color\":\"#636efa\",\"symbol\":\"circle\"},\"mode\":\"markers\",\"name\":\"away\",\"orientation\":\"v\",\"showlegend\":true,\"x\":[51.35,55.52,55.03,55.64,69.71,51.26,58.41,51.9,52.61,58.29,59.2],\"xaxis\":\"x\",\"y\":[16.87,25.19,21.0,7.83,25.65,28.68,41.29,21.59,24.11,18.01,32.03],\"yaxis\":\"y\",\"type\":\"scatter\"},{\"hovertemplate\":\"Team=home<br>TimeSnap=2018-10-09T00:48:01.000Z<br>X=%{x}<br>Y=%{y}<extra></extra>\",\"legendgroup\":\"home\",\"marker\":{\"color\":\"#EF553B\",\"symbol\":\"circle\"},\"mode\":\"markers\",\"name\":\"home\",\"orientation\":\"v\",\"showlegend\":true,\"x\":[51.83,47.52,47.15,51.89,51.2,50.74,50.8,52.98,51.76,52.87,51.97],\"xaxis\":\"x\",\"y\":[23.7,24.8,23.62,18.02,20.79,27.17,22.79,32.56,42.22,21.33,8.56],\"yaxis\":\"y\",\"type\":\"scatter\"}],\"name\":\"2018-10-09T00:48:01.000Z\"},{\"data\":[{\"hovertemplate\":\"Team=away<br>TimeSnap=2018-10-09T00:56:54.000Z<br>X=%{x}<br>Y=%{y}<extra></extra>\",\"legendgroup\":\"away\",\"marker\":{\"color\":\"#636efa\",\"symbol\":\"circle\"},\"mode\":\"markers\",\"name\":\"away\",\"orientation\":\"v\",\"showlegend\":true,\"x\":[55.63,51.5,50.4,47.81,43.61,54.79,48.32,53.47,53.62,51.77,52.89],\"xaxis\":\"x\",\"y\":[25.56,24.75,19.82,40.48,21.76,17.08,16.11,19.07,18.16,37.11,22.05],\"yaxis\":\"y\",\"type\":\"scatter\"},{\"hovertemplate\":\"Team=home<br>TimeSnap=2018-10-09T00:56:54.000Z<br>X=%{x}<br>Y=%{y}<extra></extra>\",\"legendgroup\":\"home\",\"marker\":{\"color\":\"#EF553B\",\"symbol\":\"circle\"},\"mode\":\"markers\",\"name\":\"home\",\"orientation\":\"v\",\"showlegend\":true,\"x\":[53.62,58.27,53.41,55.53,55.85,54.13,53.6,53.87,59.16,50.6,52.36],\"xaxis\":\"x\",\"y\":[20.06,21.3,21.55,17.34,22.73,19.56,41.01,22.32,20.69,15.53,36.55],\"yaxis\":\"y\",\"type\":\"scatter\"}],\"name\":\"2018-10-09T00:56:54.000Z\"},{\"data\":[{\"hovertemplate\":\"Team=away<br>TimeSnap=2018-10-09T01:04:49.000Z<br>X=%{x}<br>Y=%{y}<extra></extra>\",\"legendgroup\":\"away\",\"marker\":{\"color\":\"#636efa\",\"symbol\":\"circle\"},\"mode\":\"markers\",\"name\":\"away\",\"orientation\":\"v\",\"showlegend\":true,\"x\":[32.88,33.32,29.66,33.81,30.08,32.0,33.61,34.76,35.0,34.5,33.89],\"xaxis\":\"x\",\"y\":[34.78,17.74,29.77,32.39,29.03,20.04,29.8,30.8,44.44,19.65,33.31],\"yaxis\":\"y\",\"type\":\"scatter\"},{\"hovertemplate\":\"Team=home<br>TimeSnap=2018-10-09T01:04:49.000Z<br>X=%{x}<br>Y=%{y}<extra></extra>\",\"legendgroup\":\"home\",\"marker\":{\"color\":\"#EF553B\",\"symbol\":\"circle\"},\"mode\":\"markers\",\"name\":\"home\",\"orientation\":\"v\",\"showlegend\":true,\"x\":[40.54,38.26,34.83,34.81,36.14,35.99,34.71,41.52,37.53,51.88,33.28],\"xaxis\":\"x\",\"y\":[24.58,30.68,26.14,33.05,44.23,19.07,29.56,17.02,34.63,29.03,35.74],\"yaxis\":\"y\",\"type\":\"scatter\"}],\"name\":\"2018-10-09T01:04:49.000Z\"},{\"data\":[{\"hovertemplate\":\"Team=away<br>TimeSnap=2018-10-09T01:08:57.000Z<br>X=%{x}<br>Y=%{y}<extra></extra>\",\"legendgroup\":\"away\",\"marker\":{\"color\":\"#636efa\",\"symbol\":\"circle\"},\"mode\":\"markers\",\"name\":\"away\",\"orientation\":\"v\",\"showlegend\":true,\"x\":[69.07,64.86,70.2,69.69,69.98,64.51,69.71,70.42,71.01,68.69,69.2],\"xaxis\":\"x\",\"y\":[33.79,29.52,22.21,29.73,27.64,28.85,28.55,23.06,42.5,25.4,30.01],\"yaxis\":\"y\",\"type\":\"scatter\"},{\"hovertemplate\":\"Team=home<br>TimeSnap=2018-10-09T01:08:57.000Z<br>X=%{x}<br>Y=%{y}<extra></extra>\",\"legendgroup\":\"home\",\"marker\":{\"color\":\"#EF553B\",\"symbol\":\"circle\"},\"mode\":\"markers\",\"name\":\"home\",\"orientation\":\"v\",\"showlegend\":true,\"x\":[71.57,68.87,70.2,74.44,71.32,70.37,77.55,72.34,88.66,72.25,68.79],\"xaxis\":\"x\",\"y\":[28.55,24.78,29.74,22.47,23.12,28.11,19.45,31.53,31.3,42.94,34.41],\"yaxis\":\"y\",\"type\":\"scatter\"}],\"name\":\"2018-10-09T01:08:57.000Z\"},{\"data\":[{\"hovertemplate\":\"Team=away<br>TimeSnap=2018-10-09T01:15:56.000Z<br>X=%{x}<br>Y=%{y}<extra></extra>\",\"legendgroup\":\"away\",\"marker\":{\"color\":\"#636efa\",\"symbol\":\"circle\"},\"mode\":\"markers\",\"name\":\"away\",\"orientation\":\"v\",\"showlegend\":true,\"x\":[68.49,61.45,63.92,62.92,50.5,64.58,58.41,64.69,64.53,59.95,64.21],\"xaxis\":\"x\",\"y\":[35.26,29.36,33.13,44.76,30.6,22.35,23.7,32.25,27.34,38.72,30.23],\"yaxis\":\"y\",\"type\":\"scatter\"},{\"hovertemplate\":\"Team=home<br>TimeSnap=2018-10-09T01:15:56.000Z<br>X=%{x}<br>Y=%{y}<extra></extra>\",\"legendgroup\":\"home\",\"marker\":{\"color\":\"#EF553B\",\"symbol\":\"circle\"},\"mode\":\"markers\",\"name\":\"home\",\"orientation\":\"v\",\"showlegend\":true,\"x\":[64.37,69.53,64.63,65.17,65.17,65.35,64.82,65.13,68.5,70.21,63.6],\"xaxis\":\"x\",\"y\":[31.05,30.34,26.57,31.92,27.45,23.25,30.04,45.49,33.93,29.81,39.22],\"yaxis\":\"y\",\"type\":\"scatter\"}],\"name\":\"2018-10-09T01:15:56.000Z\"},{\"data\":[{\"hovertemplate\":\"Team=away<br>TimeSnap=2018-10-09T01:18:51.000Z<br>X=%{x}<br>Y=%{y}<extra></extra>\",\"legendgroup\":\"away\",\"marker\":{\"color\":\"#636efa\",\"symbol\":\"circle\"},\"mode\":\"markers\",\"name\":\"away\",\"orientation\":\"v\",\"showlegend\":true,\"x\":[58.49,55.19,54.73,50.25,47.6,53.7,53.08,56.97,57.97,47.32,56.51],\"xaxis\":\"x\",\"y\":[17.54,27.18,23.52,43.32,34.2,33.9,17.69,29.95,19.83,22.68,25.91],\"yaxis\":\"y\",\"type\":\"scatter\"},{\"hovertemplate\":\"Team=home<br>TimeSnap=2018-10-09T01:18:51.000Z<br>X=%{x}<br>Y=%{y}<extra></extra>\",\"legendgroup\":\"home\",\"marker\":{\"color\":\"#EF553B\",\"symbol\":\"circle\"},\"mode\":\"markers\",\"name\":\"home\",\"orientation\":\"v\",\"showlegend\":true,\"x\":[56.99,62.16,61.23,57.67,57.05,58.36,59.18,55.15,59.2,56.07,57.75],\"xaxis\":\"x\",\"y\":[25.48,25.74,24.96,18.45,28.36,26.69,20.35,34.64,22.05,42.02,29.62],\"yaxis\":\"y\",\"type\":\"scatter\"}],\"name\":\"2018-10-09T01:18:51.000Z\"},{\"data\":[{\"hovertemplate\":\"Team=away<br>TimeSnap=2018-10-09T01:21:59.000Z<br>X=%{x}<br>Y=%{y}<extra></extra>\",\"legendgroup\":\"away\",\"marker\":{\"color\":\"#636efa\",\"symbol\":\"circle\"},\"mode\":\"markers\",\"name\":\"away\",\"orientation\":\"v\",\"showlegend\":true,\"x\":[12.41,9.19,11.95,10.69,7.22,11.9,10.88,8.26,10.82,10.36,11.12],\"xaxis\":\"x\",\"y\":[26.94,22.48,29.09,42.1,26.49,20.56,18.27,19.39,21.87,34.86,23.22],\"yaxis\":\"y\",\"type\":\"scatter\"},{\"hovertemplate\":\"Team=home<br>TimeSnap=2018-10-09T01:21:59.000Z<br>X=%{x}<br>Y=%{y}<extra></extra>\",\"legendgroup\":\"home\",\"marker\":{\"color\":\"#EF553B\",\"symbol\":\"circle\"},\"mode\":\"markers\",\"name\":\"home\",\"orientation\":\"v\",\"showlegend\":true,\"x\":[11.78,16.6,15.99,11.92,11.07,12.44,10.8,12.05,12.86,12.5,11.24],\"xaxis\":\"x\",\"y\":[23.05,22.51,23.21,26.09,22.21,20.72,22.55,42.07,27.93,18.54,35.23],\"yaxis\":\"y\",\"type\":\"scatter\"}],\"name\":\"2018-10-09T01:21:59.000Z\"},{\"data\":[{\"hovertemplate\":\"Team=away<br>TimeSnap=2018-10-09T01:22:37.000Z<br>X=%{x}<br>Y=%{y}<extra></extra>\",\"legendgroup\":\"away\",\"marker\":{\"color\":\"#636efa\",\"symbol\":\"circle\"},\"mode\":\"markers\",\"name\":\"away\",\"orientation\":\"v\",\"showlegend\":true,\"x\":[11.38,11.67,8.47,7.83,8.29,10.12,10.92,10.11,11.42,11.45,11.62],\"xaxis\":\"x\",\"y\":[27.37,21.46,22.93,21.55,27.2,19.0,17.27,25.22,20.59,22.96,23.16],\"yaxis\":\"y\",\"type\":\"scatter\"},{\"hovertemplate\":\"Team=home<br>TimeSnap=2018-10-09T01:22:37.000Z<br>X=%{x}<br>Y=%{y}<extra></extra>\",\"legendgroup\":\"home\",\"marker\":{\"color\":\"#EF553B\",\"symbol\":\"circle\"},\"mode\":\"markers\",\"name\":\"home\",\"orientation\":\"v\",\"showlegend\":true,\"x\":[10.7,15.39,14.55,11.2,10.05,11.76,13.39,11.93,10.57,12.61,10.26],\"xaxis\":\"x\",\"y\":[22.38,21.18,21.92,26.72,20.13,23.59,20.46,20.33,18.88,19.52,25.63],\"yaxis\":\"y\",\"type\":\"scatter\"}],\"name\":\"2018-10-09T01:22:37.000Z\"},{\"data\":[{\"hovertemplate\":\"Team=away<br>TimeSnap=2018-10-09T01:49:56.000Z<br>X=%{x}<br>Y=%{y}<extra></extra>\",\"legendgroup\":\"away\",\"marker\":{\"color\":\"#636efa\",\"symbol\":\"circle\"},\"mode\":\"markers\",\"name\":\"away\",\"orientation\":\"v\",\"showlegend\":true,\"x\":[105.88,102.5,106.92,101.81,105.03,107.19,107.49,107.02,107.05,107.5,106.38],\"xaxis\":\"x\",\"y\":[32.99,29.58,30.2,28.86,25.35,27.97,21.01,28.74,23.03,44.48,30.65],\"yaxis\":\"y\",\"type\":\"scatter\"},{\"hovertemplate\":\"Team=home<br>TimeSnap=2018-10-09T01:49:56.000Z<br>X=%{x}<br>Y=%{y}<extra></extra>\",\"legendgroup\":\"home\",\"marker\":{\"color\":\"#EF553B\",\"symbol\":\"circle\"},\"mode\":\"markers\",\"name\":\"home\",\"orientation\":\"v\",\"showlegend\":true,\"x\":[105.7,109.24,106.43,109.47,107.77,107.57,106.76,109.53,111.92,108.91,107.52],\"xaxis\":\"x\",\"y\":[24.8,31.06,33.71,28.4,22.97,28.59,26.8,20.59,35.59,44.54,30.45],\"yaxis\":\"y\",\"type\":\"scatter\"}],\"name\":\"2018-10-09T01:49:56.000Z\"},{\"data\":[{\"hovertemplate\":\"Team=away<br>TimeSnap=2018-10-09T02:09:22.000Z<br>X=%{x}<br>Y=%{y}<extra></extra>\",\"legendgroup\":\"away\",\"marker\":{\"color\":\"#636efa\",\"symbol\":\"circle\"},\"mode\":\"markers\",\"name\":\"away\",\"orientation\":\"v\",\"showlegend\":true,\"x\":[35.01,38.99,40.19,47.36,34.77,42.49,36.13,39.68,39.86,36.27,42.13],\"xaxis\":\"x\",\"y\":[19.82,25.66,22.48,26.0,29.57,38.65,25.66,19.66,30.06,22.92,16.98],\"yaxis\":\"y\",\"type\":\"scatter\"},{\"hovertemplate\":\"Team=home<br>TimeSnap=2018-10-09T02:09:22.000Z<br>X=%{x}<br>Y=%{y}<extra></extra>\",\"legendgroup\":\"home\",\"marker\":{\"color\":\"#EF553B\",\"symbol\":\"circle\"},\"mode\":\"markers\",\"name\":\"home\",\"orientation\":\"v\",\"showlegend\":true,\"x\":[37.02,31.7,35.64,34.24,34.37,35.42,36.82,36.37,30.78,36.61,36.13],\"xaxis\":\"x\",\"y\":[24.53,23.62,22.73,28.55,20.26,25.23,39.53,21.83,23.0,18.51,30.87],\"yaxis\":\"y\",\"type\":\"scatter\"}],\"name\":\"2018-10-09T02:09:22.000Z\"},{\"data\":[{\"hovertemplate\":\"Team=away<br>TimeSnap=2018-10-09T02:10:37.000Z<br>X=%{x}<br>Y=%{y}<extra></extra>\",\"legendgroup\":\"away\",\"marker\":{\"color\":\"#636efa\",\"symbol\":\"circle\"},\"mode\":\"markers\",\"name\":\"away\",\"orientation\":\"v\",\"showlegend\":true,\"x\":[60.39,65.06,65.64,69.06,61.0,68.05,61.16,61.76,78.15,62.14,67.43],\"xaxis\":\"x\",\"y\":[26.08,19.91,24.46,34.76,16.02,15.77,20.0,23.58,25.75,22.22,43.42],\"yaxis\":\"y\",\"type\":\"scatter\"},{\"hovertemplate\":\"Team=home<br>TimeSnap=2018-10-09T02:10:37.000Z<br>X=%{x}<br>Y=%{y}<extra></extra>\",\"legendgroup\":\"home\",\"marker\":{\"color\":\"#EF553B\",\"symbol\":\"circle\"},\"mode\":\"markers\",\"name\":\"home\",\"orientation\":\"v\",\"showlegend\":true,\"x\":[63.18,56.82,57.69,60.32,61.27,58.83,62.52,61.43,63.8,63.06,62.53],\"xaxis\":\"x\",\"y\":[19.76,20.78,21.54,16.47,19.19,19.51,25.06,22.42,33.59,18.33,44.33],\"yaxis\":\"y\",\"type\":\"scatter\"}],\"name\":\"2018-10-09T02:10:37.000Z\"},{\"data\":[{\"hovertemplate\":\"Team=away<br>TimeSnap=2018-10-09T02:17:52.000Z<br>X=%{x}<br>Y=%{y}<extra></extra>\",\"legendgroup\":\"away\",\"marker\":{\"color\":\"#636efa\",\"symbol\":\"circle\"},\"mode\":\"markers\",\"name\":\"away\",\"orientation\":\"v\",\"showlegend\":true,\"x\":[65.31,67.0,68.44,65.28,69.41,64.68,65.27,64.4,69.36,64.54,66.06],\"xaxis\":\"x\",\"y\":[20.99,30.73,24.18,23.75,23.64,26.78,34.91,24.9,29.02,16.66,24.42],\"yaxis\":\"y\",\"type\":\"scatter\"},{\"hovertemplate\":\"Team=home<br>TimeSnap=2018-10-09T02:17:52.000Z<br>X=%{x}<br>Y=%{y}<extra></extra>\",\"legendgroup\":\"home\",\"marker\":{\"color\":\"#EF553B\",\"symbol\":\"circle\"},\"mode\":\"markers\",\"name\":\"home\",\"orientation\":\"v\",\"showlegend\":true,\"x\":[65.72,61.22,65.03,61.39,64.6,61.29,62.07,65.38,56.03,45.61,57.31],\"xaxis\":\"x\",\"y\":[30.62,27.59,19.72,24.85,23.31,20.39,33.64,25.8,35.38,26.63,16.15],\"yaxis\":\"y\",\"type\":\"scatter\"}],\"name\":\"2018-10-09T02:17:52.000Z\"},{\"data\":[{\"hovertemplate\":\"Team=away<br>TimeSnap=2018-10-09T02:19:09.000Z<br>X=%{x}<br>Y=%{y}<extra></extra>\",\"legendgroup\":\"away\",\"marker\":{\"color\":\"#636efa\",\"symbol\":\"circle\"},\"mode\":\"markers\",\"name\":\"away\",\"orientation\":\"v\",\"showlegend\":true,\"x\":[53.09,55.72,57.98,53.68,57.58,54.91,53.71,53.93,61.89,52.64,54.47],\"xaxis\":\"x\",\"y\":[22.64,30.72,23.98,25.41,23.36,29.97,44.96,27.86,22.54,8.45,23.53],\"yaxis\":\"y\",\"type\":\"scatter\"},{\"hovertemplate\":\"Team=home<br>TimeSnap=2018-10-09T02:19:09.000Z<br>X=%{x}<br>Y=%{y}<extra></extra>\",\"legendgroup\":\"home\",\"marker\":{\"color\":\"#EF553B\",\"symbol\":\"circle\"},\"mode\":\"markers\",\"name\":\"home\",\"orientation\":\"v\",\"showlegend\":true,\"x\":[54.95,51.97,50.38,49.49,54.11,45.63,51.74,35.11,51.31,54.01,53.87],\"xaxis\":\"x\",\"y\":[31.21,22.92,22.47,28.83,28.47,17.36,44.86,26.47,9.45,24.12,20.58],\"yaxis\":\"y\",\"type\":\"scatter\"}],\"name\":\"2018-10-09T02:19:09.000Z\"},{\"data\":[{\"hovertemplate\":\"Team=away<br>TimeSnap=2018-10-09T02:20:34.000Z<br>X=%{x}<br>Y=%{y}<extra></extra>\",\"legendgroup\":\"away\",\"marker\":{\"color\":\"#636efa\",\"symbol\":\"circle\"},\"mode\":\"markers\",\"name\":\"away\",\"orientation\":\"v\",\"showlegend\":true,\"x\":[50.91,47.78,54.14,49.48,53.66,47.25,51.61,49.17,50.51,48.02,49.52],\"xaxis\":\"x\",\"y\":[18.46,34.29,23.79,21.18,23.98,15.52,29.07,44.83,25.96,8.78,20.4],\"yaxis\":\"y\",\"type\":\"scatter\"},{\"hovertemplate\":\"Team=home<br>TimeSnap=2018-10-09T02:20:34.000Z<br>X=%{x}<br>Y=%{y}<extra></extra>\",\"legendgroup\":\"home\",\"marker\":{\"color\":\"#EF553B\",\"symbol\":\"circle\"},\"mode\":\"markers\",\"name\":\"home\",\"orientation\":\"v\",\"showlegend\":true,\"x\":[35.96,51.85,43.87,43.2,48.83,44.94,44.98,49.89,46.65,30.17,50.47],\"xaxis\":\"x\",\"y\":[15.3,29.62,17.58,24.71,20.7,8.17,31.04,26.55,45.3,34.65,17.99],\"yaxis\":\"y\",\"type\":\"scatter\"}],\"name\":\"2018-10-09T02:20:34.000Z\"},{\"data\":[{\"hovertemplate\":\"Team=away<br>TimeSnap=2018-10-09T02:31:01.000Z<br>X=%{x}<br>Y=%{y}<extra></extra>\",\"legendgroup\":\"away\",\"marker\":{\"color\":\"#636efa\",\"symbol\":\"circle\"},\"mode\":\"markers\",\"name\":\"away\",\"orientation\":\"v\",\"showlegend\":true,\"x\":[78.45,82.59,77.54,82.6,78.44,77.09,79.09,76.65,77.69,76.49,77.68],\"xaxis\":\"x\",\"y\":[25.41,28.69,28.81,29.38,32.45,30.34,31.92,29.26,35.57,11.65,28.09],\"yaxis\":\"y\",\"type\":\"scatter\"},{\"hovertemplate\":\"Team=home<br>TimeSnap=2018-10-09T02:31:01.000Z<br>X=%{x}<br>Y=%{y}<extra></extra>\",\"legendgroup\":\"home\",\"marker\":{\"color\":\"#EF553B\",\"symbol\":\"circle\"},\"mode\":\"markers\",\"name\":\"home\",\"orientation\":\"v\",\"showlegend\":true,\"x\":[74.39,77.76,74.56,76.72,77.0,76.18,76.41,72.08,59.41,74.82,78.34],\"xaxis\":\"x\",\"y\":[26.52,32.49,29.49,28.76,35.85,32.04,29.97,33.24,25.46,11.15,24.61],\"yaxis\":\"y\",\"type\":\"scatter\"}],\"name\":\"2018-10-09T02:31:01.000Z\"},{\"data\":[{\"hovertemplate\":\"Team=away<br>TimeSnap=2018-10-09T02:33:31.000Z<br>X=%{x}<br>Y=%{y}<extra></extra>\",\"legendgroup\":\"away\",\"marker\":{\"color\":\"#636efa\",\"symbol\":\"circle\"},\"mode\":\"markers\",\"name\":\"away\",\"orientation\":\"v\",\"showlegend\":true,\"x\":[69.15,72.12,66.44,66.58,67.55,65.13,69.52,71.64,68.25,65.46,68.5],\"xaxis\":\"x\",\"y\":[18.28,23.82,44.16,37.93,22.42,10.28,27.83,23.94,23.55,32.54,19.99],\"yaxis\":\"y\",\"type\":\"scatter\"},{\"hovertemplate\":\"Team=home<br>TimeSnap=2018-10-09T02:33:31.000Z<br>X=%{x}<br>Y=%{y}<extra></extra>\",\"legendgroup\":\"home\",\"marker\":{\"color\":\"#EF553B\",\"symbol\":\"circle\"},\"mode\":\"markers\",\"name\":\"home\",\"orientation\":\"v\",\"showlegend\":true,\"x\":[69.02,66.69,69.1,61.19,61.47,67.77,57.75,58.73,49.66,59.6,67.37],\"xaxis\":\"x\",\"y\":[28.2,22.27,17.35,30.82,39.23,19.56,20.2,43.92,28.6,10.34,23.38],\"yaxis\":\"y\",\"type\":\"scatter\"}],\"name\":\"2018-10-09T02:33:31.000Z\"},{\"data\":[{\"hovertemplate\":\"Team=away<br>TimeSnap=2018-10-09T02:40:47.000Z<br>X=%{x}<br>Y=%{y}<extra></extra>\",\"legendgroup\":\"away\",\"marker\":{\"color\":\"#636efa\",\"symbol\":\"circle\"},\"mode\":\"markers\",\"name\":\"away\",\"orientation\":\"v\",\"showlegend\":true,\"x\":[62.36,64.51,65.49,64.3,68.76,60.34,66.76,62.16,62.16,73.78,62.78],\"xaxis\":\"x\",\"y\":[36.39,26.75,33.2,10.98,23.93,24.17,40.52,28.03,32.73,32.94,30.75],\"yaxis\":\"y\",\"type\":\"scatter\"},{\"hovertemplate\":\"Team=home<br>TimeSnap=2018-10-09T02:40:47.000Z<br>X=%{x}<br>Y=%{y}<extra></extra>\",\"legendgroup\":\"home\",\"marker\":{\"color\":\"#EF553B\",\"symbol\":\"circle\"},\"mode\":\"markers\",\"name\":\"home\",\"orientation\":\"v\",\"showlegend\":true,\"x\":[62.47,56.74,57.3,62.73,61.49,61.37,61.59,62.24,62.55,59.89,59.27],\"xaxis\":\"x\",\"y\":[29.37,30.19,29.51,33.76,27.76,32.54,35.88,30.5,11.51,26.23,37.2],\"yaxis\":\"y\",\"type\":\"scatter\"}],\"name\":\"2018-10-09T02:40:47.000Z\"},{\"data\":[{\"hovertemplate\":\"Team=away<br>TimeSnap=2018-10-09T02:46:45.000Z<br>X=%{x}<br>Y=%{y}<extra></extra>\",\"legendgroup\":\"away\",\"marker\":{\"color\":\"#636efa\",\"symbol\":\"circle\"},\"mode\":\"markers\",\"name\":\"away\",\"orientation\":\"v\",\"showlegend\":true,\"x\":[44.12,39.1,37.71,31.87,46.26,35.41,45.3,40.51,28.55,39.0,45.47],\"xaxis\":\"x\",\"y\":[27.43,22.58,44.15,29.47,18.05,8.33,21.4,28.55,19.62,15.99,22.51],\"yaxis\":\"y\",\"type\":\"scatter\"},{\"hovertemplate\":\"Team=home<br>TimeSnap=2018-10-09T02:46:45.000Z<br>X=%{x}<br>Y=%{y}<extra></extra>\",\"legendgroup\":\"home\",\"marker\":{\"color\":\"#EF553B\",\"symbol\":\"circle\"},\"mode\":\"markers\",\"name\":\"home\",\"orientation\":\"v\",\"showlegend\":true,\"x\":[46.01,49.54,44.39,46.48,46.12,44.45,44.41,44.96,49.18,44.79,45.08],\"xaxis\":\"x\",\"y\":[23.04,24.1,25.04,21.22,23.82,15.87,9.78,26.91,22.8,29.37,43.15],\"yaxis\":\"y\",\"type\":\"scatter\"}],\"name\":\"2018-10-09T02:46:45.000Z\"},{\"data\":[{\"hovertemplate\":\"Team=away<br>TimeSnap=2018-10-09T02:52:36.000Z<br>X=%{x}<br>Y=%{y}<extra></extra>\",\"legendgroup\":\"away\",\"marker\":{\"color\":\"#636efa\",\"symbol\":\"circle\"},\"mode\":\"markers\",\"name\":\"away\",\"orientation\":\"v\",\"showlegend\":true,\"x\":[30.84,27.98,33.72,31.22,27.85,35.38,29.22,30.16,33.59,35.81,32.35],\"xaxis\":\"x\",\"y\":[33.48,31.17,11.0,31.44,32.18,27.73,25.78,28.11,18.69,44.73,32.1],\"yaxis\":\"y\",\"type\":\"scatter\"},{\"hovertemplate\":\"Team=home<br>TimeSnap=2018-10-09T02:52:36.000Z<br>X=%{x}<br>Y=%{y}<extra></extra>\",\"legendgroup\":\"home\",\"marker\":{\"color\":\"#EF553B\",\"symbol\":\"circle\"},\"mode\":\"markers\",\"name\":\"home\",\"orientation\":\"v\",\"showlegend\":true,\"x\":[40.77,36.95,28.51,31.61,36.13,41.34,39.54,53.23,36.84,30.51,31.35],\"xaxis\":\"x\",\"y\":[36.73,26.54,24.72,30.94,18.74,10.54,30.98,25.25,45.24,27.31,34.28],\"yaxis\":\"y\",\"type\":\"scatter\"}],\"name\":\"2018-10-09T02:52:36.000Z\"},{\"data\":[{\"hovertemplate\":\"Team=away<br>TimeSnap=2018-10-09T02:56:26.000Z<br>X=%{x}<br>Y=%{y}<extra></extra>\",\"legendgroup\":\"away\",\"marker\":{\"color\":\"#636efa\",\"symbol\":\"circle\"},\"mode\":\"markers\",\"name\":\"away\",\"orientation\":\"v\",\"showlegend\":true,\"x\":[107.79,105.47,108.05,108.42,108.34,108.53,104.67,109.02,106.86,107.86,108.14],\"xaxis\":\"x\",\"y\":[30.69,29.07,30.12,26.76,32.65,27.36,28.4,28.86,27.99,25.8,28.67],\"yaxis\":\"y\",\"type\":\"scatter\"},{\"hovertemplate\":\"Team=home<br>TimeSnap=2018-10-09T02:56:26.000Z<br>X=%{x}<br>Y=%{y}<extra></extra>\",\"legendgroup\":\"home\",\"marker\":{\"color\":\"#EF553B\",\"symbol\":\"circle\"},\"mode\":\"markers\",\"name\":\"home\",\"orientation\":\"v\",\"showlegend\":true,\"x\":[108.98,110.9,113.02,108.36,108.13,109.17,109.14,108.78,110.77,109.54,108.59],\"xaxis\":\"x\",\"y\":[26.09,27.13,30.08,33.5,24.12,29.07,27.34,30.99,33.77,24.93,30.4],\"yaxis\":\"y\",\"type\":\"scatter\"}],\"name\":\"2018-10-09T02:56:26.000Z\"},{\"data\":[{\"hovertemplate\":\"Team=away<br>TimeSnap=2018-10-09T02:59:47.000Z<br>X=%{x}<br>Y=%{y}<extra></extra>\",\"legendgroup\":\"away\",\"marker\":{\"color\":\"#636efa\",\"symbol\":\"circle\"},\"mode\":\"markers\",\"name\":\"away\",\"orientation\":\"v\",\"showlegend\":true,\"x\":[109.75,105.35,108.4,109.04,108.01,108.92,104.93,107.94,108.06,108.43,109.27],\"xaxis\":\"x\",\"y\":[30.13,29.24,29.18,33.79,27.95,28.39,30.01,31.42,28.08,24.89,29.25],\"yaxis\":\"y\",\"type\":\"scatter\"},{\"hovertemplate\":\"Team=home<br>TimeSnap=2018-10-09T02:59:47.000Z<br>X=%{x}<br>Y=%{y}<extra></extra>\",\"legendgroup\":\"home\",\"marker\":{\"color\":\"#EF553B\",\"symbol\":\"circle\"},\"mode\":\"markers\",\"name\":\"home\",\"orientation\":\"v\",\"showlegend\":true,\"x\":[108.64,110.14,110.52,112.32,107.81,109.0,109.44,109.2,108.94,108.65,110.1],\"xaxis\":\"x\",\"y\":[27.44,26.98,30.08,31.33,32.44,24.08,29.03,28.56,30.0,34.26,25.61],\"yaxis\":\"y\",\"type\":\"scatter\"}],\"name\":\"2018-10-09T02:59:47.000Z\"},{\"data\":[{\"hovertemplate\":\"Team=away<br>TimeSnap=2018-10-09T03:04:40.000Z<br>X=%{x}<br>Y=%{y}<extra></extra>\",\"legendgroup\":\"away\",\"marker\":{\"color\":\"#636efa\",\"symbol\":\"circle\"},\"mode\":\"markers\",\"name\":\"away\",\"orientation\":\"v\",\"showlegend\":true,\"x\":[88.02,85.33,85.02,83.25,85.62,89.56,84.23,87.14,87.65,68.9,87.03],\"xaxis\":\"x\",\"y\":[27.44,25.76,23.61,31.73,28.98,18.48,17.42,25.42,22.25,23.91,23.87],\"yaxis\":\"y\",\"type\":\"scatter\"},{\"hovertemplate\":\"Team=home<br>TimeSnap=2018-10-09T03:04:40.000Z<br>X=%{x}<br>Y=%{y}<extra></extra>\",\"legendgroup\":\"home\",\"marker\":{\"color\":\"#EF553B\",\"symbol\":\"circle\"},\"mode\":\"markers\",\"name\":\"home\",\"orientation\":\"v\",\"showlegend\":true,\"x\":[88.07,92.84,92.32,87.64,87.36,89.55,88.67,89.56,89.05,88.06,88.02],\"xaxis\":\"x\",\"y\":[23.12,24.48,23.66,26.57,24.48,26.23,22.16,20.32,24.59,25.7,28.75],\"yaxis\":\"y\",\"type\":\"scatter\"}],\"name\":\"2018-10-09T03:04:40.000Z\"},{\"data\":[{\"hovertemplate\":\"Team=away<br>TimeSnap=2018-10-09T03:05:27.000Z<br>X=%{x}<br>Y=%{y}<extra></extra>\",\"legendgroup\":\"away\",\"marker\":{\"color\":\"#636efa\",\"symbol\":\"circle\"},\"mode\":\"markers\",\"name\":\"away\",\"orientation\":\"v\",\"showlegend\":true,\"x\":[81.31,78.58,79.63,79.99,77.91,82.3,78.36,82.58,80.97,65.73,81.04],\"xaxis\":\"x\",\"y\":[25.37,19.45,21.55,41.41,32.51,15.44,15.55,22.26,17.41,24.05,19.98],\"yaxis\":\"y\",\"type\":\"scatter\"},{\"hovertemplate\":\"Team=home<br>TimeSnap=2018-10-09T03:05:27.000Z<br>X=%{x}<br>Y=%{y}<extra></extra>\",\"legendgroup\":\"home\",\"marker\":{\"color\":\"#EF553B\",\"symbol\":\"circle\"},\"mode\":\"markers\",\"name\":\"home\",\"orientation\":\"v\",\"showlegend\":true,\"x\":[81.33,86.76,86.53,82.76,82.93,85.03,81.65,83.63,81.32,80.16,83.48],\"xaxis\":\"x\",\"y\":[20.5,20.48,21.45,16.16,20.89,19.19,17.54,40.52,18.44,33.51,22.32],\"yaxis\":\"y\",\"type\":\"scatter\"}],\"name\":\"2018-10-09T03:05:27.000Z\"},{\"data\":[{\"hovertemplate\":\"Team=away<br>TimeSnap=2018-10-09T03:06:52.000Z<br>X=%{x}<br>Y=%{y}<extra></extra>\",\"legendgroup\":\"away\",\"marker\":{\"color\":\"#636efa\",\"symbol\":\"circle\"},\"mode\":\"markers\",\"name\":\"away\",\"orientation\":\"v\",\"showlegend\":true,\"x\":[76.16,71.51,71.26,73.77,64.28,68.64,75.25,74.45,74.76,70.93,74.22],\"xaxis\":\"x\",\"y\":[29.05,21.4,24.36,44.06,24.84,22.01,26.55,20.97,19.54,17.72,23.86],\"yaxis\":\"y\",\"type\":\"scatter\"},{\"hovertemplate\":\"Team=home<br>TimeSnap=2018-10-09T03:06:52.000Z<br>X=%{x}<br>Y=%{y}<extra></extra>\",\"legendgroup\":\"home\",\"marker\":{\"color\":\"#EF553B\",\"symbol\":\"circle\"},\"mode\":\"markers\",\"name\":\"home\",\"orientation\":\"v\",\"showlegend\":true,\"x\":[75.04,79.89,79.45,74.56,75.06,75.12,75.65,74.21,74.7,76.29,77.38],\"xaxis\":\"x\",\"y\":[24.13,23.2,24.12,20.28,26.06,21.26,19.57,23.24,45.03,28.13,17.62],\"yaxis\":\"y\",\"type\":\"scatter\"}],\"name\":\"2018-10-09T03:06:52.000Z\"},{\"data\":[{\"hovertemplate\":\"Team=away<br>TimeSnap=2018-10-09T03:08:21.000Z<br>X=%{x}<br>Y=%{y}<extra></extra>\",\"legendgroup\":\"away\",\"marker\":{\"color\":\"#636efa\",\"symbol\":\"circle\"},\"mode\":\"markers\",\"name\":\"away\",\"orientation\":\"v\",\"showlegend\":true,\"x\":[65.27,61.87,63.36,61.65,59.43,50.19,59.15,64.43,65.84,62.07,63.29],\"xaxis\":\"x\",\"y\":[16.84,25.07,22.53,22.24,40.23,25.07,14.63,20.03,27.46,18.19,37.35],\"yaxis\":\"y\",\"type\":\"scatter\"},{\"hovertemplate\":\"Team=home<br>TimeSnap=2018-10-09T03:08:21.000Z<br>X=%{x}<br>Y=%{y}<extra></extra>\",\"legendgroup\":\"home\",\"marker\":{\"color\":\"#EF553B\",\"symbol\":\"circle\"},\"mode\":\"markers\",\"name\":\"home\",\"orientation\":\"v\",\"showlegend\":true,\"x\":[65.08,68.88,64.02,66.38,66.43,65.26,64.7,65.16,70.12,63.64,64.18],\"xaxis\":\"x\",\"y\":[20.57,22.01,22.14,17.46,22.2,19.96,40.39,23.35,21.48,15.21,37.12],\"yaxis\":\"y\",\"type\":\"scatter\"}],\"name\":\"2018-10-09T03:08:21.000Z\"},{\"data\":[{\"hovertemplate\":\"Team=away<br>TimeSnap=2018-10-09T03:09:56.000Z<br>X=%{x}<br>Y=%{y}<extra></extra>\",\"legendgroup\":\"away\",\"marker\":{\"color\":\"#636efa\",\"symbol\":\"circle\"},\"mode\":\"markers\",\"name\":\"away\",\"orientation\":\"v\",\"showlegend\":true,\"x\":[52.37,48.83,52.23,49.49,48.02,46.63,51.13,37.59,51.17,45.58,53.09],\"xaxis\":\"x\",\"y\":[28.55,24.98,27.21,28.26,43.53,33.75,19.4,28.27,23.51,19.99,24.47],\"yaxis\":\"y\",\"type\":\"scatter\"},{\"hovertemplate\":\"Team=home<br>TimeSnap=2018-10-09T03:09:56.000Z<br>X=%{x}<br>Y=%{y}<extra></extra>\",\"legendgroup\":\"home\",\"marker\":{\"color\":\"#EF553B\",\"symbol\":\"circle\"},\"mode\":\"markers\",\"name\":\"home\",\"orientation\":\"v\",\"showlegend\":true,\"x\":[49.14,56.93,56.34,51.28,52.63,55.01,52.18,49.71,52.22,51.09,51.94],\"xaxis\":\"x\",\"y\":[25.91,26.94,26.07,21.07,28.15,28.32,23.24,33.19,24.85,42.83,29.18],\"yaxis\":\"y\",\"type\":\"scatter\"}],\"name\":\"2018-10-09T03:09:56.000Z\"},{\"data\":[{\"hovertemplate\":\"Team=away<br>TimeSnap=2018-10-09T03:12:09.000Z<br>X=%{x}<br>Y=%{y}<extra></extra>\",\"legendgroup\":\"away\",\"marker\":{\"color\":\"#636efa\",\"symbol\":\"circle\"},\"mode\":\"markers\",\"name\":\"away\",\"orientation\":\"v\",\"showlegend\":true,\"x\":[38.36,36.44,37.62,35.52,35.32,31.95,34.97,37.8,39.48,32.72,38.86],\"xaxis\":\"x\",\"y\":[20.43,26.89,23.71,24.41,37.28,28.71,18.81,25.86,29.18,21.2,24.27],\"yaxis\":\"y\",\"type\":\"scatter\"},{\"hovertemplate\":\"Team=home<br>TimeSnap=2018-10-09T03:12:09.000Z<br>X=%{x}<br>Y=%{y}<extra></extra>\",\"legendgroup\":\"home\",\"marker\":{\"color\":\"#EF553B\",\"symbol\":\"circle\"},\"mode\":\"markers\",\"name\":\"home\",\"orientation\":\"v\",\"showlegend\":true,\"x\":[38.26,44.03,43.02,39.17,39.33,40.57,38.37,40.03,39.76,37.79,38.37],\"xaxis\":\"x\",\"y\":[23.69,24.58,23.81,22.12,24.6,28.27,26.4,21.46,25.16,36.51,25.41],\"yaxis\":\"y\",\"type\":\"scatter\"}],\"name\":\"2018-10-09T03:12:09.000Z\"},{\"data\":[{\"hovertemplate\":\"Team=away<br>TimeSnap=2018-10-09T03:12:48.000Z<br>X=%{x}<br>Y=%{y}<extra></extra>\",\"legendgroup\":\"away\",\"marker\":{\"color\":\"#636efa\",\"symbol\":\"circle\"},\"mode\":\"markers\",\"name\":\"away\",\"orientation\":\"v\",\"showlegend\":true,\"x\":[37.71,32.46,35.45,31.39,33.21,25.45,33.5,35.09,35.65,33.8,37.03],\"xaxis\":\"x\",\"y\":[20.34,27.81,21.36,25.53,36.11,28.17,16.48,27.33,29.8,20.4,24.2],\"yaxis\":\"y\",\"type\":\"scatter\"},{\"hovertemplate\":\"Team=home<br>TimeSnap=2018-10-09T03:12:48.000Z<br>X=%{x}<br>Y=%{y}<extra></extra>\",\"legendgroup\":\"home\",\"marker\":{\"color\":\"#EF553B\",\"symbol\":\"circle\"},\"mode\":\"markers\",\"name\":\"home\",\"orientation\":\"v\",\"showlegend\":true,\"x\":[34.85,42.89,40.01,36.91,37.06,38.87,37.55,36.44,35.91,35.35,35.93],\"xaxis\":\"x\",\"y\":[23.43,22.99,25.74,30.05,24.96,19.17,19.76,21.44,17.35,26.75,34.32],\"yaxis\":\"y\",\"type\":\"scatter\"}],\"name\":\"2018-10-09T03:12:48.000Z\"}]);\n",
              "                        }).then(function(){\n",
              "                            \n",
              "var gd = document.getElementById('d691d935-31a8-4601-9b43-5932986fef5d');\n",
              "var x = new MutationObserver(function (mutations, observer) {{\n",
              "        var display = window.getComputedStyle(gd).display;\n",
              "        if (!display || display === 'none') {{\n",
              "            console.log([gd, 'removed!']);\n",
              "            Plotly.purge(gd);\n",
              "            observer.disconnect();\n",
              "        }}\n",
              "}});\n",
              "\n",
              "// Listen for the removal of the full notebook cells\n",
              "var notebookContainer = gd.closest('#notebook-container');\n",
              "if (notebookContainer) {{\n",
              "    x.observe(notebookContainer, {childList: true});\n",
              "}}\n",
              "\n",
              "// Listen for the clearing of the current output cell\n",
              "var outputEl = gd.closest('.output');\n",
              "if (outputEl) {{\n",
              "    x.observe(outputEl, {childList: true});\n",
              "}}\n",
              "\n",
              "                        })                };                            </script>        </div>\n",
              "</body>\n",
              "</html>"
            ]
          },
          "metadata": {}
        },
        {
          "output_type": "display_data",
          "data": {
            "text/html": [
              "<html>\n",
              "<head><meta charset=\"utf-8\" /></head>\n",
              "<body>\n",
              "    <div>            <script src=\"https://cdnjs.cloudflare.com/ajax/libs/mathjax/2.7.5/MathJax.js?config=TeX-AMS-MML_SVG\"></script><script type=\"text/javascript\">if (window.MathJax) {MathJax.Hub.Config({SVG: {font: \"STIX-Web\"}});}</script>                <script type=\"text/javascript\">window.PlotlyConfig = {MathJaxConfig: 'local'};</script>\n",
              "        <script src=\"https://cdn.plot.ly/plotly-2.8.3.min.js\"></script>                <div id=\"367aac53-93ef-4f57-89a1-8d1f04feadc1\" class=\"plotly-graph-div\" style=\"height:525px; width:100%;\"></div>            <script type=\"text/javascript\">                                    window.PLOTLYENV=window.PLOTLYENV || {};                                    if (document.getElementById(\"367aac53-93ef-4f57-89a1-8d1f04feadc1\")) {                    Plotly.newPlot(                        \"367aac53-93ef-4f57-89a1-8d1f04feadc1\",                        [{\"hovertemplate\":\"Team=away<br>TimeSnap=2018-10-09T00:20:12.000Z<br>X=%{x}<br>Y=%{y}<extra></extra>\",\"legendgroup\":\"away\",\"marker\":{\"color\":\"#636efa\",\"symbol\":\"circle\"},\"mode\":\"markers\",\"name\":\"away\",\"orientation\":\"v\",\"showlegend\":true,\"x\":[46.46,51.54],\"xaxis\":\"x\",\"y\":[20.74,37.35],\"yaxis\":\"y\",\"type\":\"scatter\"}],                        {\"template\":{\"data\":{\"bar\":[{\"error_x\":{\"color\":\"#2a3f5f\"},\"error_y\":{\"color\":\"#2a3f5f\"},\"marker\":{\"line\":{\"color\":\"#E5ECF6\",\"width\":0.5},\"pattern\":{\"fillmode\":\"overlay\",\"size\":10,\"solidity\":0.2}},\"type\":\"bar\"}],\"barpolar\":[{\"marker\":{\"line\":{\"color\":\"#E5ECF6\",\"width\":0.5},\"pattern\":{\"fillmode\":\"overlay\",\"size\":10,\"solidity\":0.2}},\"type\":\"barpolar\"}],\"carpet\":[{\"aaxis\":{\"endlinecolor\":\"#2a3f5f\",\"gridcolor\":\"white\",\"linecolor\":\"white\",\"minorgridcolor\":\"white\",\"startlinecolor\":\"#2a3f5f\"},\"baxis\":{\"endlinecolor\":\"#2a3f5f\",\"gridcolor\":\"white\",\"linecolor\":\"white\",\"minorgridcolor\":\"white\",\"startlinecolor\":\"#2a3f5f\"},\"type\":\"carpet\"}],\"choropleth\":[{\"colorbar\":{\"outlinewidth\":0,\"ticks\":\"\"},\"type\":\"choropleth\"}],\"contour\":[{\"colorbar\":{\"outlinewidth\":0,\"ticks\":\"\"},\"colorscale\":[[0.0,\"#0d0887\"],[0.1111111111111111,\"#46039f\"],[0.2222222222222222,\"#7201a8\"],[0.3333333333333333,\"#9c179e\"],[0.4444444444444444,\"#bd3786\"],[0.5555555555555556,\"#d8576b\"],[0.6666666666666666,\"#ed7953\"],[0.7777777777777778,\"#fb9f3a\"],[0.8888888888888888,\"#fdca26\"],[1.0,\"#f0f921\"]],\"type\":\"contour\"}],\"contourcarpet\":[{\"colorbar\":{\"outlinewidth\":0,\"ticks\":\"\"},\"type\":\"contourcarpet\"}],\"heatmap\":[{\"colorbar\":{\"outlinewidth\":0,\"ticks\":\"\"},\"colorscale\":[[0.0,\"#0d0887\"],[0.1111111111111111,\"#46039f\"],[0.2222222222222222,\"#7201a8\"],[0.3333333333333333,\"#9c179e\"],[0.4444444444444444,\"#bd3786\"],[0.5555555555555556,\"#d8576b\"],[0.6666666666666666,\"#ed7953\"],[0.7777777777777778,\"#fb9f3a\"],[0.8888888888888888,\"#fdca26\"],[1.0,\"#f0f921\"]],\"type\":\"heatmap\"}],\"heatmapgl\":[{\"colorbar\":{\"outlinewidth\":0,\"ticks\":\"\"},\"colorscale\":[[0.0,\"#0d0887\"],[0.1111111111111111,\"#46039f\"],[0.2222222222222222,\"#7201a8\"],[0.3333333333333333,\"#9c179e\"],[0.4444444444444444,\"#bd3786\"],[0.5555555555555556,\"#d8576b\"],[0.6666666666666666,\"#ed7953\"],[0.7777777777777778,\"#fb9f3a\"],[0.8888888888888888,\"#fdca26\"],[1.0,\"#f0f921\"]],\"type\":\"heatmapgl\"}],\"histogram\":[{\"marker\":{\"pattern\":{\"fillmode\":\"overlay\",\"size\":10,\"solidity\":0.2}},\"type\":\"histogram\"}],\"histogram2d\":[{\"colorbar\":{\"outlinewidth\":0,\"ticks\":\"\"},\"colorscale\":[[0.0,\"#0d0887\"],[0.1111111111111111,\"#46039f\"],[0.2222222222222222,\"#7201a8\"],[0.3333333333333333,\"#9c179e\"],[0.4444444444444444,\"#bd3786\"],[0.5555555555555556,\"#d8576b\"],[0.6666666666666666,\"#ed7953\"],[0.7777777777777778,\"#fb9f3a\"],[0.8888888888888888,\"#fdca26\"],[1.0,\"#f0f921\"]],\"type\":\"histogram2d\"}],\"histogram2dcontour\":[{\"colorbar\":{\"outlinewidth\":0,\"ticks\":\"\"},\"colorscale\":[[0.0,\"#0d0887\"],[0.1111111111111111,\"#46039f\"],[0.2222222222222222,\"#7201a8\"],[0.3333333333333333,\"#9c179e\"],[0.4444444444444444,\"#bd3786\"],[0.5555555555555556,\"#d8576b\"],[0.6666666666666666,\"#ed7953\"],[0.7777777777777778,\"#fb9f3a\"],[0.8888888888888888,\"#fdca26\"],[1.0,\"#f0f921\"]],\"type\":\"histogram2dcontour\"}],\"mesh3d\":[{\"colorbar\":{\"outlinewidth\":0,\"ticks\":\"\"},\"type\":\"mesh3d\"}],\"parcoords\":[{\"line\":{\"colorbar\":{\"outlinewidth\":0,\"ticks\":\"\"}},\"type\":\"parcoords\"}],\"pie\":[{\"automargin\":true,\"type\":\"pie\"}],\"scatter\":[{\"marker\":{\"colorbar\":{\"outlinewidth\":0,\"ticks\":\"\"}},\"type\":\"scatter\"}],\"scatter3d\":[{\"line\":{\"colorbar\":{\"outlinewidth\":0,\"ticks\":\"\"}},\"marker\":{\"colorbar\":{\"outlinewidth\":0,\"ticks\":\"\"}},\"type\":\"scatter3d\"}],\"scattercarpet\":[{\"marker\":{\"colorbar\":{\"outlinewidth\":0,\"ticks\":\"\"}},\"type\":\"scattercarpet\"}],\"scattergeo\":[{\"marker\":{\"colorbar\":{\"outlinewidth\":0,\"ticks\":\"\"}},\"type\":\"scattergeo\"}],\"scattergl\":[{\"marker\":{\"colorbar\":{\"outlinewidth\":0,\"ticks\":\"\"}},\"type\":\"scattergl\"}],\"scattermapbox\":[{\"marker\":{\"colorbar\":{\"outlinewidth\":0,\"ticks\":\"\"}},\"type\":\"scattermapbox\"}],\"scatterpolar\":[{\"marker\":{\"colorbar\":{\"outlinewidth\":0,\"ticks\":\"\"}},\"type\":\"scatterpolar\"}],\"scatterpolargl\":[{\"marker\":{\"colorbar\":{\"outlinewidth\":0,\"ticks\":\"\"}},\"type\":\"scatterpolargl\"}],\"scatterternary\":[{\"marker\":{\"colorbar\":{\"outlinewidth\":0,\"ticks\":\"\"}},\"type\":\"scatterternary\"}],\"surface\":[{\"colorbar\":{\"outlinewidth\":0,\"ticks\":\"\"},\"colorscale\":[[0.0,\"#0d0887\"],[0.1111111111111111,\"#46039f\"],[0.2222222222222222,\"#7201a8\"],[0.3333333333333333,\"#9c179e\"],[0.4444444444444444,\"#bd3786\"],[0.5555555555555556,\"#d8576b\"],[0.6666666666666666,\"#ed7953\"],[0.7777777777777778,\"#fb9f3a\"],[0.8888888888888888,\"#fdca26\"],[1.0,\"#f0f921\"]],\"type\":\"surface\"}],\"table\":[{\"cells\":{\"fill\":{\"color\":\"#EBF0F8\"},\"line\":{\"color\":\"white\"}},\"header\":{\"fill\":{\"color\":\"#C8D4E3\"},\"line\":{\"color\":\"white\"}},\"type\":\"table\"}]},\"layout\":{\"annotationdefaults\":{\"arrowcolor\":\"#2a3f5f\",\"arrowhead\":0,\"arrowwidth\":1},\"autotypenumbers\":\"strict\",\"coloraxis\":{\"colorbar\":{\"outlinewidth\":0,\"ticks\":\"\"}},\"colorscale\":{\"diverging\":[[0,\"#8e0152\"],[0.1,\"#c51b7d\"],[0.2,\"#de77ae\"],[0.3,\"#f1b6da\"],[0.4,\"#fde0ef\"],[0.5,\"#f7f7f7\"],[0.6,\"#e6f5d0\"],[0.7,\"#b8e186\"],[0.8,\"#7fbc41\"],[0.9,\"#4d9221\"],[1,\"#276419\"]],\"sequential\":[[0.0,\"#0d0887\"],[0.1111111111111111,\"#46039f\"],[0.2222222222222222,\"#7201a8\"],[0.3333333333333333,\"#9c179e\"],[0.4444444444444444,\"#bd3786\"],[0.5555555555555556,\"#d8576b\"],[0.6666666666666666,\"#ed7953\"],[0.7777777777777778,\"#fb9f3a\"],[0.8888888888888888,\"#fdca26\"],[1.0,\"#f0f921\"]],\"sequentialminus\":[[0.0,\"#0d0887\"],[0.1111111111111111,\"#46039f\"],[0.2222222222222222,\"#7201a8\"],[0.3333333333333333,\"#9c179e\"],[0.4444444444444444,\"#bd3786\"],[0.5555555555555556,\"#d8576b\"],[0.6666666666666666,\"#ed7953\"],[0.7777777777777778,\"#fb9f3a\"],[0.8888888888888888,\"#fdca26\"],[1.0,\"#f0f921\"]]},\"colorway\":[\"#636efa\",\"#EF553B\",\"#00cc96\",\"#ab63fa\",\"#FFA15A\",\"#19d3f3\",\"#FF6692\",\"#B6E880\",\"#FF97FF\",\"#FECB52\"],\"font\":{\"color\":\"#2a3f5f\"},\"geo\":{\"bgcolor\":\"white\",\"lakecolor\":\"white\",\"landcolor\":\"#E5ECF6\",\"showlakes\":true,\"showland\":true,\"subunitcolor\":\"white\"},\"hoverlabel\":{\"align\":\"left\"},\"hovermode\":\"closest\",\"mapbox\":{\"style\":\"light\"},\"paper_bgcolor\":\"white\",\"plot_bgcolor\":\"#E5ECF6\",\"polar\":{\"angularaxis\":{\"gridcolor\":\"white\",\"linecolor\":\"white\",\"ticks\":\"\"},\"bgcolor\":\"#E5ECF6\",\"radialaxis\":{\"gridcolor\":\"white\",\"linecolor\":\"white\",\"ticks\":\"\"}},\"scene\":{\"xaxis\":{\"backgroundcolor\":\"#E5ECF6\",\"gridcolor\":\"white\",\"gridwidth\":2,\"linecolor\":\"white\",\"showbackground\":true,\"ticks\":\"\",\"zerolinecolor\":\"white\"},\"yaxis\":{\"backgroundcolor\":\"#E5ECF6\",\"gridcolor\":\"white\",\"gridwidth\":2,\"linecolor\":\"white\",\"showbackground\":true,\"ticks\":\"\",\"zerolinecolor\":\"white\"},\"zaxis\":{\"backgroundcolor\":\"#E5ECF6\",\"gridcolor\":\"white\",\"gridwidth\":2,\"linecolor\":\"white\",\"showbackground\":true,\"ticks\":\"\",\"zerolinecolor\":\"white\"}},\"shapedefaults\":{\"line\":{\"color\":\"#2a3f5f\"}},\"ternary\":{\"aaxis\":{\"gridcolor\":\"white\",\"linecolor\":\"white\",\"ticks\":\"\"},\"baxis\":{\"gridcolor\":\"white\",\"linecolor\":\"white\",\"ticks\":\"\"},\"bgcolor\":\"#E5ECF6\",\"caxis\":{\"gridcolor\":\"white\",\"linecolor\":\"white\",\"ticks\":\"\"}},\"title\":{\"x\":0.05},\"xaxis\":{\"automargin\":true,\"gridcolor\":\"white\",\"linecolor\":\"white\",\"ticks\":\"\",\"title\":{\"standoff\":15},\"zerolinecolor\":\"white\",\"zerolinewidth\":2},\"yaxis\":{\"automargin\":true,\"gridcolor\":\"white\",\"linecolor\":\"white\",\"ticks\":\"\",\"title\":{\"standoff\":15},\"zerolinecolor\":\"white\",\"zerolinewidth\":2}}},\"xaxis\":{\"anchor\":\"y\",\"domain\":[0.0,1.0],\"title\":{\"text\":\"X\"}},\"yaxis\":{\"anchor\":\"x\",\"domain\":[0.0,1.0],\"title\":{\"text\":\"Y\"}},\"legend\":{\"title\":{\"text\":\"Team\"},\"tracegroupgap\":0},\"margin\":{\"t\":60},\"updatemenus\":[{\"buttons\":[{\"args\":[null,{\"frame\":{\"duration\":500,\"redraw\":false},\"mode\":\"immediate\",\"fromcurrent\":true,\"transition\":{\"duration\":500,\"easing\":\"linear\"}}],\"label\":\"&#9654;\",\"method\":\"animate\"},{\"args\":[[null],{\"frame\":{\"duration\":0,\"redraw\":false},\"mode\":\"immediate\",\"fromcurrent\":true,\"transition\":{\"duration\":0,\"easing\":\"linear\"}}],\"label\":\"&#9724;\",\"method\":\"animate\"}],\"direction\":\"left\",\"pad\":{\"r\":10,\"t\":70},\"showactive\":false,\"type\":\"buttons\",\"x\":0.1,\"xanchor\":\"right\",\"y\":0,\"yanchor\":\"top\"}],\"sliders\":[{\"active\":0,\"currentvalue\":{\"prefix\":\"TimeSnap=\"},\"len\":0.9,\"pad\":{\"b\":10,\"t\":60},\"steps\":[{\"args\":[[\"2018-10-09T00:20:12.000Z\"],{\"frame\":{\"duration\":0,\"redraw\":false},\"mode\":\"immediate\",\"fromcurrent\":true,\"transition\":{\"duration\":0,\"easing\":\"linear\"}}],\"label\":\"2018-10-09T00:20:12.000Z\",\"method\":\"animate\"},{\"args\":[[\"2018-10-09T00:20:40.000Z\"],{\"frame\":{\"duration\":0,\"redraw\":false},\"mode\":\"immediate\",\"fromcurrent\":true,\"transition\":{\"duration\":0,\"easing\":\"linear\"}}],\"label\":\"2018-10-09T00:20:40.000Z\",\"method\":\"animate\"},{\"args\":[[\"2018-10-09T00:22:51.000Z\"],{\"frame\":{\"duration\":0,\"redraw\":false},\"mode\":\"immediate\",\"fromcurrent\":true,\"transition\":{\"duration\":0,\"easing\":\"linear\"}}],\"label\":\"2018-10-09T00:22:51.000Z\",\"method\":\"animate\"},{\"args\":[[\"2018-10-09T00:24:17.000Z\"],{\"frame\":{\"duration\":0,\"redraw\":false},\"mode\":\"immediate\",\"fromcurrent\":true,\"transition\":{\"duration\":0,\"easing\":\"linear\"}}],\"label\":\"2018-10-09T00:24:17.000Z\",\"method\":\"animate\"},{\"args\":[[\"2018-10-09T00:28:32.000Z\"],{\"frame\":{\"duration\":0,\"redraw\":false},\"mode\":\"immediate\",\"fromcurrent\":true,\"transition\":{\"duration\":0,\"easing\":\"linear\"}}],\"label\":\"2018-10-09T00:28:32.000Z\",\"method\":\"animate\"},{\"args\":[[\"2018-10-09T00:32:55.000Z\"],{\"frame\":{\"duration\":0,\"redraw\":false},\"mode\":\"immediate\",\"fromcurrent\":true,\"transition\":{\"duration\":0,\"easing\":\"linear\"}}],\"label\":\"2018-10-09T00:32:55.000Z\",\"method\":\"animate\"},{\"args\":[[\"2018-10-09T00:34:29.000Z\"],{\"frame\":{\"duration\":0,\"redraw\":false},\"mode\":\"immediate\",\"fromcurrent\":true,\"transition\":{\"duration\":0,\"easing\":\"linear\"}}],\"label\":\"2018-10-09T00:34:29.000Z\",\"method\":\"animate\"},{\"args\":[[\"2018-10-09T00:36:39.000Z\"],{\"frame\":{\"duration\":0,\"redraw\":false},\"mode\":\"immediate\",\"fromcurrent\":true,\"transition\":{\"duration\":0,\"easing\":\"linear\"}}],\"label\":\"2018-10-09T00:36:39.000Z\",\"method\":\"animate\"},{\"args\":[[\"2018-10-09T00:40:11.000Z\"],{\"frame\":{\"duration\":0,\"redraw\":false},\"mode\":\"immediate\",\"fromcurrent\":true,\"transition\":{\"duration\":0,\"easing\":\"linear\"}}],\"label\":\"2018-10-09T00:40:11.000Z\",\"method\":\"animate\"},{\"args\":[[\"2018-10-09T00:46:38.000Z\"],{\"frame\":{\"duration\":0,\"redraw\":false},\"mode\":\"immediate\",\"fromcurrent\":true,\"transition\":{\"duration\":0,\"easing\":\"linear\"}}],\"label\":\"2018-10-09T00:46:38.000Z\",\"method\":\"animate\"},{\"args\":[[\"2018-10-09T00:48:01.000Z\"],{\"frame\":{\"duration\":0,\"redraw\":false},\"mode\":\"immediate\",\"fromcurrent\":true,\"transition\":{\"duration\":0,\"easing\":\"linear\"}}],\"label\":\"2018-10-09T00:48:01.000Z\",\"method\":\"animate\"},{\"args\":[[\"2018-10-09T00:56:54.000Z\"],{\"frame\":{\"duration\":0,\"redraw\":false},\"mode\":\"immediate\",\"fromcurrent\":true,\"transition\":{\"duration\":0,\"easing\":\"linear\"}}],\"label\":\"2018-10-09T00:56:54.000Z\",\"method\":\"animate\"},{\"args\":[[\"2018-10-09T01:04:49.000Z\"],{\"frame\":{\"duration\":0,\"redraw\":false},\"mode\":\"immediate\",\"fromcurrent\":true,\"transition\":{\"duration\":0,\"easing\":\"linear\"}}],\"label\":\"2018-10-09T01:04:49.000Z\",\"method\":\"animate\"},{\"args\":[[\"2018-10-09T01:08:57.000Z\"],{\"frame\":{\"duration\":0,\"redraw\":false},\"mode\":\"immediate\",\"fromcurrent\":true,\"transition\":{\"duration\":0,\"easing\":\"linear\"}}],\"label\":\"2018-10-09T01:08:57.000Z\",\"method\":\"animate\"},{\"args\":[[\"2018-10-09T01:15:56.000Z\"],{\"frame\":{\"duration\":0,\"redraw\":false},\"mode\":\"immediate\",\"fromcurrent\":true,\"transition\":{\"duration\":0,\"easing\":\"linear\"}}],\"label\":\"2018-10-09T01:15:56.000Z\",\"method\":\"animate\"},{\"args\":[[\"2018-10-09T01:18:51.000Z\"],{\"frame\":{\"duration\":0,\"redraw\":false},\"mode\":\"immediate\",\"fromcurrent\":true,\"transition\":{\"duration\":0,\"easing\":\"linear\"}}],\"label\":\"2018-10-09T01:18:51.000Z\",\"method\":\"animate\"},{\"args\":[[\"2018-10-09T01:21:59.000Z\"],{\"frame\":{\"duration\":0,\"redraw\":false},\"mode\":\"immediate\",\"fromcurrent\":true,\"transition\":{\"duration\":0,\"easing\":\"linear\"}}],\"label\":\"2018-10-09T01:21:59.000Z\",\"method\":\"animate\"},{\"args\":[[\"2018-10-09T01:22:37.000Z\"],{\"frame\":{\"duration\":0,\"redraw\":false},\"mode\":\"immediate\",\"fromcurrent\":true,\"transition\":{\"duration\":0,\"easing\":\"linear\"}}],\"label\":\"2018-10-09T01:22:37.000Z\",\"method\":\"animate\"},{\"args\":[[\"2018-10-09T01:49:56.000Z\"],{\"frame\":{\"duration\":0,\"redraw\":false},\"mode\":\"immediate\",\"fromcurrent\":true,\"transition\":{\"duration\":0,\"easing\":\"linear\"}}],\"label\":\"2018-10-09T01:49:56.000Z\",\"method\":\"animate\"},{\"args\":[[\"2018-10-09T02:09:22.000Z\"],{\"frame\":{\"duration\":0,\"redraw\":false},\"mode\":\"immediate\",\"fromcurrent\":true,\"transition\":{\"duration\":0,\"easing\":\"linear\"}}],\"label\":\"2018-10-09T02:09:22.000Z\",\"method\":\"animate\"},{\"args\":[[\"2018-10-09T02:17:52.000Z\"],{\"frame\":{\"duration\":0,\"redraw\":false},\"mode\":\"immediate\",\"fromcurrent\":true,\"transition\":{\"duration\":0,\"easing\":\"linear\"}}],\"label\":\"2018-10-09T02:17:52.000Z\",\"method\":\"animate\"},{\"args\":[[\"2018-10-09T02:19:09.000Z\"],{\"frame\":{\"duration\":0,\"redraw\":false},\"mode\":\"immediate\",\"fromcurrent\":true,\"transition\":{\"duration\":0,\"easing\":\"linear\"}}],\"label\":\"2018-10-09T02:19:09.000Z\",\"method\":\"animate\"},{\"args\":[[\"2018-10-09T02:20:34.000Z\"],{\"frame\":{\"duration\":0,\"redraw\":false},\"mode\":\"immediate\",\"fromcurrent\":true,\"transition\":{\"duration\":0,\"easing\":\"linear\"}}],\"label\":\"2018-10-09T02:20:34.000Z\",\"method\":\"animate\"},{\"args\":[[\"2018-10-09T02:31:01.000Z\"],{\"frame\":{\"duration\":0,\"redraw\":false},\"mode\":\"immediate\",\"fromcurrent\":true,\"transition\":{\"duration\":0,\"easing\":\"linear\"}}],\"label\":\"2018-10-09T02:31:01.000Z\",\"method\":\"animate\"},{\"args\":[[\"2018-10-09T02:33:31.000Z\"],{\"frame\":{\"duration\":0,\"redraw\":false},\"mode\":\"immediate\",\"fromcurrent\":true,\"transition\":{\"duration\":0,\"easing\":\"linear\"}}],\"label\":\"2018-10-09T02:33:31.000Z\",\"method\":\"animate\"},{\"args\":[[\"2018-10-09T02:40:47.000Z\"],{\"frame\":{\"duration\":0,\"redraw\":false},\"mode\":\"immediate\",\"fromcurrent\":true,\"transition\":{\"duration\":0,\"easing\":\"linear\"}}],\"label\":\"2018-10-09T02:40:47.000Z\",\"method\":\"animate\"},{\"args\":[[\"2018-10-09T02:46:45.000Z\"],{\"frame\":{\"duration\":0,\"redraw\":false},\"mode\":\"immediate\",\"fromcurrent\":true,\"transition\":{\"duration\":0,\"easing\":\"linear\"}}],\"label\":\"2018-10-09T02:46:45.000Z\",\"method\":\"animate\"},{\"args\":[[\"2018-10-09T02:52:36.000Z\"],{\"frame\":{\"duration\":0,\"redraw\":false},\"mode\":\"immediate\",\"fromcurrent\":true,\"transition\":{\"duration\":0,\"easing\":\"linear\"}}],\"label\":\"2018-10-09T02:52:36.000Z\",\"method\":\"animate\"},{\"args\":[[\"2018-10-09T03:04:40.000Z\"],{\"frame\":{\"duration\":0,\"redraw\":false},\"mode\":\"immediate\",\"fromcurrent\":true,\"transition\":{\"duration\":0,\"easing\":\"linear\"}}],\"label\":\"2018-10-09T03:04:40.000Z\",\"method\":\"animate\"},{\"args\":[[\"2018-10-09T03:05:27.000Z\"],{\"frame\":{\"duration\":0,\"redraw\":false},\"mode\":\"immediate\",\"fromcurrent\":true,\"transition\":{\"duration\":0,\"easing\":\"linear\"}}],\"label\":\"2018-10-09T03:05:27.000Z\",\"method\":\"animate\"},{\"args\":[[\"2018-10-09T03:06:52.000Z\"],{\"frame\":{\"duration\":0,\"redraw\":false},\"mode\":\"immediate\",\"fromcurrent\":true,\"transition\":{\"duration\":0,\"easing\":\"linear\"}}],\"label\":\"2018-10-09T03:06:52.000Z\",\"method\":\"animate\"},{\"args\":[[\"2018-10-09T03:08:21.000Z\"],{\"frame\":{\"duration\":0,\"redraw\":false},\"mode\":\"immediate\",\"fromcurrent\":true,\"transition\":{\"duration\":0,\"easing\":\"linear\"}}],\"label\":\"2018-10-09T03:08:21.000Z\",\"method\":\"animate\"},{\"args\":[[\"2018-10-09T03:09:56.000Z\"],{\"frame\":{\"duration\":0,\"redraw\":false},\"mode\":\"immediate\",\"fromcurrent\":true,\"transition\":{\"duration\":0,\"easing\":\"linear\"}}],\"label\":\"2018-10-09T03:09:56.000Z\",\"method\":\"animate\"},{\"args\":[[\"2018-10-09T03:12:09.000Z\"],{\"frame\":{\"duration\":0,\"redraw\":false},\"mode\":\"immediate\",\"fromcurrent\":true,\"transition\":{\"duration\":0,\"easing\":\"linear\"}}],\"label\":\"2018-10-09T03:12:09.000Z\",\"method\":\"animate\"},{\"args\":[[\"2018-10-09T03:12:48.000Z\"],{\"frame\":{\"duration\":0,\"redraw\":false},\"mode\":\"immediate\",\"fromcurrent\":true,\"transition\":{\"duration\":0,\"easing\":\"linear\"}}],\"label\":\"2018-10-09T03:12:48.000Z\",\"method\":\"animate\"}],\"x\":0.1,\"xanchor\":\"left\",\"y\":0,\"yanchor\":\"top\"}]},                        {\"responsive\": true}                    ).then(function(){\n",
              "                            Plotly.addFrames('367aac53-93ef-4f57-89a1-8d1f04feadc1', [{\"data\":[{\"hovertemplate\":\"Team=away<br>TimeSnap=2018-10-09T00:20:12.000Z<br>X=%{x}<br>Y=%{y}<extra></extra>\",\"legendgroup\":\"away\",\"marker\":{\"color\":\"#636efa\",\"symbol\":\"circle\"},\"mode\":\"markers\",\"name\":\"away\",\"orientation\":\"v\",\"showlegend\":true,\"x\":[46.46,51.54],\"xaxis\":\"x\",\"y\":[20.74,37.35],\"yaxis\":\"y\",\"type\":\"scatter\"}],\"name\":\"2018-10-09T00:20:12.000Z\"},{\"data\":[{\"hovertemplate\":\"Team=away<br>TimeSnap=2018-10-09T00:20:40.000Z<br>X=%{x}<br>Y=%{y}<extra></extra>\",\"legendgroup\":\"away\",\"marker\":{\"color\":\"#636efa\",\"symbol\":\"circle\"},\"mode\":\"markers\",\"name\":\"away\",\"orientation\":\"v\",\"showlegend\":true,\"x\":[50.65,54.74,50.77],\"xaxis\":\"x\",\"y\":[8.92,33.22,15.29],\"yaxis\":\"y\",\"type\":\"scatter\"}],\"name\":\"2018-10-09T00:20:40.000Z\"},{\"data\":[{\"hovertemplate\":\"Team=away<br>TimeSnap=2018-10-09T00:22:51.000Z<br>X=%{x}<br>Y=%{y}<extra></extra>\",\"legendgroup\":\"away\",\"marker\":{\"color\":\"#636efa\",\"symbol\":\"circle\"},\"mode\":\"markers\",\"name\":\"away\",\"orientation\":\"v\",\"showlegend\":true,\"x\":[82.62,79.06],\"xaxis\":\"x\",\"y\":[12.66,31.66],\"yaxis\":\"y\",\"type\":\"scatter\"}],\"name\":\"2018-10-09T00:22:51.000Z\"},{\"data\":[{\"hovertemplate\":\"Team=away<br>TimeSnap=2018-10-09T00:24:17.000Z<br>X=%{x}<br>Y=%{y}<extra></extra>\",\"legendgroup\":\"away\",\"marker\":{\"color\":\"#636efa\",\"symbol\":\"circle\"},\"mode\":\"markers\",\"name\":\"away\",\"orientation\":\"v\",\"showlegend\":true,\"x\":[109.4,110.55,109.67],\"xaxis\":\"x\",\"y\":[12.76,33.31,18.19],\"yaxis\":\"y\",\"type\":\"scatter\"}],\"name\":\"2018-10-09T00:24:17.000Z\"},{\"data\":[{\"hovertemplate\":\"Team=home<br>TimeSnap=2018-10-09T00:28:32.000Z<br>X=%{x}<br>Y=%{y}<extra></extra>\",\"legendgroup\":\"home\",\"marker\":{\"color\":\"#EF553B\",\"symbol\":\"circle\"},\"mode\":\"markers\",\"name\":\"home\",\"orientation\":\"v\",\"showlegend\":true,\"x\":[82.42,78.25,81.5],\"xaxis\":\"x\",\"y\":[32.9,36.62,11.32],\"yaxis\":\"y\",\"type\":\"scatter\"}],\"name\":\"2018-10-09T00:28:32.000Z\"},{\"data\":[{\"hovertemplate\":\"Team=home<br>TimeSnap=2018-10-09T00:32:55.000Z<br>X=%{x}<br>Y=%{y}<extra></extra>\",\"legendgroup\":\"home\",\"marker\":{\"color\":\"#EF553B\",\"symbol\":\"circle\"},\"mode\":\"markers\",\"name\":\"home\",\"orientation\":\"v\",\"showlegend\":true,\"x\":[65.2,64.71],\"xaxis\":\"x\",\"y\":[13.49,42.95],\"yaxis\":\"y\",\"type\":\"scatter\"}],\"name\":\"2018-10-09T00:32:55.000Z\"},{\"data\":[{\"hovertemplate\":\"Team=home<br>TimeSnap=2018-10-09T00:34:29.000Z<br>X=%{x}<br>Y=%{y}<extra></extra>\",\"legendgroup\":\"home\",\"marker\":{\"color\":\"#EF553B\",\"symbol\":\"circle\"},\"mode\":\"markers\",\"name\":\"home\",\"orientation\":\"v\",\"showlegend\":true,\"x\":[42.72,42.28],\"xaxis\":\"x\",\"y\":[19.31,41.97],\"yaxis\":\"y\",\"type\":\"scatter\"}],\"name\":\"2018-10-09T00:34:29.000Z\"},{\"data\":[{\"hovertemplate\":\"Team=home<br>TimeSnap=2018-10-09T00:36:39.000Z<br>X=%{x}<br>Y=%{y}<extra></extra>\",\"legendgroup\":\"home\",\"marker\":{\"color\":\"#EF553B\",\"symbol\":\"circle\"},\"mode\":\"markers\",\"name\":\"home\",\"orientation\":\"v\",\"showlegend\":true,\"x\":[32.64,31.57],\"xaxis\":\"x\",\"y\":[13.62,43.05],\"yaxis\":\"y\",\"type\":\"scatter\"}],\"name\":\"2018-10-09T00:36:39.000Z\"},{\"data\":[{\"hovertemplate\":\"Team=home<br>TimeSnap=2018-10-09T00:40:11.000Z<br>X=%{x}<br>Y=%{y}<extra></extra>\",\"legendgroup\":\"home\",\"marker\":{\"color\":\"#EF553B\",\"symbol\":\"circle\"},\"mode\":\"markers\",\"name\":\"home\",\"orientation\":\"v\",\"showlegend\":true,\"x\":[11.47,13.91],\"xaxis\":\"x\",\"y\":[28.2,40.39],\"yaxis\":\"y\",\"type\":\"scatter\"}],\"name\":\"2018-10-09T00:40:11.000Z\"},{\"data\":[{\"hovertemplate\":\"Team=away<br>TimeSnap=2018-10-09T00:46:38.000Z<br>X=%{x}<br>Y=%{y}<extra></extra>\",\"legendgroup\":\"away\",\"marker\":{\"color\":\"#636efa\",\"symbol\":\"circle\"},\"mode\":\"markers\",\"name\":\"away\",\"orientation\":\"v\",\"showlegend\":true,\"x\":[46.54],\"xaxis\":\"x\",\"y\":[8.78],\"yaxis\":\"y\",\"type\":\"scatter\"}],\"name\":\"2018-10-09T00:46:38.000Z\"},{\"data\":[{\"hovertemplate\":\"Team=away<br>TimeSnap=2018-10-09T00:48:01.000Z<br>X=%{x}<br>Y=%{y}<extra></extra>\",\"legendgroup\":\"away\",\"marker\":{\"color\":\"#636efa\",\"symbol\":\"circle\"},\"mode\":\"markers\",\"name\":\"away\",\"orientation\":\"v\",\"showlegend\":true,\"x\":[55.64,58.41,59.2],\"xaxis\":\"x\",\"y\":[7.83,41.29,32.03],\"yaxis\":\"y\",\"type\":\"scatter\"}],\"name\":\"2018-10-09T00:48:01.000Z\"},{\"data\":[{\"hovertemplate\":\"Team=away<br>TimeSnap=2018-10-09T00:56:54.000Z<br>X=%{x}<br>Y=%{y}<extra></extra>\",\"legendgroup\":\"away\",\"marker\":{\"color\":\"#636efa\",\"symbol\":\"circle\"},\"mode\":\"markers\",\"name\":\"away\",\"orientation\":\"v\",\"showlegend\":true,\"x\":[47.81,48.32,51.77],\"xaxis\":\"x\",\"y\":[40.48,16.11,37.11],\"yaxis\":\"y\",\"type\":\"scatter\"}],\"name\":\"2018-10-09T00:56:54.000Z\"},{\"data\":[{\"hovertemplate\":\"Team=home<br>TimeSnap=2018-10-09T01:04:49.000Z<br>X=%{x}<br>Y=%{y}<extra></extra>\",\"legendgroup\":\"home\",\"marker\":{\"color\":\"#EF553B\",\"symbol\":\"circle\"},\"mode\":\"markers\",\"name\":\"home\",\"orientation\":\"v\",\"showlegend\":true,\"x\":[36.14,41.52],\"xaxis\":\"x\",\"y\":[44.23,17.02],\"yaxis\":\"y\",\"type\":\"scatter\"}],\"name\":\"2018-10-09T01:04:49.000Z\"},{\"data\":[{\"hovertemplate\":\"Team=home<br>TimeSnap=2018-10-09T01:08:57.000Z<br>X=%{x}<br>Y=%{y}<extra></extra>\",\"legendgroup\":\"home\",\"marker\":{\"color\":\"#EF553B\",\"symbol\":\"circle\"},\"mode\":\"markers\",\"name\":\"home\",\"orientation\":\"v\",\"showlegend\":true,\"x\":[74.44,77.55],\"xaxis\":\"x\",\"y\":[22.47,19.45],\"yaxis\":\"y\",\"type\":\"scatter\"}],\"name\":\"2018-10-09T01:08:57.000Z\"},{\"data\":[{\"hovertemplate\":\"Team=away<br>TimeSnap=2018-10-09T01:15:56.000Z<br>X=%{x}<br>Y=%{y}<extra></extra>\",\"legendgroup\":\"away\",\"marker\":{\"color\":\"#636efa\",\"symbol\":\"circle\"},\"mode\":\"markers\",\"name\":\"away\",\"orientation\":\"v\",\"showlegend\":true,\"x\":[62.92,58.41],\"xaxis\":\"x\",\"y\":[44.76,23.7],\"yaxis\":\"y\",\"type\":\"scatter\"}],\"name\":\"2018-10-09T01:15:56.000Z\"},{\"data\":[{\"hovertemplate\":\"Team=away<br>TimeSnap=2018-10-09T01:18:51.000Z<br>X=%{x}<br>Y=%{y}<extra></extra>\",\"legendgroup\":\"away\",\"marker\":{\"color\":\"#636efa\",\"symbol\":\"circle\"},\"mode\":\"markers\",\"name\":\"away\",\"orientation\":\"v\",\"showlegend\":true,\"x\":[50.25],\"xaxis\":\"x\",\"y\":[43.32],\"yaxis\":\"y\",\"type\":\"scatter\"}],\"name\":\"2018-10-09T01:18:51.000Z\"},{\"data\":[{\"hovertemplate\":\"Team=away<br>TimeSnap=2018-10-09T01:21:59.000Z<br>X=%{x}<br>Y=%{y}<extra></extra>\",\"legendgroup\":\"away\",\"marker\":{\"color\":\"#636efa\",\"symbol\":\"circle\"},\"mode\":\"markers\",\"name\":\"away\",\"orientation\":\"v\",\"showlegend\":true,\"x\":[10.69,8.26,10.36],\"xaxis\":\"x\",\"y\":[42.1,19.39,34.86],\"yaxis\":\"y\",\"type\":\"scatter\"}],\"name\":\"2018-10-09T01:21:59.000Z\"},{\"data\":[{\"hovertemplate\":\"Team=away<br>TimeSnap=2018-10-09T01:22:37.000Z<br>X=%{x}<br>Y=%{y}<extra></extra>\",\"legendgroup\":\"away\",\"marker\":{\"color\":\"#636efa\",\"symbol\":\"circle\"},\"mode\":\"markers\",\"name\":\"away\",\"orientation\":\"v\",\"showlegend\":true,\"x\":[7.83],\"xaxis\":\"x\",\"y\":[21.55],\"yaxis\":\"y\",\"type\":\"scatter\"}],\"name\":\"2018-10-09T01:22:37.000Z\"},{\"data\":[{\"hovertemplate\":\"Team=home<br>TimeSnap=2018-10-09T01:49:56.000Z<br>X=%{x}<br>Y=%{y}<extra></extra>\",\"legendgroup\":\"home\",\"marker\":{\"color\":\"#EF553B\",\"symbol\":\"circle\"},\"mode\":\"markers\",\"name\":\"home\",\"orientation\":\"v\",\"showlegend\":true,\"x\":[107.77,109.53],\"xaxis\":\"x\",\"y\":[22.97,20.59],\"yaxis\":\"y\",\"type\":\"scatter\"}],\"name\":\"2018-10-09T01:49:56.000Z\"},{\"data\":[{\"hovertemplate\":\"Team=away<br>TimeSnap=2018-10-09T02:09:22.000Z<br>X=%{x}<br>Y=%{y}<extra></extra>\",\"legendgroup\":\"away\",\"marker\":{\"color\":\"#636efa\",\"symbol\":\"circle\"},\"mode\":\"markers\",\"name\":\"away\",\"orientation\":\"v\",\"showlegend\":true,\"x\":[42.49,39.86],\"xaxis\":\"x\",\"y\":[38.65,30.06],\"yaxis\":\"y\",\"type\":\"scatter\"}],\"name\":\"2018-10-09T02:09:22.000Z\"},{\"data\":[{\"hovertemplate\":\"Team=home<br>TimeSnap=2018-10-09T02:17:52.000Z<br>X=%{x}<br>Y=%{y}<extra></extra>\",\"legendgroup\":\"home\",\"marker\":{\"color\":\"#EF553B\",\"symbol\":\"circle\"},\"mode\":\"markers\",\"name\":\"home\",\"orientation\":\"v\",\"showlegend\":true,\"x\":[61.29,56.03],\"xaxis\":\"x\",\"y\":[20.39,35.38],\"yaxis\":\"y\",\"type\":\"scatter\"}],\"name\":\"2018-10-09T02:17:52.000Z\"},{\"data\":[{\"hovertemplate\":\"Team=home<br>TimeSnap=2018-10-09T02:19:09.000Z<br>X=%{x}<br>Y=%{y}<extra></extra>\",\"legendgroup\":\"home\",\"marker\":{\"color\":\"#EF553B\",\"symbol\":\"circle\"},\"mode\":\"markers\",\"name\":\"home\",\"orientation\":\"v\",\"showlegend\":true,\"x\":[49.49,51.74],\"xaxis\":\"x\",\"y\":[28.83,44.86],\"yaxis\":\"y\",\"type\":\"scatter\"}],\"name\":\"2018-10-09T02:19:09.000Z\"},{\"data\":[{\"hovertemplate\":\"Team=home<br>TimeSnap=2018-10-09T02:20:34.000Z<br>X=%{x}<br>Y=%{y}<extra></extra>\",\"legendgroup\":\"home\",\"marker\":{\"color\":\"#EF553B\",\"symbol\":\"circle\"},\"mode\":\"markers\",\"name\":\"home\",\"orientation\":\"v\",\"showlegend\":true,\"x\":[44.94,46.65],\"xaxis\":\"x\",\"y\":[8.17,45.3],\"yaxis\":\"y\",\"type\":\"scatter\"}],\"name\":\"2018-10-09T02:20:34.000Z\"},{\"data\":[{\"hovertemplate\":\"Team=home<br>TimeSnap=2018-10-09T02:31:01.000Z<br>X=%{x}<br>Y=%{y}<extra></extra>\",\"legendgroup\":\"home\",\"marker\":{\"color\":\"#EF553B\",\"symbol\":\"circle\"},\"mode\":\"markers\",\"name\":\"home\",\"orientation\":\"v\",\"showlegend\":true,\"x\":[77.0,72.08],\"xaxis\":\"x\",\"y\":[35.85,33.24],\"yaxis\":\"y\",\"type\":\"scatter\"}],\"name\":\"2018-10-09T02:31:01.000Z\"},{\"data\":[{\"hovertemplate\":\"Team=home<br>TimeSnap=2018-10-09T02:33:31.000Z<br>X=%{x}<br>Y=%{y}<extra></extra>\",\"legendgroup\":\"home\",\"marker\":{\"color\":\"#EF553B\",\"symbol\":\"circle\"},\"mode\":\"markers\",\"name\":\"home\",\"orientation\":\"v\",\"showlegend\":true,\"x\":[61.47,58.73],\"xaxis\":\"x\",\"y\":[39.23,43.92],\"yaxis\":\"y\",\"type\":\"scatter\"}],\"name\":\"2018-10-09T02:33:31.000Z\"},{\"data\":[{\"hovertemplate\":\"Team=away<br>TimeSnap=2018-10-09T02:40:47.000Z<br>X=%{x}<br>Y=%{y}<extra></extra>\",\"legendgroup\":\"away\",\"marker\":{\"color\":\"#636efa\",\"symbol\":\"circle\"},\"mode\":\"markers\",\"name\":\"away\",\"orientation\":\"v\",\"showlegend\":true,\"x\":[64.3,66.76],\"xaxis\":\"x\",\"y\":[10.98,40.52],\"yaxis\":\"y\",\"type\":\"scatter\"}],\"name\":\"2018-10-09T02:40:47.000Z\"},{\"data\":[{\"hovertemplate\":\"Team=away<br>TimeSnap=2018-10-09T02:46:45.000Z<br>X=%{x}<br>Y=%{y}<extra></extra>\",\"legendgroup\":\"away\",\"marker\":{\"color\":\"#636efa\",\"symbol\":\"circle\"},\"mode\":\"markers\",\"name\":\"away\",\"orientation\":\"v\",\"showlegend\":true,\"x\":[37.71,35.41,39.0],\"xaxis\":\"x\",\"y\":[44.15,8.33,15.99],\"yaxis\":\"y\",\"type\":\"scatter\"}],\"name\":\"2018-10-09T02:46:45.000Z\"},{\"data\":[{\"hovertemplate\":\"Team=home<br>TimeSnap=2018-10-09T02:52:36.000Z<br>X=%{x}<br>Y=%{y}<extra></extra>\",\"legendgroup\":\"home\",\"marker\":{\"color\":\"#EF553B\",\"symbol\":\"circle\"},\"mode\":\"markers\",\"name\":\"home\",\"orientation\":\"v\",\"showlegend\":true,\"x\":[36.13,41.34],\"xaxis\":\"x\",\"y\":[18.74,10.54],\"yaxis\":\"y\",\"type\":\"scatter\"}],\"name\":\"2018-10-09T02:52:36.000Z\"},{\"data\":[{\"hovertemplate\":\"Team=away<br>TimeSnap=2018-10-09T03:04:40.000Z<br>X=%{x}<br>Y=%{y}<extra></extra>\",\"legendgroup\":\"away\",\"marker\":{\"color\":\"#636efa\",\"symbol\":\"circle\"},\"mode\":\"markers\",\"name\":\"away\",\"orientation\":\"v\",\"showlegend\":true,\"x\":[83.25,84.23],\"xaxis\":\"x\",\"y\":[31.73,17.42],\"yaxis\":\"y\",\"type\":\"scatter\"}],\"name\":\"2018-10-09T03:04:40.000Z\"},{\"data\":[{\"hovertemplate\":\"Team=away<br>TimeSnap=2018-10-09T03:05:27.000Z<br>X=%{x}<br>Y=%{y}<extra></extra>\",\"legendgroup\":\"away\",\"marker\":{\"color\":\"#636efa\",\"symbol\":\"circle\"},\"mode\":\"markers\",\"name\":\"away\",\"orientation\":\"v\",\"showlegend\":true,\"x\":[79.99,78.36],\"xaxis\":\"x\",\"y\":[41.41,15.55],\"yaxis\":\"y\",\"type\":\"scatter\"}],\"name\":\"2018-10-09T03:05:27.000Z\"},{\"data\":[{\"hovertemplate\":\"Team=away<br>TimeSnap=2018-10-09T03:06:52.000Z<br>X=%{x}<br>Y=%{y}<extra></extra>\",\"legendgroup\":\"away\",\"marker\":{\"color\":\"#636efa\",\"symbol\":\"circle\"},\"mode\":\"markers\",\"name\":\"away\",\"orientation\":\"v\",\"showlegend\":true,\"x\":[73.77,68.64],\"xaxis\":\"x\",\"y\":[44.06,22.01],\"yaxis\":\"y\",\"type\":\"scatter\"}],\"name\":\"2018-10-09T03:06:52.000Z\"},{\"data\":[{\"hovertemplate\":\"Team=away<br>TimeSnap=2018-10-09T03:08:21.000Z<br>X=%{x}<br>Y=%{y}<extra></extra>\",\"legendgroup\":\"away\",\"marker\":{\"color\":\"#636efa\",\"symbol\":\"circle\"},\"mode\":\"markers\",\"name\":\"away\",\"orientation\":\"v\",\"showlegend\":true,\"x\":[59.43,59.15,63.29],\"xaxis\":\"x\",\"y\":[40.23,14.63,37.35],\"yaxis\":\"y\",\"type\":\"scatter\"}],\"name\":\"2018-10-09T03:08:21.000Z\"},{\"data\":[{\"hovertemplate\":\"Team=away<br>TimeSnap=2018-10-09T03:09:56.000Z<br>X=%{x}<br>Y=%{y}<extra></extra>\",\"legendgroup\":\"away\",\"marker\":{\"color\":\"#636efa\",\"symbol\":\"circle\"},\"mode\":\"markers\",\"name\":\"away\",\"orientation\":\"v\",\"showlegend\":true,\"x\":[48.02],\"xaxis\":\"x\",\"y\":[43.53],\"yaxis\":\"y\",\"type\":\"scatter\"}],\"name\":\"2018-10-09T03:09:56.000Z\"},{\"data\":[{\"hovertemplate\":\"Team=away<br>TimeSnap=2018-10-09T03:12:09.000Z<br>X=%{x}<br>Y=%{y}<extra></extra>\",\"legendgroup\":\"away\",\"marker\":{\"color\":\"#636efa\",\"symbol\":\"circle\"},\"mode\":\"markers\",\"name\":\"away\",\"orientation\":\"v\",\"showlegend\":true,\"x\":[35.32],\"xaxis\":\"x\",\"y\":[37.28],\"yaxis\":\"y\",\"type\":\"scatter\"}],\"name\":\"2018-10-09T03:12:09.000Z\"},{\"data\":[{\"hovertemplate\":\"Team=away<br>TimeSnap=2018-10-09T03:12:48.000Z<br>X=%{x}<br>Y=%{y}<extra></extra>\",\"legendgroup\":\"away\",\"marker\":{\"color\":\"#636efa\",\"symbol\":\"circle\"},\"mode\":\"markers\",\"name\":\"away\",\"orientation\":\"v\",\"showlegend\":true,\"x\":[33.21,33.5],\"xaxis\":\"x\",\"y\":[36.11,16.48],\"yaxis\":\"y\",\"type\":\"scatter\"}],\"name\":\"2018-10-09T03:12:48.000Z\"}]);\n",
              "                        }).then(function(){\n",
              "                            \n",
              "var gd = document.getElementById('367aac53-93ef-4f57-89a1-8d1f04feadc1');\n",
              "var x = new MutationObserver(function (mutations, observer) {{\n",
              "        var display = window.getComputedStyle(gd).display;\n",
              "        if (!display || display === 'none') {{\n",
              "            console.log([gd, 'removed!']);\n",
              "            Plotly.purge(gd);\n",
              "            observer.disconnect();\n",
              "        }}\n",
              "}});\n",
              "\n",
              "// Listen for the removal of the full notebook cells\n",
              "var notebookContainer = gd.closest('#notebook-container');\n",
              "if (notebookContainer) {{\n",
              "    x.observe(notebookContainer, {childList: true});\n",
              "}}\n",
              "\n",
              "// Listen for the clearing of the current output cell\n",
              "var outputEl = gd.closest('.output');\n",
              "if (outputEl) {{\n",
              "    x.observe(outputEl, {childList: true});\n",
              "}}\n",
              "\n",
              "                        })                };                            </script>        </div>\n",
              "</body>\n",
              "</html>"
            ]
          },
          "metadata": {}
        }
      ]
    },
    {
      "cell_type": "code",
      "source": [
        "def Age_Fre(): \n",
        "  #Pandas\n",
        "  start = time.time()\n",
        "  df_player = df_train.loc[:,['NflId', 'DisplayName', 'PlayerBirthDate', 'PlayerWeight', 'PlayerHeight', 'PlayerCollegeName']].drop_duplicates()\n",
        "  end = time.time()\n",
        "  pandas_query = (end-start)\n",
        "\n",
        "  #Spark\n",
        "  start = time.time()\n",
        "  df_player = df.select('NflId', 'DisplayName', 'PlayerBirthDate', 'PlayerWeight', 'PlayerHeight', 'PlayerCollegeName').drop_duplicates()\n",
        "  end = time.time()\n",
        "  spark_query = (end-start)\n",
        "\n",
        "  # df_player.show()\n",
        "\n",
        "  df_player = df_player.toPandas()\n",
        "  df_player = df_player.loc[:,['NflId', 'DisplayName', 'PlayerBirthDate', 'PlayerWeight', 'PlayerHeight', 'PlayerCollegeName']].drop_duplicates()\n",
        "  df_player[\"HeightFt\"] = df_player[\"PlayerHeight\"].str.split('-', expand=True)[0].astype(int)\n",
        "  df_player[\"HeightIn\"] = df_player[\"PlayerHeight\"].str.split('-', expand=True)[1].astype(int)\n",
        "  df_player[\"HeightCm\"] = df_player[\"HeightFt\"]*30.48 + df_player[\"HeightIn\"]*2.54\n",
        "  df_player['PlayerWeight'] = df_player['PlayerWeight'].astype(float)\n",
        "  df_player[\"WeightKg\"] = df_player[\"PlayerWeight\"]*0.45359237\n",
        "  df_height = df_player.groupby(['PlayerHeight','HeightFt','HeightIn']).size().reset_index().sort_values([\"HeightFt\", \"HeightIn\"])\n",
        "  df_height.columns = [\"PlayerHeight\",\"HeightFt\",\"HeightIn\",\"Count\"]\n",
        "\n",
        "\n",
        "  df_player['BirthDate'] = df_player['PlayerBirthDate'].astype('datetime64[ns]')\n",
        "  #df_train[\"TimeSnap\"].astype('datetime64[ns]').sort_values(ascending=False)\n",
        "  #max date in TimeSnap cloumn is 2018-12-31, so i'm not using today function\n",
        "\n",
        "  df_player['MaxDate'] = pd.to_datetime('2019-11-26')\n",
        "\n",
        "  df_player['Age'] = round((df_player['MaxDate'] - df_player['BirthDate'])/np.timedelta64(1,'D')/365.25,1)\n",
        "\n",
        "  plt.figure(figsize=(6,6))\n",
        "\n",
        "  plt.hist(df_player[\"Age\"], bins=20 ,edgecolor='black', color='crimson')\n",
        "  plt.title(\"Age of Players in 2019\")\n",
        "  plt.savefig('test.png')\n",
        "  return PIL.Image.open('test.png', 'r'), pandas_query, spark_query\n",
        "  # plt.show()"
      ],
      "metadata": {
        "id": "y1xdAe24NwgQ"
      },
      "execution_count": 87,
      "outputs": []
    },
    {
      "cell_type": "code",
      "source": [
        "import matplotlib.pyplot as plt\n",
        "def Position_PlayerWeight_cor():\n",
        "# df_train.plot(x='Position', y='PlayerWeight', style='o')\n",
        "  plt.scatter(df_train['Position'], df_train['PlayerWeight'])\n",
        "  # plt.show()\n",
        "  # fig.\n",
        "  plt.savefig(\"test.png\")\n",
        "# fig.write_image(file='test.png', format='png')\n",
        "  return PIL.Image.open('test.png', 'r'), \"\", \"\"\n",
        "\n",
        "\n",
        "\n",
        "  #Dead"
      ],
      "metadata": {
        "id": "Ra3bA-pgNGle"
      },
      "execution_count": 88,
      "outputs": []
    },
    {
      "cell_type": "code",
      "source": [
        "def Game_by_Stadium_Name(): \n",
        "  #Pandas\n",
        "  start = time.time()\n",
        "  df_stadium = df_train.loc[:,[\"PlayId\",\"Stadium\", \"StadiumType\"]].drop_duplicates()\n",
        "  end = time.time()\n",
        "  pandas_query = (end-start)\n",
        "\n",
        "  #Spark\n",
        "  start = time.time()\n",
        "  df_stadium = df.select(\"PlayId\",\"Stadium\", \"StadiumType\").drop_duplicates()\n",
        "  end = time.time()\n",
        "  spark_query = (end-start)\n",
        "  df_stadium = df_stadium.toPandas()\n",
        "\n",
        "  stadium = df_stadium[\"Stadium\"].value_counts()\n",
        "  df_stadiumCount = pd.DataFrame({'Stadium':stadium.index, 'Count':stadium.values}).sort_values(\"Stadium\")\n",
        "  fig = px.bar(df_stadiumCount, x='Stadium', y='Count', title=\"Games by Stadium\", height=700, width=800)\n",
        "  fig.update_traces(marker_color='darkorange', marker_line_color='rgb(8,48,107)',\n",
        "                    marker_line_width=2, opacity=0.7)\n",
        "  fig.write_image(file='test.png', format='png')\n",
        "  return PIL.Image.open('test.png', 'r'), pandas_query, spark_query\n",
        "# fig.show()"
      ],
      "metadata": {
        "id": "_-Cu4o0wPu1X"
      },
      "execution_count": 89,
      "outputs": []
    },
    {
      "cell_type": "code",
      "source": [
        "def Game_by_Stadium_Type():\n",
        "  #Pandas\n",
        "  start = time.time()\n",
        "  df_stadium = df_train.loc[:,[\"PlayId\",\"Stadium\", \"StadiumType\"]].drop_duplicates()\n",
        "  end = time.time()\n",
        "  pandas_query = (end-start)\n",
        "\n",
        "  #Spark\n",
        "  start = time.time()\n",
        "  df_stadium = df.select(\"PlayId\",\"Stadium\", \"StadiumType\").drop_duplicates()\n",
        "  end = time.time()\n",
        "  spark_query = (end-start)\n",
        "  df_stadium = df_stadium.toPandas()\n",
        "\n",
        "  StadiumType = df_stadium[\"StadiumType\"].value_counts()\n",
        "\n",
        "  df_StadiumType = pd.DataFrame({'StadiumType':StadiumType.index, 'Count':StadiumType.values}).sort_values(\"StadiumType\")\n",
        "\n",
        "  fig = px.bar(df_StadiumType, x='StadiumType', y='Count', title=\"Games by Stadium Type\", height=600, width=800)\n",
        "\n",
        "  fig.update_traces(marker_color='rgb(158,202,225)', marker_line_color='rgb(8,48,107)',\n",
        "                    marker_line_width=1.5, opacity=0.6)\n",
        "  fig.write_image(file='test.png', format='png')\n",
        "  return PIL.Image.open('test.png', 'r'), pandas_query, spark_query\n",
        "# fig.show()"
      ],
      "metadata": {
        "id": "IPYjfGW0wkAs"
      },
      "execution_count": 90,
      "outputs": []
    },
    {
      "cell_type": "code",
      "source": [
        "#Pandas\n",
        "start = time.time()\n",
        "stadium_loc = df_train.loc[:,['GameId', 'Location']].drop_duplicates()\n",
        "stadium_loc = stadium_loc['Location'].value_counts()\n",
        "end = time.time()\n",
        "print(end-start)\n",
        "\n",
        "#Spark\n",
        "start = time.time()\n",
        "stadium_loc = df.select(\"GameId\", \"Location\").drop_duplicates()\n",
        "stadium_loc = stadium_loc.groupBy('Location').count().orderBy('count')\n",
        "end = time.time()\n",
        "print(end-start)\n",
        "\n",
        "df_stadium_loc = stadium_loc.toPandas()\n",
        "print(stadium_loc)\n",
        "df_stadium_loc[\"State\"] = df_stadium_loc[\"Location\"].str.split(', ', expand=True)[0]\n",
        "df_stadium_loc[\"StateAbb\"] = df_stadium_loc[\"Location\"].str.split(', ', expand=True)[1]\n",
        "\n",
        "\n",
        "fig = go.Figure(data=go.Choropleth(\n",
        "    locations=df_stadium_loc[\"StateAbb\"], \n",
        "    z = df_stadium_loc['count'], \n",
        "    locationmode = 'USA-states', \n",
        "    text = df_stadium_loc['State'],\n",
        "    colorscale=\n",
        "            [[0.0, \"rgb(251, 237, 235)\"],\n",
        "            [0.09, \"rgb(245, 211, 206)\"],\n",
        "            [0.12, \"rgb(239, 179, 171)\"],\n",
        "            [0.15, \"rgb(236, 148, 136)\"],\n",
        "            [0.22, \"rgb(239, 117, 100)\"],\n",
        "            [0.35, \"rgb(235, 90, 70)\"],\n",
        "            [0.45, \"rgb(207, 81, 61)\"],\n",
        "            [0.65, \"rgb(176, 70, 50)\"],\n",
        "            [0.85, \"rgb(147, 59, 39)\"],\n",
        "            [1.00, \"rgb(110, 47, 26)\"]],\n",
        "    autocolorscale = False))\n",
        "\n",
        "fig.update_layout(\n",
        "    geo_scope='usa',\n",
        "    title_text = 'Total Number of Games by States', height=500, width=700)\n",
        "\n",
        "fig.show()"
      ],
      "metadata": {
        "id": "tDevfOIcwR_Y",
        "colab": {
          "base_uri": "https://localhost:8080/",
          "height": 569
        },
        "outputId": "02dbcca1-08ee-4479-f5ef-fa40147edf5f"
      },
      "execution_count": 91,
      "outputs": [
        {
          "output_type": "stream",
          "name": "stdout",
          "text": [
            "0.07745242118835449\n",
            "0.02305889129638672\n",
            "DataFrame[Location: string, count: bigint]\n"
          ]
        },
        {
          "output_type": "display_data",
          "data": {
            "text/html": [
              "<html>\n",
              "<head><meta charset=\"utf-8\" /></head>\n",
              "<body>\n",
              "    <div>            <script src=\"https://cdnjs.cloudflare.com/ajax/libs/mathjax/2.7.5/MathJax.js?config=TeX-AMS-MML_SVG\"></script><script type=\"text/javascript\">if (window.MathJax) {MathJax.Hub.Config({SVG: {font: \"STIX-Web\"}});}</script>                <script type=\"text/javascript\">window.PlotlyConfig = {MathJaxConfig: 'local'};</script>\n",
              "        <script src=\"https://cdn.plot.ly/plotly-2.8.3.min.js\"></script>                <div id=\"f543af00-bce6-4f03-b1d4-5e3b49c1ad49\" class=\"plotly-graph-div\" style=\"height:500px; width:700px;\"></div>            <script type=\"text/javascript\">                                    window.PLOTLYENV=window.PLOTLYENV || {};                                    if (document.getElementById(\"f543af00-bce6-4f03-b1d4-5e3b49c1ad49\")) {                    Plotly.newPlot(                        \"f543af00-bce6-4f03-b1d4-5e3b49c1ad49\",                        [{\"autocolorscale\":false,\"colorscale\":[[0.0,\"rgb(251, 237, 235)\"],[0.09,\"rgb(245, 211, 206)\"],[0.12,\"rgb(239, 179, 171)\"],[0.15,\"rgb(236, 148, 136)\"],[0.22,\"rgb(239, 117, 100)\"],[0.35,\"rgb(235, 90, 70)\"],[0.45,\"rgb(207, 81, 61)\"],[0.65,\"rgb(176, 70, 50)\"],[0.85,\"rgb(147, 59, 39)\"],[1.0,\"rgb(110, 47, 26)\"]],\"locationmode\":\"USA-states\",\"locations\":[\"Mexico\",\"OH\",null,null,null,null,null,\"TX\",null,\"CSA\",null,\" MO\",null,\"NJ\",null,\"Florida\",\"Maryland\",\"Fl\",\"Ma\",\"PA\",\"MD\",\"N.J.\",\"CA\",\"FL\",null,\"PA\",\"FLA\",\"NY\",\"MI\",null,\"OH\",\"Texas\",null,\"La.\",\"NC\",\"England\",\"Ohio\",\"North Carolina\",\"LA\",\"Fla.\",\"TX\",\"Ohio\",\"FL\",\"WA\",null,\"Calif.\",\"Md.\",null,\"CO\",\"Pa.\",\"CA\",\"MA\",\"MO\",\"Texas\",null,\"IL\",\"CA\",\"FL\",\"GA\",\"MN\",\"CA\",\"AZ\",\"MD\",\"TN\",\"WI\",\"Ind.\",\"NJ\"],\"text\":[\"Mexico City\",\"Cleveland\",\"Charlotte North Carolina\",\"Cleveland\",\"London\",\"Jacksonville Florida\",\"Mexico City\",\"Arlington\",\"Chicago\",\"Santa Clara\",\"New Orleans\",\"Kansas City\",\"Cleveland Ohio\",\"E. Rutherford\",\"Chicago. IL\",\"Jacksonville\",\"Baltimore\",\"Jacksonville\",\"Foxborough\",\"Pittsburgh\",\"Baltimore\",\"East Rutherford\",\"Los Angeles\",\"Miami Gardens\",\"Denver CO\",\"Philadelphia\",\"Miami Gardens\",\"Orchard Park\",\"Detroit\",\"Seattle\",\"Cincinnati\",\"Houston\",\"Cleveland,Ohio\",\"New Orleans\",\"Charlotte\",\"London\",\"Cleveland\",\"Charlotte\",\"New Orleans\",\"Miami Gardens\",\"Houston\",\"Cincinnati\",\"Jacksonville\",\"Seattle\",\"Detroit\",\"Los Angeles\",\"Baltimore\",\"Orchard Park NY\",\"Denver\",\"Philadelphia\",\"Oakland\",\"Foxborough\",\"Kansas City\",\"Arlington\",\"Pittsburgh\",\"Chicago\",\"Carson\",\"Tampa\",\"Atlanta\",\"Minneapolis\",\"Santa Clara\",\"Glendale\",\"Landover\",\"Nashville\",\"Green Bay\",\"Indianapolis\",\"East Rutherford\"],\"z\":[1,1,1,1,1,1,1,1,1,1,1,1,1,1,1,1,2,2,2,2,2,3,3,3,3,3,4,4,5,5,7,7,8,8,9,10,10,11,13,14,14,14,14,16,16,17,17,18,18,19,19,19,20,20,20,20,20,20,21,21,21,21,22,22,22,22,39],\"type\":\"choropleth\"}],                        {\"template\":{\"data\":{\"bar\":[{\"error_x\":{\"color\":\"#2a3f5f\"},\"error_y\":{\"color\":\"#2a3f5f\"},\"marker\":{\"line\":{\"color\":\"#E5ECF6\",\"width\":0.5},\"pattern\":{\"fillmode\":\"overlay\",\"size\":10,\"solidity\":0.2}},\"type\":\"bar\"}],\"barpolar\":[{\"marker\":{\"line\":{\"color\":\"#E5ECF6\",\"width\":0.5},\"pattern\":{\"fillmode\":\"overlay\",\"size\":10,\"solidity\":0.2}},\"type\":\"barpolar\"}],\"carpet\":[{\"aaxis\":{\"endlinecolor\":\"#2a3f5f\",\"gridcolor\":\"white\",\"linecolor\":\"white\",\"minorgridcolor\":\"white\",\"startlinecolor\":\"#2a3f5f\"},\"baxis\":{\"endlinecolor\":\"#2a3f5f\",\"gridcolor\":\"white\",\"linecolor\":\"white\",\"minorgridcolor\":\"white\",\"startlinecolor\":\"#2a3f5f\"},\"type\":\"carpet\"}],\"choropleth\":[{\"colorbar\":{\"outlinewidth\":0,\"ticks\":\"\"},\"type\":\"choropleth\"}],\"contour\":[{\"colorbar\":{\"outlinewidth\":0,\"ticks\":\"\"},\"colorscale\":[[0.0,\"#0d0887\"],[0.1111111111111111,\"#46039f\"],[0.2222222222222222,\"#7201a8\"],[0.3333333333333333,\"#9c179e\"],[0.4444444444444444,\"#bd3786\"],[0.5555555555555556,\"#d8576b\"],[0.6666666666666666,\"#ed7953\"],[0.7777777777777778,\"#fb9f3a\"],[0.8888888888888888,\"#fdca26\"],[1.0,\"#f0f921\"]],\"type\":\"contour\"}],\"contourcarpet\":[{\"colorbar\":{\"outlinewidth\":0,\"ticks\":\"\"},\"type\":\"contourcarpet\"}],\"heatmap\":[{\"colorbar\":{\"outlinewidth\":0,\"ticks\":\"\"},\"colorscale\":[[0.0,\"#0d0887\"],[0.1111111111111111,\"#46039f\"],[0.2222222222222222,\"#7201a8\"],[0.3333333333333333,\"#9c179e\"],[0.4444444444444444,\"#bd3786\"],[0.5555555555555556,\"#d8576b\"],[0.6666666666666666,\"#ed7953\"],[0.7777777777777778,\"#fb9f3a\"],[0.8888888888888888,\"#fdca26\"],[1.0,\"#f0f921\"]],\"type\":\"heatmap\"}],\"heatmapgl\":[{\"colorbar\":{\"outlinewidth\":0,\"ticks\":\"\"},\"colorscale\":[[0.0,\"#0d0887\"],[0.1111111111111111,\"#46039f\"],[0.2222222222222222,\"#7201a8\"],[0.3333333333333333,\"#9c179e\"],[0.4444444444444444,\"#bd3786\"],[0.5555555555555556,\"#d8576b\"],[0.6666666666666666,\"#ed7953\"],[0.7777777777777778,\"#fb9f3a\"],[0.8888888888888888,\"#fdca26\"],[1.0,\"#f0f921\"]],\"type\":\"heatmapgl\"}],\"histogram\":[{\"marker\":{\"pattern\":{\"fillmode\":\"overlay\",\"size\":10,\"solidity\":0.2}},\"type\":\"histogram\"}],\"histogram2d\":[{\"colorbar\":{\"outlinewidth\":0,\"ticks\":\"\"},\"colorscale\":[[0.0,\"#0d0887\"],[0.1111111111111111,\"#46039f\"],[0.2222222222222222,\"#7201a8\"],[0.3333333333333333,\"#9c179e\"],[0.4444444444444444,\"#bd3786\"],[0.5555555555555556,\"#d8576b\"],[0.6666666666666666,\"#ed7953\"],[0.7777777777777778,\"#fb9f3a\"],[0.8888888888888888,\"#fdca26\"],[1.0,\"#f0f921\"]],\"type\":\"histogram2d\"}],\"histogram2dcontour\":[{\"colorbar\":{\"outlinewidth\":0,\"ticks\":\"\"},\"colorscale\":[[0.0,\"#0d0887\"],[0.1111111111111111,\"#46039f\"],[0.2222222222222222,\"#7201a8\"],[0.3333333333333333,\"#9c179e\"],[0.4444444444444444,\"#bd3786\"],[0.5555555555555556,\"#d8576b\"],[0.6666666666666666,\"#ed7953\"],[0.7777777777777778,\"#fb9f3a\"],[0.8888888888888888,\"#fdca26\"],[1.0,\"#f0f921\"]],\"type\":\"histogram2dcontour\"}],\"mesh3d\":[{\"colorbar\":{\"outlinewidth\":0,\"ticks\":\"\"},\"type\":\"mesh3d\"}],\"parcoords\":[{\"line\":{\"colorbar\":{\"outlinewidth\":0,\"ticks\":\"\"}},\"type\":\"parcoords\"}],\"pie\":[{\"automargin\":true,\"type\":\"pie\"}],\"scatter\":[{\"marker\":{\"colorbar\":{\"outlinewidth\":0,\"ticks\":\"\"}},\"type\":\"scatter\"}],\"scatter3d\":[{\"line\":{\"colorbar\":{\"outlinewidth\":0,\"ticks\":\"\"}},\"marker\":{\"colorbar\":{\"outlinewidth\":0,\"ticks\":\"\"}},\"type\":\"scatter3d\"}],\"scattercarpet\":[{\"marker\":{\"colorbar\":{\"outlinewidth\":0,\"ticks\":\"\"}},\"type\":\"scattercarpet\"}],\"scattergeo\":[{\"marker\":{\"colorbar\":{\"outlinewidth\":0,\"ticks\":\"\"}},\"type\":\"scattergeo\"}],\"scattergl\":[{\"marker\":{\"colorbar\":{\"outlinewidth\":0,\"ticks\":\"\"}},\"type\":\"scattergl\"}],\"scattermapbox\":[{\"marker\":{\"colorbar\":{\"outlinewidth\":0,\"ticks\":\"\"}},\"type\":\"scattermapbox\"}],\"scatterpolar\":[{\"marker\":{\"colorbar\":{\"outlinewidth\":0,\"ticks\":\"\"}},\"type\":\"scatterpolar\"}],\"scatterpolargl\":[{\"marker\":{\"colorbar\":{\"outlinewidth\":0,\"ticks\":\"\"}},\"type\":\"scatterpolargl\"}],\"scatterternary\":[{\"marker\":{\"colorbar\":{\"outlinewidth\":0,\"ticks\":\"\"}},\"type\":\"scatterternary\"}],\"surface\":[{\"colorbar\":{\"outlinewidth\":0,\"ticks\":\"\"},\"colorscale\":[[0.0,\"#0d0887\"],[0.1111111111111111,\"#46039f\"],[0.2222222222222222,\"#7201a8\"],[0.3333333333333333,\"#9c179e\"],[0.4444444444444444,\"#bd3786\"],[0.5555555555555556,\"#d8576b\"],[0.6666666666666666,\"#ed7953\"],[0.7777777777777778,\"#fb9f3a\"],[0.8888888888888888,\"#fdca26\"],[1.0,\"#f0f921\"]],\"type\":\"surface\"}],\"table\":[{\"cells\":{\"fill\":{\"color\":\"#EBF0F8\"},\"line\":{\"color\":\"white\"}},\"header\":{\"fill\":{\"color\":\"#C8D4E3\"},\"line\":{\"color\":\"white\"}},\"type\":\"table\"}]},\"layout\":{\"annotationdefaults\":{\"arrowcolor\":\"#2a3f5f\",\"arrowhead\":0,\"arrowwidth\":1},\"autotypenumbers\":\"strict\",\"coloraxis\":{\"colorbar\":{\"outlinewidth\":0,\"ticks\":\"\"}},\"colorscale\":{\"diverging\":[[0,\"#8e0152\"],[0.1,\"#c51b7d\"],[0.2,\"#de77ae\"],[0.3,\"#f1b6da\"],[0.4,\"#fde0ef\"],[0.5,\"#f7f7f7\"],[0.6,\"#e6f5d0\"],[0.7,\"#b8e186\"],[0.8,\"#7fbc41\"],[0.9,\"#4d9221\"],[1,\"#276419\"]],\"sequential\":[[0.0,\"#0d0887\"],[0.1111111111111111,\"#46039f\"],[0.2222222222222222,\"#7201a8\"],[0.3333333333333333,\"#9c179e\"],[0.4444444444444444,\"#bd3786\"],[0.5555555555555556,\"#d8576b\"],[0.6666666666666666,\"#ed7953\"],[0.7777777777777778,\"#fb9f3a\"],[0.8888888888888888,\"#fdca26\"],[1.0,\"#f0f921\"]],\"sequentialminus\":[[0.0,\"#0d0887\"],[0.1111111111111111,\"#46039f\"],[0.2222222222222222,\"#7201a8\"],[0.3333333333333333,\"#9c179e\"],[0.4444444444444444,\"#bd3786\"],[0.5555555555555556,\"#d8576b\"],[0.6666666666666666,\"#ed7953\"],[0.7777777777777778,\"#fb9f3a\"],[0.8888888888888888,\"#fdca26\"],[1.0,\"#f0f921\"]]},\"colorway\":[\"#636efa\",\"#EF553B\",\"#00cc96\",\"#ab63fa\",\"#FFA15A\",\"#19d3f3\",\"#FF6692\",\"#B6E880\",\"#FF97FF\",\"#FECB52\"],\"font\":{\"color\":\"#2a3f5f\"},\"geo\":{\"bgcolor\":\"white\",\"lakecolor\":\"white\",\"landcolor\":\"#E5ECF6\",\"showlakes\":true,\"showland\":true,\"subunitcolor\":\"white\"},\"hoverlabel\":{\"align\":\"left\"},\"hovermode\":\"closest\",\"mapbox\":{\"style\":\"light\"},\"paper_bgcolor\":\"white\",\"plot_bgcolor\":\"#E5ECF6\",\"polar\":{\"angularaxis\":{\"gridcolor\":\"white\",\"linecolor\":\"white\",\"ticks\":\"\"},\"bgcolor\":\"#E5ECF6\",\"radialaxis\":{\"gridcolor\":\"white\",\"linecolor\":\"white\",\"ticks\":\"\"}},\"scene\":{\"xaxis\":{\"backgroundcolor\":\"#E5ECF6\",\"gridcolor\":\"white\",\"gridwidth\":2,\"linecolor\":\"white\",\"showbackground\":true,\"ticks\":\"\",\"zerolinecolor\":\"white\"},\"yaxis\":{\"backgroundcolor\":\"#E5ECF6\",\"gridcolor\":\"white\",\"gridwidth\":2,\"linecolor\":\"white\",\"showbackground\":true,\"ticks\":\"\",\"zerolinecolor\":\"white\"},\"zaxis\":{\"backgroundcolor\":\"#E5ECF6\",\"gridcolor\":\"white\",\"gridwidth\":2,\"linecolor\":\"white\",\"showbackground\":true,\"ticks\":\"\",\"zerolinecolor\":\"white\"}},\"shapedefaults\":{\"line\":{\"color\":\"#2a3f5f\"}},\"ternary\":{\"aaxis\":{\"gridcolor\":\"white\",\"linecolor\":\"white\",\"ticks\":\"\"},\"baxis\":{\"gridcolor\":\"white\",\"linecolor\":\"white\",\"ticks\":\"\"},\"bgcolor\":\"#E5ECF6\",\"caxis\":{\"gridcolor\":\"white\",\"linecolor\":\"white\",\"ticks\":\"\"}},\"title\":{\"x\":0.05},\"xaxis\":{\"automargin\":true,\"gridcolor\":\"white\",\"linecolor\":\"white\",\"ticks\":\"\",\"title\":{\"standoff\":15},\"zerolinecolor\":\"white\",\"zerolinewidth\":2},\"yaxis\":{\"automargin\":true,\"gridcolor\":\"white\",\"linecolor\":\"white\",\"ticks\":\"\",\"title\":{\"standoff\":15},\"zerolinecolor\":\"white\",\"zerolinewidth\":2}}},\"geo\":{\"scope\":\"usa\"},\"title\":{\"text\":\"Total Number of Games by States\"},\"height\":500,\"width\":700},                        {\"responsive\": true}                    ).then(function(){\n",
              "                            \n",
              "var gd = document.getElementById('f543af00-bce6-4f03-b1d4-5e3b49c1ad49');\n",
              "var x = new MutationObserver(function (mutations, observer) {{\n",
              "        var display = window.getComputedStyle(gd).display;\n",
              "        if (!display || display === 'none') {{\n",
              "            console.log([gd, 'removed!']);\n",
              "            Plotly.purge(gd);\n",
              "            observer.disconnect();\n",
              "        }}\n",
              "}});\n",
              "\n",
              "// Listen for the removal of the full notebook cells\n",
              "var notebookContainer = gd.closest('#notebook-container');\n",
              "if (notebookContainer) {{\n",
              "    x.observe(notebookContainer, {childList: true});\n",
              "}}\n",
              "\n",
              "// Listen for the clearing of the current output cell\n",
              "var outputEl = gd.closest('.output');\n",
              "if (outputEl) {{\n",
              "    x.observe(outputEl, {childList: true});\n",
              "}}\n",
              "\n",
              "                        })                };                            </script>        </div>\n",
              "</body>\n",
              "</html>"
            ]
          },
          "metadata": {}
        }
      ]
    },
    {
      "cell_type": "code",
      "source": [
        "\"\"\"\n",
        "25       Wide Receiver     325\n",
        "1          Corner Back     301\n",
        "3        Defensive End     205\n",
        "17  Outside Linebacker     198\n",
        "24           Tight End     190\n",
        "23              Tackle     188\n",
        "20        Running Back     179\n",
        "7                Guard     171\n",
        "4     Defensive Tackle     165\n",
        "9    Inside Linebacker     117\n",
        "5          Free Safety     116\n",
        "22       Strong Safety     103\n",
        "0               Center      87\n",
        "10              Kicker      56\n",
        "18              Punter      49\n",
        "14         Nose Tackle      48\n",
        "12        Long Snapper      47\n",
        "11          Linebacker      41\n",
        "2       Defensive Back      39\n",
        "13   Middle Linebacker      38\n",
        "6            Full Back      27\n",
        "15    Offensive Tackle       9\n",
        "19        Quarter Back       8\n",
        "16     Offensive guard       2\n",
        "21              Safety       2\n",
        "8            Half Back       1\"\"\"\n",
        "\n",
        "def Offensive_Players_Ratio():\n",
        "  #Pandas\n",
        "  start = time.time()\n",
        "  df_Off = df_train.loc[:,[\"PlayId\",\"OffensePersonnel\"]].drop_duplicates()\n",
        "  df_Off[\"OffensePersonnel\"] = df_Off[\"OffensePersonnel\"].str.replace(\",1\", \", 1\")\n",
        "  df_Off[\"OffensePersonnel\"] = df_Off[\"OffensePersonnel\"].str.replace(\",2\", \", 2\")\n",
        "  OffenseCount = df_Off[\"OffensePersonnel\"].value_counts()\n",
        "  end = time.time()\n",
        "  pandas_query = (end-start)\n",
        "\n",
        "\n",
        "  #Spark\n",
        "  start = time.time()\n",
        "  df_Off = df.select(\"PlayId\", \"OffensePersonnel\").drop_duplicates()\n",
        "  df_Off = df_Off.withColumn('OffensePersonnel', regexp_replace('OffensePersonnel', ',1', ', 1')) \n",
        "  df_Off = df_Off.withColumn('OffensePersonnel', regexp_replace('OffensePersonnel', ',2', ', 2')) \n",
        "  OffenseCount = df_Off.groupBy('OffensePersonnel').count().orderBy('count')\n",
        "  end = time.time()\n",
        "  spark_query = (end-start)\n",
        "\n",
        "  # OffenseCount.show()\n",
        "  OffenseCount = OffenseCount.toPandas()\n",
        "\n",
        "\n",
        "  dic_Offense = {'DL': [0],'LB': [0],'DB': [0],'OL': [0],'RB': [0],'TE': [0],'WR': [0],'QB': [0]}\n",
        "\n",
        "  df_Offense = pd.DataFrame.from_dict(dic_Offense, orient='index')\n",
        "\n",
        "  df_Offense.columns = [\"Count\"]\n",
        "  for i in OffenseCount.OffensePersonnel:\n",
        "    for j in i.split(\", \"):\n",
        "        df_Offense.loc[ j.split(\" \")[1] : j.split(\" \")[1],:] += int(j.split(\" \")[0]) * OffenseCount.loc[OffenseCount['OffensePersonnel'] == i, 'count'].iloc[0]\n",
        "\n",
        "  colors = ['g', 'b', 'p', 'plum', 'gold', 'mediumturquoise', 'darkorange', 'lightgreen']\n",
        "\n",
        "  fig = go.Figure(data=[go.Pie(labels=df_Offense.index.values.tolist(), \n",
        "                              values=df_Offense[\"Count\"].tolist() , hole=.3)])\n",
        "\n",
        "  fig.update_traces(hoverinfo='label+percent', textinfo='value', textfont_size=18,\n",
        "                    marker=dict(colors=colors, line=dict(color='#000000', width=2)))\n",
        "\n",
        "  fig.update_layout(\n",
        "      title_text=\"Offensive Players Ratio in All Plays\", height=500, width=700)\n",
        "  fig.write_image(file='test.png', format='png')\n",
        "  return PIL.Image.open('test.png', 'r'), pandas_query, spark_query\n",
        "# fig.show()\n"
      ],
      "metadata": {
        "id": "uUa1QzPOSi0e"
      },
      "execution_count": 92,
      "outputs": []
    },
    {
      "cell_type": "code",
      "source": [
        "def Defense_Player_ratio():\n",
        "\n",
        "  #Pandas\n",
        "  start = time.time()\n",
        "  df_Off = df_train.loc[:,[\"PlayId\",\"DefensePersonnel\"]].drop_duplicates()\n",
        "  df_Off[\"DefensePersonnel\"] = df_Off[\"DefensePersonnel\"].str.replace(\",1\", \", 1\")\n",
        "  df_Off[\"DefensePersonnel\"] = df_Off[\"DefensePersonnel\"].str.replace(\",2\", \", 2\")\n",
        "  OffenseCount = df_Off[\"DefensePersonnel\"].value_counts()\n",
        "  end = time.time()\n",
        "  pandas_query = (end-start)\n",
        "\n",
        "\n",
        "  #Spark\n",
        "  start = time.time()\n",
        "  df_Off = df.select(\"PlayId\", \"DefensePersonnel\").drop_duplicates()\n",
        "  df_Off = df_Off.withColumn('DefensePersonnel', regexp_replace('DefensePersonnel', ',1', ', 1')) \n",
        "  df_Off = df_Off.withColumn('DefensePersonnel', regexp_replace('DefensePersonnel', ',2', ', 2')) \n",
        "  OffenseCount = df_Off.groupBy('DefensePersonnel').count().orderBy('count')\n",
        "  end = time.time()\n",
        "  spark_query = (end-start)\n",
        "\n",
        "  # OffenseCount.show()\n",
        "  OffenseCount = OffenseCount.toPandas()\n",
        "\n",
        "\n",
        "  dic_Offense = {'DL': [0],'LB': [0],'DB': [0],'OL': [0],'RB': [0],'TE': [0],'WR': [0],'QB': [0]}\n",
        "\n",
        "  df_Offense = pd.DataFrame.from_dict(dic_Offense, orient='index')\n",
        "  df_Offense.columns = [\"Count\"]\n",
        "\n",
        "  for i in OffenseCount.DefensePersonnel:\n",
        "    for j in i.split(\", \"):\n",
        "        df_Offense.loc[ j.split(\" \")[1] : j.split(\" \")[1],:] += int(j.split(\" \")[0]) * OffenseCount.loc[OffenseCount['DefensePersonnel'] == i, 'count'].iloc[0]\n",
        "    \n",
        "  colors = ['g', 'b', 'p', 'plum', 'gold', 'mediumturquoise', 'darkorange', 'lightgreen']\n",
        "\n",
        "  fig = go.Figure(data=[go.Pie(labels=df_Offense.index.values.tolist(), \n",
        "                              values=df_Offense[\"Count\"].tolist() , hole=.3)])\n",
        "  fig.update_traces(hoverinfo='label+percent', textinfo='value', textfont_size=18,\n",
        "                    marker=dict(colors=colors, line=dict(color='#000000', width=2)))\n",
        "  fig.update_layout(\n",
        "      title_text=\"Defense Players Ratio in All Plays\", height=500, width=700)\n",
        "  fig.write_image(file='test.png', format='png')\n",
        "  return PIL.Image.open('test.png', 'r'), pandas_query, spark_query\n",
        "# fig.show()  \n",
        "  #     df_Offense.loc[ j.split(\" \")[1] : j.split(\" \")[1],:] += int(j.split(\" \")[0]) * OffenseCount[i]"
      ],
      "metadata": {
        "id": "z6u4CLAUfOon"
      },
      "execution_count": 93,
      "outputs": []
    },
    {
      "cell_type": "code",
      "source": [
        "def Speed_Distritution():\n",
        "  #Pandas\n",
        "  start = time.time()\n",
        "  df_speed = df_train.loc[:,['DisplayName', 'S']].groupby('DisplayName').mean()\n",
        "  end = time.time()\n",
        "  pandas_query = (end-start)\n",
        "\n",
        "  #Spark\n",
        "  start = time.time()\n",
        "  df_speed = df.select('DisplayName', 'S').groupBy('DisplayName').agg(mean('S'))\n",
        "  end = time.time()\n",
        "  spark_query = (end-start)\n",
        "\n",
        "\n",
        "  # df_speed.show()\n",
        "  df_speed = df_speed.toPandas()\n",
        "  df_speed = df_speed.sort_values(\"avg(S)\", ascending = False)\n",
        "\n",
        "  fig = px.histogram(df_speed, x=\"avg(S)\",\n",
        "                    title='Average Speed Distribution of Players',\n",
        "                    opacity=0.8,\n",
        "                    color_discrete_sequence=['indianred']\n",
        "                    )\n",
        "\n",
        "  fig.update_layout(\n",
        "      yaxis_title_text='Count',\n",
        "      height=500, width=800)\n",
        "\n",
        "  fig.update_traces(marker_line_color='rgb(8,48,107)',\n",
        "                    marker_line_width=1.5, opacity=0.8\n",
        "                  )\n",
        "\n",
        "# fig.show()\n",
        "\n",
        "  fig.write_image(file='test.png', format='png')\n",
        "  return PIL.Image.open('test.png', 'r'), pandas_query, spark_query"
      ],
      "metadata": {
        "id": "zxE-ybfEjQHl"
      },
      "execution_count": 94,
      "outputs": []
    },
    {
      "cell_type": "code",
      "source": [
        "import pyspark.sql.functions as f\n",
        "\n",
        "def Speed_to_yards():\n",
        "  #Pandas\n",
        "  start = time.time()\n",
        "  df_speed_yards = df_train[df_train[\"NflIdRusher\"] == df_train[\"NflId\"]].loc[:,['GameId', 'DisplayName', 'S', 'Yards']]\n",
        "  end = time.time()\n",
        "  pandas_query = (end-start)\n",
        "\n",
        "\n",
        "\n",
        "  #Spark\n",
        "  start = time.time()\n",
        "  df_speed_yards = df.filter(df['NflIdRusher'] == df['NflId']).select('GameId', 'DisplayName', 'S', 'Yards')\n",
        "  end = time.time()\n",
        "  spark_query = (end-start)\n",
        "  # df_speed_yards.show()\n",
        "  df_speed_yards = df_speed_yards.toPandas()\n",
        "  df_speed_yards['S'] = df_speed_yards['S'].astype(\"float\")\n",
        "  df_speed_yards['Yards'] = df_speed_yards['Yards'].astype(\"float\")\n",
        "  df_speed_yards = df_speed_yards.sort_values(['S', 'Yards'],\n",
        "                ascending = [True, True])\n",
        "\n",
        "  fig = go.Figure(data=go.Scattergl\n",
        "  (\n",
        "      x = df_speed_yards[\"Yards\"], \n",
        "      y = df_speed_yards[\"S\"],\n",
        "      text = df_speed_yards['DisplayName'],\n",
        "      mode='markers',\n",
        "      marker=dict(line_width=0.4),\n",
        "      marker_color='darkorange'))\n",
        "\n",
        "  fig.update_layout(title='Speed to Yards', height=700, width=800)\n",
        "\n",
        "  fig.update_xaxes(title_text=\"Yards\")\n",
        "  fig.update_yaxes(title_text=\"Speed (yards/second)\")\n",
        "\n",
        "  # fig.show()\n",
        "\n",
        "  fig.write_image(file='test.png', format='png')\n",
        "  return PIL.Image.open('test.png', 'r'), pandas_query, spark_query"
      ],
      "metadata": {
        "id": "M0oSr665avXZ"
      },
      "execution_count": 95,
      "outputs": []
    },
    {
      "cell_type": "code",
      "source": [
        "def Age_MaxSpeed():\n",
        "  #Pandas\n",
        "  start = time.time()\n",
        "  df_MaxSpeed = df_train.loc[:,['DisplayName', 'PlayerBirthDate', 'TimeSnap', 'S', 'Orientation']].groupby(['DisplayName', 'PlayerBirthDate'], as_index=False).max()\n",
        "  end = time.time()\n",
        "  pandas_query = (end-start)\n",
        "\n",
        "  #Spark\n",
        "  start = time.time()\n",
        "  windowDept = Window.partitionBy(['DisplayName', 'PlayerBirthDate']).orderBy(col(\"S\").desc())\n",
        "  df_MaxSpeed = df.withColumn(\"row\",row_number().over(windowDept)) \\\n",
        "    .filter(col(\"row\") == 1).drop(\"row\").select('DisplayName', 'PlayerBirthDate', 'TimeSnap', 'S', 'Orientation')\n",
        "  end = time.time()\n",
        "  spark_query = (end-start)\n",
        "  # df_MaxSpeed.show()\n",
        "\n",
        "  df_MaxSpeed = df_MaxSpeed.toPandas()\n",
        "  df_MaxSpeed['S'] = df_MaxSpeed['S'].astype(\"float\")\n",
        "  df_MaxSpeed = df_MaxSpeed.sort_values(['S'],\n",
        "                ascending = [True])\n",
        "\n",
        "  # print(df_MaxSpeed)\n",
        "\n",
        "\n",
        "  df_MaxSpeed[\"Age\"] = round((df_MaxSpeed['TimeSnap'].astype('datetime64[ns]') - df_MaxSpeed['PlayerBirthDate'].astype('datetime64[ns]'))/np.timedelta64(1,'D')/365.25,1)\n",
        "  df_MaxSpeed = df_MaxSpeed.sort_values('S')\n",
        "  fig = go.Figure(data=go.Scattergl\n",
        "  (\n",
        "      x = df_MaxSpeed[\"S\"], \n",
        "      y = df_MaxSpeed[\"Age\"],\n",
        "      text = df_MaxSpeed['DisplayName'],\n",
        "      mode='markers',\n",
        "      marker=dict(line_width=0.4),\n",
        "      marker_color='mediumorchid'\n",
        "  )\n",
        "                ) \n",
        "\n",
        "  fig.update_layout(title='Age of The Players When They Make Their Maximum Speed', height=700, width=800)\n",
        "  fig.update_traces(marker_line_color='rgb(8,48,107)', opacity=0.7)\n",
        "\n",
        "  fig.update_xaxes(title_text=\"Speed of Player (yards/second)\")\n",
        "  fig.update_yaxes(title_text=\"Age\")\n",
        "\n",
        "# fig.show()\n",
        "  fig.write_image(file='test.png', format='png')\n",
        "  return PIL.Image.open('test.png', 'r'), pandas_query, spark_query"
      ],
      "metadata": {
        "id": "yeJ838dCj3bz"
      },
      "execution_count": 96,
      "outputs": []
    },
    {
      "cell_type": "code",
      "source": [
        "def Orientation_Age_Visuallize():\n",
        "\n",
        "  #Spark\n",
        "  start = time.time()\n",
        "  windowDept = Window.partitionBy(['DisplayName', 'PlayerBirthDate']).orderBy(col(\"S\").desc())\n",
        "  df_MaxSpeed = df.withColumn(\"row\",row_number().over(windowDept)) \\\n",
        "    .filter(col(\"row\") == 1).drop(\"row\").select('DisplayName', 'PlayerBirthDate', 'TimeSnap', 'S', 'Orientation')\n",
        "  end = time.time()\n",
        "  spark_query = (end-start)\n",
        "\n",
        "  #Pandas\n",
        "  start = time.time()\n",
        "  df_MaxSpeed = df_train.loc[:,['DisplayName', 'PlayerBirthDate', 'TimeSnap', 'S', 'Orientation']].groupby(['DisplayName', 'PlayerBirthDate'], as_index=False).max()\n",
        "  end = time.time()\n",
        "  pandas_query = (end-start)\n",
        "\n",
        "  df_MaxSpeed[\"Age\"] = round((df_MaxSpeed['TimeSnap'].astype('datetime64[ns]') - df_MaxSpeed['PlayerBirthDate'].astype('datetime64[ns]'))/np.timedelta64(1,'D')/365.25,1)\n",
        "  fig = go.Figure()\n",
        "\n",
        "  fig.add_trace(go.Scatter(x=df_MaxSpeed[\"S\"], y=df_MaxSpeed[\"Orientation\"],\n",
        "                      mode='markers',\n",
        "                      text = df_MaxSpeed['DisplayName'],     \n",
        "                      name='Speed',\n",
        "                      marker=dict(line_width=0.4)\n",
        "                      )\n",
        "              )\n",
        "\n",
        "  fig.add_trace(go.Scatter(x=df_MaxSpeed[\"Age\"], y=df_MaxSpeed[\"Orientation\"],\n",
        "                      mode='markers',\n",
        "                      text = df_MaxSpeed['DisplayName'],     \n",
        "                      name='Age',\n",
        "                      marker=dict(line_width=0.4)\n",
        "                      )\n",
        "              )\n",
        "\n",
        "  fig.update_layout(title='Orientation & Speed +  Orientation & Age Correlation', height=500, width=800)\n",
        "\n",
        "  fig.update_traces(marker_line_color='rgb(8,48,107)', opacity=0.8)\n",
        "  fig.update_yaxes(title_text=\"Orientation\")\n",
        "\n",
        "  # fig.show()\n",
        "  fig.write_image(file='test.png', format='png')\n",
        "  return PIL.Image.open('test.png', 'r'), pandas_query, spark_query"
      ],
      "metadata": {
        "id": "HRWHq3Nihcr0"
      },
      "execution_count": 97,
      "outputs": []
    },
    {
      "cell_type": "code",
      "source": [
        "def DefendersInTheBoxVisuallize():\n",
        "  #Spark\n",
        "  start = time.time()\n",
        "  df_defenders = df.select('DefendersInTheBox', 'Yards')\n",
        "  d1 = df_defenders.filter(df_defenders.DefendersInTheBox==1)\n",
        "  d2 = df_defenders.filter(df_defenders.DefendersInTheBox==2)\n",
        "  d3 = df_defenders.filter(df_defenders.DefendersInTheBox==3)\n",
        "  d4 = df_defenders.filter(df_defenders.DefendersInTheBox==4)\n",
        "  d5 = df_defenders.filter(df_defenders.DefendersInTheBox==5)\n",
        "  d6 = df_defenders.filter(df_defenders.DefendersInTheBox==6)\n",
        "  d7 = df_defenders.filter(df_defenders.DefendersInTheBox==7)\n",
        "  d8 = df_defenders.filter(df_defenders.DefendersInTheBox==8)\n",
        "  d9 = df_defenders.filter(df_defenders.DefendersInTheBox==9)\n",
        "  d10 = df_defenders.filter(df_defenders.DefendersInTheBox==10)\n",
        "  d11 = df_defenders.filter(df_defenders.DefendersInTheBox==11)\n",
        "  end = time.time()\n",
        "  pandas_query = (end-start)\n",
        "\n",
        "\n",
        "  #Pandas\n",
        "  start = time.time()\n",
        "  df_defenders = df_train.loc[:,['DefendersInTheBox', 'Yards']]\n",
        "  d1 = df_defenders[df_defenders.DefendersInTheBox==1]['Yards']\n",
        "  d2 = df_defenders[df_defenders.DefendersInTheBox==2]['Yards']\n",
        "  d3 = df_defenders[df_defenders.DefendersInTheBox==3]['Yards']\n",
        "  d4 = df_defenders[df_defenders.DefendersInTheBox==4]['Yards']\n",
        "  d5 = df_defenders[df_defenders.DefendersInTheBox==5]['Yards']\n",
        "  d6 = df_defenders[df_defenders.DefendersInTheBox==6]['Yards']\n",
        "  d7 = df_defenders[df_defenders.DefendersInTheBox==7]['Yards']\n",
        "  d8 = df_defenders[df_defenders.DefendersInTheBox==8]['Yards']\n",
        "  d9 = df_defenders[df_defenders.DefendersInTheBox==9]['Yards']\n",
        "  d10 = df_defenders[df_defenders.DefendersInTheBox==10]['Yards']\n",
        "  d11 = df_defenders[df_defenders.DefendersInTheBox==11]['Yards']\n",
        "  end = time.time()\n",
        "  spark_query = (end-start)\n",
        "\n",
        "  fig = go.Figure()\n",
        "  yards = [d1, d2, d3, d4, d5, d6, d7, d8, d9, d10, d11]\n",
        "  tags = [\"1\", \"2\", \"3\", \"4\", \"5\", \"6\", \"7\", \"8\", \"9\", \"10\", \"11\"]\n",
        "\n",
        "  for index, category in enumerate(yards):\n",
        "      fig.add_trace(go.Box(y=category, name=tags[index]))\n",
        "      \n",
        "  fig.update_layout(autosize=False, width=800,height=500,showlegend=False,\n",
        "                    title=\"Yards and Number of Defenders in the Box Correlation\", \n",
        "                    yaxis=dict(title=\"Yards\"), \n",
        "                    xaxis=dict(title=\"Number of Players\"),\n",
        "                    paper_bgcolor='rgb(243, 243, 243)', \n",
        "                    plot_bgcolor='rgb(243, 243, 243)', \n",
        "                    margin=dict(l=40,r=30,b=80,t=100,)\n",
        "                  )\n",
        "\n",
        "  # fig.show()\n",
        "\n",
        "\n",
        "\n",
        "  fig.write_image(file='test.png', format='png')\n",
        "  return PIL.Image.open('test.png', 'r'), pandas_query, spark_query\n"
      ],
      "metadata": {
        "id": "JG8W0yndh0jA"
      },
      "execution_count": 98,
      "outputs": []
    },
    {
      "cell_type": "code",
      "source": [
        "DefendersInTheBoxVisuallize()"
      ],
      "metadata": {
        "id": "L4tZPsLTya6W",
        "outputId": "813e46bf-4aa0-40b5-eacf-750156cf09d6",
        "colab": {
          "base_uri": "https://localhost:8080/"
        }
      },
      "execution_count": 99,
      "outputs": [
        {
          "output_type": "execute_result",
          "data": {
            "text/plain": [
              "(<PIL.PngImagePlugin.PngImageFile image mode=RGBA size=800x500 at 0x7F645C1993D0>,\n",
              " 0.055919647216796875,\n",
              " 0.05014228820800781)"
            ]
          },
          "metadata": {},
          "execution_count": 99
        }
      ]
    },
    {
      "cell_type": "code",
      "source": [
        "def OffenseForm_Visuallize():\n",
        "#Pandas\n",
        "  start = time.time()\n",
        "  df_OffenseForm = df_train.loc[:,['PlayId', 'OffenseFormation', 'Season']].drop_duplicates()\n",
        "  OffenseForm2017 = df_OffenseForm[df_train[\"Season\"] == 2017][\"OffenseFormation\"].value_counts()\n",
        "  OffenseForm2018 = df_OffenseForm[df_train[\"Season\"] == 2018][\"OffenseFormation\"].value_counts()\n",
        "  OffenseForm2019 = df_OffenseForm[df_train[\"Season\"] == 2019][\"OffenseFormation\"].value_counts()\n",
        "  end = time.time()\n",
        "  pandas_query = (end-start)\n",
        "\n",
        "  #Spark\n",
        "  start = time.time()\n",
        "  df_OffenseForm = df.select('PlayId', 'OffenseFormation', 'Season').drop_duplicates()\n",
        "  OffenseForm2017 = df_OffenseForm.filter(df_OffenseForm.Season == 2017).groupby(\"OffenseFormation\").count()\n",
        "  OffenseForm2018 = df_OffenseForm.filter(df_OffenseForm.Season == 2018).groupby(\"OffenseFormation\").count()\n",
        "  OffenseForm2019 = df_OffenseForm.filter(df_OffenseForm.Season == 2019).groupby(\"OffenseFormation\").count()\n",
        "  end = time.time()\n",
        "  spark_query = (end-start)\n",
        "  OffenseForm2017 = OffenseForm2017.toPandas()\n",
        "  OffenseForm2018 = OffenseForm2018.toPandas()\n",
        "  OffenseForm2019 = OffenseForm2019.toPandas()\n",
        "  # print(OffenseForm2017)\n",
        "\n",
        "\n",
        "  fig = make_subplots(rows=1, cols=3, specs=[[{'type':'domain'}, {'type':'domain'}, {'type':'domain'}]])\n",
        "\n",
        "  fig.add_trace(\n",
        "      go.Pie(labels=OffenseForm2017['OffenseFormation'], values=OffenseForm2017['count'], name=\"2017\"),\n",
        "                1, 1)\n",
        "\n",
        "  fig.add_trace(\n",
        "      go.Pie(labels=OffenseForm2018['OffenseFormation'], values=OffenseForm2018['count'], name=\"2018\"),\n",
        "                1, 2)\n",
        "\n",
        "  fig.add_trace(\n",
        "      go.Pie(labels=OffenseForm2019['OffenseFormation'], values=OffenseForm2019['count'], name=\"2019\"),\n",
        "                1, 3)\n",
        "\n",
        "  fig.update_traces(hole=.4, hoverinfo=\"label+value\")\n",
        "\n",
        "  fig.update_layout(\n",
        "      title_text=\"Favorite Offense Formation in 2017 and 2018 and 2019\",\n",
        "      height=500, width=800,\n",
        "      annotations=[dict(text='2017', x=0.18, y=0.5, font_size=20, showarrow=False),\n",
        "                  dict(text='2018', x=0.52, y=0.5, font_size=20, showarrow=False),\n",
        "                  dict(text='2019', x=0.86, y=0.5, font_size=20, showarrow=False)\n",
        "                  ]\n",
        "  )\n",
        "\n",
        "  # fig.show()\n",
        "  fig.write_image(file='test.png', format='png')\n",
        "  return PIL.Image.open('test.png', 'r'), pandas_query, spark_query"
      ],
      "metadata": {
        "id": "w1B8vVVyl6IR"
      },
      "execution_count": 100,
      "outputs": []
    },
    {
      "cell_type": "code",
      "source": [
        "def Position_Visuallize():\n",
        "    #pandas\n",
        "    start = time.time()\n",
        "    df_xy = df_train[(df_train[\"NflIdRusher\"] == df_train[\"NflId\"])].loc[:,[\"Yards\", \"DefendersInTheBox\", \"X\", \"Y\" ]].sort_values(\"X\" )\n",
        "    end = time.time()\n",
        "    print(end-start)\n",
        "    pandas_query = (end-start)\n",
        "    #spark\n",
        "    start = time.time()\n",
        "    df_xy = df.filter(df.NflIdRusher == df.NflId).select(\"Yards\", \"DefendersInTheBox\", \"X\", \"Y\" )\n",
        "    end = time.time()\n",
        "    print(end-start)\n",
        "    spark_query = (end-start)\n",
        "\n",
        "\n",
        "\n",
        "\n",
        "    df_xy = df_xy.toPandas()\n",
        "    df_xy[\"X\"] = df_xy[\"X\"].astype(\"float\")\n",
        "    df_xy[\"Y\"] = df_xy[\"Y\"].astype(\"float\")\n",
        "\n",
        "    df_xy = df_xy.sort_values(['X', 'Y'],\n",
        "                  ascending = [True, True])\n",
        "\n",
        "\n",
        "\n",
        "    fig = go.Figure(data=go.Scattergl\n",
        "    (\n",
        "        x = df_xy[\"X\"], \n",
        "        y = df_xy[\"Y\"],\n",
        "        mode='markers',\n",
        "        marker=dict(line_width=0.8),\n",
        "        marker_color='tan'))\n",
        "\n",
        "    fig.update_layout(title='X and Y Positions of Players', height=700, width=800)\n",
        "    fig.update_traces(marker_line_color='rgb(8,48,107)', opacity=0.7)\n",
        "\n",
        "    fig.update_xaxes(title_text=\"X\")\n",
        "    fig.update_yaxes(title_text=\"Y\")\n",
        "\n",
        "    # fig.show()\n",
        "    fig.write_image(file='test.png', format='png')\n",
        "    return PIL.Image.open('test.png', 'r'), pandas_query, spark_query"
      ],
      "metadata": {
        "id": "waoTKYQJt0gc"
      },
      "execution_count": 101,
      "outputs": []
    },
    {
      "cell_type": "code",
      "source": [
        "def State_Visuallize():\n",
        "    start = time.time()\n",
        "    stadium_loc = df_train.loc[:,['GameId', 'Location']].drop_duplicates()\n",
        "    stadium_loc = stadium_loc['Location'].value_counts()\n",
        "    end = time.time()\n",
        "    pandas_query = (end-start)\n",
        "\n",
        "    #Spark\n",
        "    start = time.time()\n",
        "    stadium_loc = df.select(\"GameId\", \"Location\").drop_duplicates()\n",
        "    stadium_loc = stadium_loc.groupBy('Location').count().orderBy('count')\n",
        "    end = time.time()\n",
        "    spark_query = (end-start)\n",
        "\n",
        "    df_stadium_loc = stadium_loc.toPandas()\n",
        "    # print(str(df_stadium_loc['Location'][0]))\n",
        "    df_stadium_loc[\"State\"] = df_stadium_loc[\"Location\"].str.split(', ', expand=True)[0]\n",
        "    df_stadium_loc[\"StateAbb\"] = df_stadium_loc[\"Location\"].str.split(', ', expand=True)[1]\n",
        "\n",
        "\n",
        "    fig = go.Figure(data=go.Choropleth(\n",
        "        locations=df_stadium_loc[\"StateAbb\"], \n",
        "        z = df_stadium_loc['count'], \n",
        "        locationmode = 'USA-states', \n",
        "        text = df_stadium_loc['State'],\n",
        "        colorscale=\n",
        "                [[0.0, \"rgb(251, 237, 235)\"],\n",
        "                [0.09, \"rgb(245, 211, 206)\"],\n",
        "                [0.12, \"rgb(239, 179, 171)\"],\n",
        "                [0.15, \"rgb(236, 148, 136)\"],\n",
        "                [0.22, \"rgb(239, 117, 100)\"],\n",
        "                [0.35, \"rgb(235, 90, 70)\"],\n",
        "                [0.45, \"rgb(207, 81, 61)\"],\n",
        "                [0.65, \"rgb(176, 70, 50)\"],\n",
        "                [0.85, \"rgb(147, 59, 39)\"],\n",
        "                [1.00, \"rgb(110, 47, 26)\"]],\n",
        "        autocolorscale = False))\n",
        "\n",
        "    fig.update_layout(\n",
        "        geo_scope='usa',\n",
        "        title_text = 'Total Number of Games by States', height=500, width=700)\n",
        "\n",
        "    # print(fig.to_html())\n",
        "    # print(type(fig))\n",
        "    # fig.write_image(\"test\", engine='kaleido') \n",
        "    fig.write_image(file='test.png', format='png')\n",
        "    # fig.savefig(\"test.png\")\n",
        "    \n",
        "    return PIL.Image.open('test.png', 'r'), pandas_query, spark_query"
      ],
      "metadata": {
        "id": "JHT8yPUR7brO"
      },
      "execution_count": 102,
      "outputs": []
    },
    {
      "cell_type": "markdown",
      "source": [
        "\n",
        "**There are a close relationship between S and Dis. There are also a relationship between JerseyNumber and PlayerWeight interesting...**"
      ],
      "metadata": {
        "id": "gmcfKSv6s9Wm"
      }
    },
    {
      "cell_type": "code",
      "source": [
        "#i'll ignore to ids.\n",
        "def over_all_cor():\n",
        "  f,ax = plt.subplots(figsize=(12,10))\n",
        "  sns.heatmap(df_train.iloc[:,2:].corr(),annot=True, linewidths=.1, fmt='.1f', ax=ax)\n",
        "  plt.savefig('test.png')\n",
        "  return PIL.Image.open('test.png', 'r'), \"\", \"\"\n",
        "\n"
      ],
      "metadata": {
        "id": "f87qnaaBfUAI"
      },
      "execution_count": 103,
      "outputs": []
    },
    {
      "cell_type": "code",
      "source": [
        "\n",
        "title = \"Big Data - NFL Analysis\"\n",
        "examples = [\n",
        "\"GameId - a unique game identifier \",\n",
        "\"PlayId - a unique play identifier \",\n",
        "\"Team - home or away \",\n",
        "\"X - player position along the long axis of the field. See figure below. \",\n",
        "\"Y - player position along the short axis of the field. See figure below. \",\n",
        "\"S - speed in yards/second \",\n",
        "\"A - acceleration in yards/second^2 \",\n",
        "\"Dis - distance traveled from prior time point, in yards \",\n",
        "\"Orientation - orientation of player (deg) \",\n",
        "\"Dir - angle of player motion (deg) \",\n",
        "\"NflId - a unique identifier of the player \",\n",
        "\"DisplayName - player's name \",\n",
        "\"JerseyNumber - jersey number \",\n",
        "\"Season - year of the season \",\n",
        "\"YardLine - the yard line of the line of scrimmage \",\n",
        "\"Quarter - game quarter (1-5, 5 == overtime) \",\n",
        "\"GameClock - time on the game clock \",\n",
        "\"PossessionTeam - team with possession \",\n",
        "\"Down - the down (1-4) \",\n",
        "\"Distance - yards needed for a first down \",\n",
        "\"FieldPosition - which side of the field the play is happening on \",\n",
        "\"HomeScoreBeforePlay - home team score before play started \",\n",
        "\"VisitorScoreBeforePlay - visitor team score before play started \",\n",
        "\"NflIdRusher - the NflId of the rushing player \",\n",
        "\"OffenseFormation - offense formation \",\n",
        "\"OffensePersonnel - offensive team positional grouping \",\n",
        "\"DefendersInTheBox - number of defenders lined up near the line of scrimmage, spanning the width of the offensive line \",\n",
        "\"DefensePersonnel - defensive team positional grouping \",\n",
        "\"PlayDirection - direction the play is headed \",\n",
        "\"TimeHandoff - UTC time of the handoff \",\n",
        "\"TimeSnap - UTC time of the snap \",\n",
        "\"Yards - the yardage gained on the play (you are predicting this) \",\n",
        "\"PlayerHeight - player height (ft-in) \",\n",
        "\"PlayerWeight - player weight (lbs) \",\n",
        "\"PlayerBirthDate - birth date (mm/dd/yyyy) \",\n",
        "\"PlayerCollegeName - where the player attended college \",\n",
        "\"HomeTeamAbbr - home team abbreviation \",\n",
        "\"VisitorTeamAbbr - visitor team abbreviation \",\n",
        "\"Week - week into the season \",\n",
        "\"Stadium - stadium where the game is being played \",\n",
        "\"Location - city where the game is being player \",\n",
        "\"StadiumType - description of the stadium environment \",\n",
        "\"Turf - description of the field surface \",\n",
        "\"GameWeather - description of the game weather \",\n",
        "\"Temperature - temperature (deg F) \",\n",
        "\"Humidity - humidity \",\n",
        "\"WindSpeed - wind speed in miles/hour \",\n",
        "\"WindDirection - wind direction\"\n",
        "]\n",
        "\n",
        "\n",
        "def fn(Atribute_choice, input):\n",
        "  if Atribute_choice==\"State\":\n",
        "    return State_Visuallize()\n",
        "    #We can see vital points as two lines. We can also see field guidelines and outliers.\n",
        "  if Atribute_choice==\"Position\":\n",
        "    return Position_Visuallize()\n",
        "  if Atribute_choice==\"Orientation_Age\":\n",
        "    return Orientation_Age_Visuallize()\n",
        "  if Atribute_choice==\"OffenseForm\":\n",
        "    return OffenseForm_Visuallize()\n",
        "  if Atribute_choice==\"Defenders_In_The_Box\":\n",
        "    return DefendersInTheBoxVisuallize()\n",
        "  if Atribute_choice==\"Age_MaxSpeed\":\n",
        "    return Age_MaxSpeed()\n",
        "\n",
        "    \n",
        "    # The graph above shows the speed of players on their way to target.\n",
        "  if Atribute_choice==\"Speed_to_yards\":\n",
        "    return Speed_to_yards()\n",
        "    #It seems to, most players have 2 - 2.3 yards/second speed.\n",
        "  if Atribute_choice==\"Speed_Distritution\":\n",
        "    return Speed_Distritution()\n",
        "\n",
        "    # OLs are the minority group among the defensive players with 15 total. So they aren't visible on the chart\n",
        "  #Arrangement Of Positions From Frequently Used To Least Used\n",
        "  if Atribute_choice==\"Defense_Player_ratio\":\n",
        "    return Defense_Player_ratio()\n",
        "  if Atribute_choice==\"Offensive_Players_Ratio\":\n",
        "    return Offensive_Players_Ratio()\n",
        "\n",
        "    # //There are a lot of version of stadium types. It must be cleaned up.\n",
        "  if Atribute_choice==\"Game_by_Stadium_Type\":\n",
        "    return Game_by_Stadium_Type()\n",
        "  if Atribute_choice==\"Game_by_Stadium_Name\":\n",
        "    return Game_by_Stadium_Name()\n",
        "\n",
        "  if Atribute_choice==\"Age_Fre\":\n",
        "    return Age_Fre()\n",
        "  if Atribute_choice==\"Player_Colleges_Fre\":\n",
        "    return Player_Colleges_Fre()\n",
        "  if Atribute_choice==\"weight_height_corre\":\n",
        "    return weight_height_corre()\n",
        "  if Atribute_choice==\"weight_height_fre\":\n",
        "    return weight_height_fre()\n",
        "\n",
        "    #It's reasonable, \"home\" and \"away\" are equal to each other\n",
        "  if Atribute_choice==\"Away_Home\":\n",
        "    return Away_Home()\n",
        "  if Atribute_choice==\"Plays_Games_Players\":\n",
        "    return Plays_Games_Players()\n",
        "  if Atribute_choice==\"Over_all_cor\":\n",
        "    return over_all_cor()\n",
        "    #Position index in game of 1 Player\n",
        "    #After Show this, show Visuallize a Game\n",
        "  if Atribute_choice==\"Position_index_Game\":\n",
        "    return Position_index_Game()\n",
        "    #Quarter 5 is not main, show it only sometimes happens\n",
        "\n",
        "  if Atribute_choice == \"Quarter_Fre\":\n",
        "    return Quarter_Fre()\n",
        "  if Atribute_choice == \"Position_PlayerWeight_cor\":\n",
        "    return Position_PlayerWeight_cor()\n",
        "    \n",
        "  \n",
        "\n",
        "gr.Interface(fn, [gr.inputs.Dropdown([\"Over_all_cor\",\"Position_index_Game\", \"Plays_Games_Players\", \"Away_Home\", \"weight_height_fre\", \"weight_height_corre\", \"Position_PlayerWeight_cor\",\"Player_Colleges_Fre\", \"Age_Fre\", \"Quarter_Fre\", \"Game_by_Stadium_Name\", \"Game_by_Stadium_Type\", \"Offensive_Players_Ratio\", \"Defense_Player_ratio\",\"Speed_Distritution\",\"Speed_to_yards\",\"Age_MaxSpeed\",\"Defenders_In_The_Box\",\"Orientation_Age\", \"OffenseForm\",\"State\", \"Position\"])], [\"image\", \"text\", \"text\"],title=title,examples = examples\n",
        ").launch()"
      ],
      "metadata": {
        "id": "2A0-u101i3Kk",
        "colab": {
          "base_uri": "https://localhost:8080/",
          "height": 913
        },
        "outputId": "1f849f1e-b5e8-4eb0-8911-648cbee846a6"
      },
      "execution_count": 104,
      "outputs": [
        {
          "output_type": "stream",
          "name": "stderr",
          "text": [
            "/usr/local/lib/python3.8/dist-packages/gradio/inputs.py:217: UserWarning:\n",
            "\n",
            "Usage of gradio.inputs is deprecated, and will not be supported in the future, please import your component from gradio.components\n",
            "\n",
            "/usr/local/lib/python3.8/dist-packages/gradio/deprecation.py:40: UserWarning:\n",
            "\n",
            "`optional` parameter is deprecated, and it has no effect\n",
            "\n",
            "/usr/local/lib/python3.8/dist-packages/gradio/utils.py:840: UserWarning:\n",
            "\n",
            "Expected 2 arguments for function <function fn at 0x7f645d34c430>, received 1.\n",
            "\n",
            "/usr/local/lib/python3.8/dist-packages/gradio/utils.py:844: UserWarning:\n",
            "\n",
            "Expected at least 2 arguments for function <function fn at 0x7f645d34c430>, received 1.\n",
            "\n"
          ]
        },
        {
          "output_type": "stream",
          "name": "stdout",
          "text": [
            "Colab notebook detected. To show errors in colab notebook, set debug=True in launch()\n",
            "Note: opening Chrome Inspector may crash demo inside Colab notebooks.\n",
            "\n",
            "To create a public link, set `share=True` in `launch()`.\n"
          ]
        },
        {
          "output_type": "display_data",
          "data": {
            "text/plain": [
              "<IPython.core.display.Javascript object>"
            ],
            "application/javascript": [
              "(async (port, path, width, height, cache, element) => {\n",
              "                        if (!google.colab.kernel.accessAllowed && !cache) {\n",
              "                            return;\n",
              "                        }\n",
              "                        element.appendChild(document.createTextNode(''));\n",
              "                        const url = await google.colab.kernel.proxyPort(port, {cache});\n",
              "\n",
              "                        const external_link = document.createElement('div');\n",
              "                        external_link.innerHTML = `\n",
              "                            <div style=\"font-family: monospace; margin-bottom: 0.5rem\">\n",
              "                                Running on <a href=${new URL(path, url).toString()} target=\"_blank\">\n",
              "                                    https://localhost:${port}${path}\n",
              "                                </a>\n",
              "                            </div>\n",
              "                        `;\n",
              "                        element.appendChild(external_link);\n",
              "\n",
              "                        const iframe = document.createElement('iframe');\n",
              "                        iframe.src = new URL(path, url).toString();\n",
              "                        iframe.height = height;\n",
              "                        iframe.allow = \"autoplay; camera; microphone; clipboard-read; clipboard-write;\"\n",
              "                        iframe.width = width;\n",
              "                        iframe.style.border = 0;\n",
              "                        element.appendChild(iframe);\n",
              "                    })(7865, \"/\", \"100%\", 500, false, window.element)"
            ]
          },
          "metadata": {}
        },
        {
          "output_type": "execute_result",
          "data": {
            "text/plain": []
          },
          "metadata": {},
          "execution_count": 104
        }
      ]
    },
    {
      "cell_type": "code",
      "source": [
        "# https://www.kaggle.com/code/sanjayv007/nfl-big-data-bowl-beginner-s-complete-eda/notebook\n",
        "# and some EDA other"
      ],
      "metadata": {
        "id": "2CJnng3aYeuj"
      },
      "execution_count": 105,
      "outputs": []
    },
    {
      "cell_type": "code",
      "source": [
        "\"\"\"\n",
        "'GameId',\n",
        " 'PlayId',\n",
        " 'Team',\n",
        " 'X',\n",
        " 'Y',\n",
        " 'S',\n",
        " 'A',\n",
        " 'Dis',\n",
        " 'Orientation',\n",
        " 'Dir',\n",
        " 'NflId',\n",
        " 'DisplayName',\n",
        " 'JerseyNumber',\n",
        " 'Season',\n",
        " 'YardLine',\n",
        " 'Quarter',\n",
        " 'GameClock',\n",
        " 'PossessionTeam',\n",
        " 'Down',\n",
        " 'Distance',\n",
        " 'FieldPosition',\n",
        " 'HomeScoreBeforePlay',\n",
        " 'VisitorScoreBeforePlay',\n",
        " 'NflIdRusher',\n",
        " 'OffenseFormation',\n",
        " 'OffensePersonnel',\n",
        " 'DefendersInTheBox',\n",
        " 'DefensePersonnel',\n",
        " 'PlayDirection',\n",
        " 'TimeHandoff',\n",
        " 'TimeSnap',\n",
        " 'Yards',\n",
        " 'PlayerHeight',\n",
        " 'PlayerWeight',\n",
        " 'PlayerBirthDate',\n",
        " 'PlayerCollegeName',\n",
        " 'Position',\n",
        " 'HomeTeamAbbr',\n",
        " 'VisitorTeamAbbr',\n",
        " 'Week',\n",
        " 'Stadium',\n",
        " 'Location',\n",
        " 'StadiumType',\n",
        " 'Turf',\n",
        " 'GameWeather',\n",
        " 'Temperature',\n",
        " 'Humidity',\n",
        " 'WindSpeed',\n",
        " 'WindDirection'\n",
        " \"\"\""
      ],
      "metadata": {
        "id": "lYO3p68RjAx5",
        "colab": {
          "base_uri": "https://localhost:8080/",
          "height": 139
        },
        "outputId": "8104f9d0-70d0-4ebb-80da-54ac5c4cf766"
      },
      "execution_count": 106,
      "outputs": [
        {
          "output_type": "execute_result",
          "data": {
            "text/plain": [
              "\"\\n'GameId',\\n 'PlayId',\\n 'Team',\\n 'X',\\n 'Y',\\n 'S',\\n 'A',\\n 'Dis',\\n 'Orientation',\\n 'Dir',\\n 'NflId',\\n 'DisplayName',\\n 'JerseyNumber',\\n 'Season',\\n 'YardLine',\\n 'Quarter',\\n 'GameClock',\\n 'PossessionTeam',\\n 'Down',\\n 'Distance',\\n 'FieldPosition',\\n 'HomeScoreBeforePlay',\\n 'VisitorScoreBeforePlay',\\n 'NflIdRusher',\\n 'OffenseFormation',\\n 'OffensePersonnel',\\n 'DefendersInTheBox',\\n 'DefensePersonnel',\\n 'PlayDirection',\\n 'TimeHandoff',\\n 'TimeSnap',\\n 'Yards',\\n 'PlayerHeight',\\n 'PlayerWeight',\\n 'PlayerBirthDate',\\n 'PlayerCollegeName',\\n 'Position',\\n 'HomeTeamAbbr',\\n 'VisitorTeamAbbr',\\n 'Week',\\n 'Stadium',\\n 'Location',\\n 'StadiumType',\\n 'Turf',\\n 'GameWeather',\\n 'Temperature',\\n 'Humidity',\\n 'WindSpeed',\\n 'WindDirection'\\n \""
            ],
            "application/vnd.google.colaboratory.intrinsic+json": {
              "type": "string"
            }
          },
          "metadata": {},
          "execution_count": 106
        }
      ]
    }
  ]
}