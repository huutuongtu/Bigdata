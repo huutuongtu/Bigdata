{
  "nbformat": 4,
  "nbformat_minor": 0,
  "metadata": {
    "colab": {
      "provenance": []
    },
    "kernelspec": {
      "name": "python3",
      "display_name": "Python 3"
    },
    "language_info": {
      "name": "python"
    },
    "accelerator": "GPU",
    "gpuClass": "standard"
  },
  "cells": [
    {
      "cell_type": "code",
      "execution_count": 15,
      "metadata": {
        "colab": {
          "base_uri": "https://localhost:8080/"
        },
        "id": "ksruf47wKYqT",
        "outputId": "b8ea15d7-e17f-4157-8d7b-007cf359b157"
      },
      "outputs": [
        {
          "output_type": "stream",
          "name": "stdout",
          "text": [
            "Looking in indexes: https://pypi.org/simple, https://us-python.pkg.dev/colab-wheels/public/simple/\n",
            "Requirement already satisfied: pyspark in /usr/local/lib/python3.8/dist-packages (3.3.1)\n",
            "Requirement already satisfied: py4j==0.10.9.5 in /usr/local/lib/python3.8/dist-packages (from pyspark) (0.10.9.5)\n"
          ]
        }
      ],
      "source": [
        "!pip install pyspark"
      ]
    },
    {
      "cell_type": "code",
      "source": [
        "!pip install gradio\n",
        "!pip install PIL\n",
        "!pip install -U kaleido"
      ],
      "metadata": {
        "colab": {
          "base_uri": "https://localhost:8080/"
        },
        "id": "5qaXJEQo7_UE",
        "outputId": "b07e9854-45b0-4f1b-c6b3-375451603d98"
      },
      "execution_count": 16,
      "outputs": [
        {
          "output_type": "stream",
          "name": "stdout",
          "text": [
            "Looking in indexes: https://pypi.org/simple, https://us-python.pkg.dev/colab-wheels/public/simple/\n",
            "Requirement already satisfied: gradio in /usr/local/lib/python3.8/dist-packages (3.17.1)\n",
            "Requirement already satisfied: pydantic in /usr/local/lib/python3.8/dist-packages (from gradio) (1.10.4)\n",
            "Requirement already satisfied: requests in /usr/local/lib/python3.8/dist-packages (from gradio) (2.25.1)\n",
            "Requirement already satisfied: markdown-it-py[linkify,plugins]>=2.0.0 in /usr/local/lib/python3.8/dist-packages (from gradio) (2.1.0)\n",
            "Requirement already satisfied: pydub in /usr/local/lib/python3.8/dist-packages (from gradio) (0.25.1)\n",
            "Requirement already satisfied: matplotlib in /usr/local/lib/python3.8/dist-packages (from gradio) (3.2.2)\n",
            "Requirement already satisfied: pyyaml in /usr/local/lib/python3.8/dist-packages (from gradio) (6.0)\n",
            "Requirement already satisfied: ffmpy in /usr/local/lib/python3.8/dist-packages (from gradio) (0.3.0)\n",
            "Requirement already satisfied: httpx in /usr/local/lib/python3.8/dist-packages (from gradio) (0.23.3)\n",
            "Requirement already satisfied: websockets>=10.0 in /usr/local/lib/python3.8/dist-packages (from gradio) (10.4)\n",
            "Requirement already satisfied: fsspec in /usr/local/lib/python3.8/dist-packages (from gradio) (2023.1.0)\n",
            "Requirement already satisfied: python-multipart in /usr/local/lib/python3.8/dist-packages (from gradio) (0.0.5)\n",
            "Requirement already satisfied: altair>=4.2.0 in /usr/local/lib/python3.8/dist-packages (from gradio) (4.2.2)\n",
            "Requirement already satisfied: typing-extensions in /usr/local/lib/python3.8/dist-packages (from gradio) (4.4.0)\n",
            "Requirement already satisfied: numpy in /usr/local/lib/python3.8/dist-packages (from gradio) (1.21.6)\n",
            "Requirement already satisfied: pillow in /usr/local/lib/python3.8/dist-packages (from gradio) (7.1.2)\n",
            "Requirement already satisfied: aiohttp in /usr/local/lib/python3.8/dist-packages (from gradio) (3.8.3)\n",
            "Requirement already satisfied: uvicorn in /usr/local/lib/python3.8/dist-packages (from gradio) (0.20.0)\n",
            "Requirement already satisfied: pycryptodome in /usr/local/lib/python3.8/dist-packages (from gradio) (3.17)\n",
            "Requirement already satisfied: jinja2 in /usr/local/lib/python3.8/dist-packages (from gradio) (2.11.3)\n",
            "Requirement already satisfied: fastapi in /usr/local/lib/python3.8/dist-packages (from gradio) (0.89.1)\n",
            "Requirement already satisfied: orjson in /usr/local/lib/python3.8/dist-packages (from gradio) (3.8.5)\n",
            "Requirement already satisfied: aiofiles in /usr/local/lib/python3.8/dist-packages (from gradio) (22.1.0)\n",
            "Requirement already satisfied: markupsafe in /usr/local/lib/python3.8/dist-packages (from gradio) (2.0.1)\n",
            "Requirement already satisfied: pandas in /usr/local/lib/python3.8/dist-packages (from gradio) (1.3.5)\n",
            "Requirement already satisfied: entrypoints in /usr/local/lib/python3.8/dist-packages (from altair>=4.2.0->gradio) (0.4)\n",
            "Requirement already satisfied: toolz in /usr/local/lib/python3.8/dist-packages (from altair>=4.2.0->gradio) (0.12.0)\n",
            "Requirement already satisfied: jsonschema>=3.0 in /usr/local/lib/python3.8/dist-packages (from altair>=4.2.0->gradio) (4.3.3)\n",
            "Requirement already satisfied: mdurl~=0.1 in /usr/local/lib/python3.8/dist-packages (from markdown-it-py[linkify,plugins]>=2.0.0->gradio) (0.1.2)\n",
            "Requirement already satisfied: linkify-it-py~=1.0 in /usr/local/lib/python3.8/dist-packages (from markdown-it-py[linkify,plugins]>=2.0.0->gradio) (1.0.3)\n",
            "Requirement already satisfied: mdit-py-plugins in /usr/local/lib/python3.8/dist-packages (from markdown-it-py[linkify,plugins]>=2.0.0->gradio) (0.3.3)\n",
            "Requirement already satisfied: python-dateutil>=2.7.3 in /usr/local/lib/python3.8/dist-packages (from pandas->gradio) (2.8.2)\n",
            "Requirement already satisfied: pytz>=2017.3 in /usr/local/lib/python3.8/dist-packages (from pandas->gradio) (2022.7.1)\n",
            "Requirement already satisfied: attrs>=17.3.0 in /usr/local/lib/python3.8/dist-packages (from aiohttp->gradio) (22.2.0)\n",
            "Requirement already satisfied: async-timeout<5.0,>=4.0.0a3 in /usr/local/lib/python3.8/dist-packages (from aiohttp->gradio) (4.0.2)\n",
            "Requirement already satisfied: aiosignal>=1.1.2 in /usr/local/lib/python3.8/dist-packages (from aiohttp->gradio) (1.3.1)\n",
            "Requirement already satisfied: multidict<7.0,>=4.5 in /usr/local/lib/python3.8/dist-packages (from aiohttp->gradio) (6.0.4)\n",
            "Requirement already satisfied: charset-normalizer<3.0,>=2.0 in /usr/local/lib/python3.8/dist-packages (from aiohttp->gradio) (2.1.1)\n",
            "Requirement already satisfied: frozenlist>=1.1.1 in /usr/local/lib/python3.8/dist-packages (from aiohttp->gradio) (1.3.3)\n",
            "Requirement already satisfied: yarl<2.0,>=1.0 in /usr/local/lib/python3.8/dist-packages (from aiohttp->gradio) (1.8.2)\n",
            "Requirement already satisfied: starlette==0.22.0 in /usr/local/lib/python3.8/dist-packages (from fastapi->gradio) (0.22.0)\n",
            "Requirement already satisfied: anyio<5,>=3.4.0 in /usr/local/lib/python3.8/dist-packages (from starlette==0.22.0->fastapi->gradio) (3.6.2)\n",
            "Requirement already satisfied: httpcore<0.17.0,>=0.15.0 in /usr/local/lib/python3.8/dist-packages (from httpx->gradio) (0.16.3)\n",
            "Requirement already satisfied: rfc3986[idna2008]<2,>=1.3 in /usr/local/lib/python3.8/dist-packages (from httpx->gradio) (1.5.0)\n",
            "Requirement already satisfied: sniffio in /usr/local/lib/python3.8/dist-packages (from httpx->gradio) (1.3.0)\n",
            "Requirement already satisfied: certifi in /usr/local/lib/python3.8/dist-packages (from httpx->gradio) (2022.12.7)\n",
            "Requirement already satisfied: pyparsing!=2.0.4,!=2.1.2,!=2.1.6,>=2.0.1 in /usr/local/lib/python3.8/dist-packages (from matplotlib->gradio) (3.0.9)\n",
            "Requirement already satisfied: cycler>=0.10 in /usr/local/lib/python3.8/dist-packages (from matplotlib->gradio) (0.11.0)\n",
            "Requirement already satisfied: kiwisolver>=1.0.1 in /usr/local/lib/python3.8/dist-packages (from matplotlib->gradio) (1.4.4)\n",
            "Requirement already satisfied: six>=1.4.0 in /usr/local/lib/python3.8/dist-packages (from python-multipart->gradio) (1.15.0)\n",
            "Requirement already satisfied: idna<3,>=2.5 in /usr/local/lib/python3.8/dist-packages (from requests->gradio) (2.10)\n",
            "Requirement already satisfied: chardet<5,>=3.0.2 in /usr/local/lib/python3.8/dist-packages (from requests->gradio) (4.0.0)\n",
            "Requirement already satisfied: urllib3<1.27,>=1.21.1 in /usr/local/lib/python3.8/dist-packages (from requests->gradio) (1.24.3)\n",
            "Requirement already satisfied: click>=7.0 in /usr/local/lib/python3.8/dist-packages (from uvicorn->gradio) (7.1.2)\n",
            "Requirement already satisfied: h11>=0.8 in /usr/local/lib/python3.8/dist-packages (from uvicorn->gradio) (0.14.0)\n",
            "Requirement already satisfied: importlib-resources>=1.4.0 in /usr/local/lib/python3.8/dist-packages (from jsonschema>=3.0->altair>=4.2.0->gradio) (5.10.2)\n",
            "Requirement already satisfied: pyrsistent!=0.17.0,!=0.17.1,!=0.17.2,>=0.14.0 in /usr/local/lib/python3.8/dist-packages (from jsonschema>=3.0->altair>=4.2.0->gradio) (0.19.3)\n",
            "Requirement already satisfied: uc-micro-py in /usr/local/lib/python3.8/dist-packages (from linkify-it-py~=1.0->markdown-it-py[linkify,plugins]>=2.0.0->gradio) (1.0.1)\n",
            "Requirement already satisfied: zipp>=3.1.0 in /usr/local/lib/python3.8/dist-packages (from importlib-resources>=1.4.0->jsonschema>=3.0->altair>=4.2.0->gradio) (3.12.0)\n",
            "Looking in indexes: https://pypi.org/simple, https://us-python.pkg.dev/colab-wheels/public/simple/\n",
            "\u001b[31mERROR: Could not find a version that satisfies the requirement PIL (from versions: none)\u001b[0m\u001b[31m\n",
            "\u001b[0m\u001b[31mERROR: No matching distribution found for PIL\u001b[0m\u001b[31m\n",
            "\u001b[0mLooking in indexes: https://pypi.org/simple, https://us-python.pkg.dev/colab-wheels/public/simple/\n",
            "Requirement already satisfied: kaleido in /usr/local/lib/python3.8/dist-packages (0.2.1)\n"
          ]
        }
      ]
    },
    {
      "cell_type": "code",
      "source": [
        "from google.colab import drive\n",
        "drive.mount('/content/drive')"
      ],
      "metadata": {
        "colab": {
          "base_uri": "https://localhost:8080/"
        },
        "id": "6Jha_EuZKgcQ",
        "outputId": "bfd36c13-0a0d-4762-be14-80ab08252994"
      },
      "execution_count": 17,
      "outputs": [
        {
          "output_type": "stream",
          "name": "stdout",
          "text": [
            "Drive already mounted at /content/drive; to attempt to forcibly remount, call drive.mount(\"/content/drive\", force_remount=True).\n"
          ]
        }
      ]
    },
    {
      "cell_type": "code",
      "source": [
        "cd /content/drive/MyDrive/Bigdata"
      ],
      "metadata": {
        "colab": {
          "base_uri": "https://localhost:8080/"
        },
        "id": "KF3k-rrVKlPG",
        "outputId": "f027e45c-3daf-416e-a143-117973769ade"
      },
      "execution_count": 18,
      "outputs": [
        {
          "output_type": "stream",
          "name": "stdout",
          "text": [
            "/content/drive/MyDrive/Bigdata\n"
          ]
        }
      ]
    },
    {
      "cell_type": "code",
      "source": [
        "\n",
        "#Replace part of string with another string\n",
        "from pyspark.sql.window import Window\n",
        "from pyspark.sql.functions import col, row_number\n",
        "from pyspark.sql.functions import regexp_replace\n",
        "from pyspark.sql.functions import mean, col, max, countDistinct, concat\n",
        "from pyspark.sql.functions import col,isnan, when, count\n",
        "import pandas as pd\n",
        "from datetime import datetime\n",
        "from dateutil import parser\n",
        "import numpy as np \n",
        "import pandas as pd\n",
        "import matplotlib.pyplot as plt\n",
        "import seaborn as sns\n",
        "import plotly as py\n",
        "import plotly.express as px\n",
        "import plotly.graph_objs as go\n",
        "from plotly.subplots import make_subplots\n",
        "import time\n",
        "from plotly.offline import download_plotlyjs, init_notebook_mode, plot, iplot\n",
        "\n",
        "import PIL\n",
        "import gradio as gr\n",
        "\n"
      ],
      "metadata": {
        "id": "lcfVZ94FNSfI"
      },
      "execution_count": 19,
      "outputs": []
    },
    {
      "cell_type": "code",
      "source": [
        "df_train = pd.read_csv('train.csv', low_memory=False)"
      ],
      "metadata": {
        "id": "jnvxu_zhb7xx"
      },
      "execution_count": 20,
      "outputs": []
    },
    {
      "cell_type": "code",
      "source": [
        "from pyspark.sql import SparkSession\n",
        "\n",
        "spark = SparkSession \\\n",
        "    .builder \\\n",
        "    .appName(\"Python Spark SQL basic example\") \\\n",
        "    .config(\"spark.some.config.option\", \"some-value\") \\\n",
        "    .getOrCreate()\n",
        "\n",
        "df = spark.read.csv(\"train.csv\",header=True,sep=\",\")\n",
        "\n",
        "# print(df.collect())"
      ],
      "metadata": {
        "id": "67HtPm7CKjfF"
      },
      "execution_count": 21,
      "outputs": []
    },
    {
      "cell_type": "code",
      "source": [
        "print(\"Total Row Number: {0} \\nTotal Col Number: {1}\".format(df.count(), len(df.dtypes)))\n"
      ],
      "metadata": {
        "colab": {
          "base_uri": "https://localhost:8080/"
        },
        "id": "-rEh0fO3LFhC",
        "outputId": "1c0243c7-eeb1-4428-abfa-fb4663c02dc4"
      },
      "execution_count": 22,
      "outputs": [
        {
          "output_type": "stream",
          "name": "stdout",
          "text": [
            "Total Row Number: 682154 \n",
            "Total Col Number: 49\n"
          ]
        }
      ]
    },
    {
      "cell_type": "code",
      "source": [
        "df.show()"
      ],
      "metadata": {
        "colab": {
          "base_uri": "https://localhost:8080/"
        },
        "id": "YV1NZOf7j6RS",
        "outputId": "6205e913-13c0-42c1-a5cd-53efbf532776"
      },
      "execution_count": 23,
      "outputs": [
        {
          "output_type": "stream",
          "name": "stdout",
          "text": [
            "+----------+--------------+----+-----+-----+----+----+----+-----------+------+-------+-----------------+------------+------+--------+-------+---------+--------------+----+--------+-------------+-------------------+----------------------+-----------+----------------+----------------+-----------------+----------------+-------------+--------------------+--------------------+-----+------------+------------+---------------+-----------------+--------+------------+---------------+----+----------------+--------------+-----------+----------+--------------+-----------+--------+---------+-------------+\n",
            "|    GameId|        PlayId|Team|    X|    Y|   S|   A| Dis|Orientation|   Dir|  NflId|      DisplayName|JerseyNumber|Season|YardLine|Quarter|GameClock|PossessionTeam|Down|Distance|FieldPosition|HomeScoreBeforePlay|VisitorScoreBeforePlay|NflIdRusher|OffenseFormation|OffensePersonnel|DefendersInTheBox|DefensePersonnel|PlayDirection|         TimeHandoff|            TimeSnap|Yards|PlayerHeight|PlayerWeight|PlayerBirthDate|PlayerCollegeName|Position|HomeTeamAbbr|VisitorTeamAbbr|Week|         Stadium|      Location|StadiumType|      Turf|   GameWeather|Temperature|Humidity|WindSpeed|WindDirection|\n",
            "+----------+--------------+----+-----+-----+----+----+----+-----------+------+-------+-----------------+------------+------+--------+-------+---------+--------------+----+--------+-------------+-------------------+----------------------+-----------+----------------+----------------+-----------------+----------------+-------------+--------------------+--------------------+-----+------------+------------+---------------+-----------------+--------+------------+---------------+----+----------------+--------------+-----------+----------+--------------+-----------+--------+---------+-------------+\n",
            "|2017090700|20170907000118|away|73.91|34.84|1.69|1.13| 0.4|      81.99|177.18| 496723|       Eric Berry|          29|  2017|      35|      1| 14:14:00|            NE|   3|       2|           NE|                  0|                     0|    2543773|         SHOTGUN|1 RB, 1 TE, 3 WR|                6|2 DL, 3 LB, 6 DB|         left|2017-09-08T00:44:...|2017-09-08T00:44:...|    8|         6-0|         212|     12/29/1988|        Tennessee|      SS|          NE|             KC|   1|Gillette Stadium|Foxborough, MA|    Outdoor|Field Turf|Clear and warm|         63|      77|        8|           SW|\n",
            "|2017090700|20170907000118|away|74.67|32.64|0.42|1.35|0.01|      27.61| 198.7|2495116|     Allen Bailey|          97|  2017|      35|      1| 14:14:00|            NE|   3|       2|           NE|                  0|                     0|    2543773|         SHOTGUN|1 RB, 1 TE, 3 WR|                6|2 DL, 3 LB, 6 DB|         left|2017-09-08T00:44:...|2017-09-08T00:44:...|    8|         6-3|         288|     03/25/1989|            Miami|      DE|          NE|             KC|   1|Gillette Stadium|Foxborough, MA|    Outdoor|Field Turf|Clear and warm|         63|      77|        8|           SW|\n",
            "|2017090700|20170907000118|away|   74| 33.2|1.22|0.59|0.31|       3.01|202.73|2495493|   Justin Houston|          50|  2017|      35|      1| 14:14:00|            NE|   3|       2|           NE|                  0|                     0|    2543773|         SHOTGUN|1 RB, 1 TE, 3 WR|                6|2 DL, 3 LB, 6 DB|         left|2017-09-08T00:44:...|2017-09-08T00:44:...|    8|         6-3|         270|     01/21/1989|          Georgia|      DE|          NE|             KC|   1|Gillette Stadium|Foxborough, MA|    Outdoor|Field Turf|Clear and warm|         63|      77|        8|           SW|\n",
            "|2017090700|20170907000118|away|71.46| 27.7|0.42|0.54|0.02|     359.77|105.64|2506353|  Derrick Johnson|          56|  2017|      35|      1| 14:14:00|            NE|   3|       2|           NE|                  0|                     0|    2543773|         SHOTGUN|1 RB, 1 TE, 3 WR|                6|2 DL, 3 LB, 6 DB|         left|2017-09-08T00:44:...|2017-09-08T00:44:...|    8|         6-3|         245|     11/22/1982|            Texas|     ILB|          NE|             KC|   1|Gillette Stadium|Foxborough, MA|    Outdoor|Field Turf|Clear and warm|         63|      77|        8|           SW|\n",
            "|2017090700|20170907000118|away|69.32|35.42|1.82|2.43|0.16|      12.63|164.31|2530794|       Ron Parker|          38|  2017|      35|      1| 14:14:00|            NE|   3|       2|           NE|                  0|                     0|    2543773|         SHOTGUN|1 RB, 1 TE, 3 WR|                6|2 DL, 3 LB, 6 DB|         left|2017-09-08T00:44:...|2017-09-08T00:44:...|    8|         6-0|         206|     08/17/1987|         Newberry|      FS|          NE|             KC|   1|Gillette Stadium|Foxborough, MA|    Outdoor|Field Turf|Clear and warm|         63|      77|        8|           SW|\n",
            "|2017090700|20170907000118|away|75.06|   24|1.01|0.32|0.18|     308.34| 95.01|2543494|         Dee Ford|          55|  2017|      35|      1| 14:14:00|            NE|   3|       2|           NE|                  0|                     0|    2543773|         SHOTGUN|1 RB, 1 TE, 3 WR|                6|2 DL, 3 LB, 6 DB|         left|2017-09-08T00:44:...|2017-09-08T00:44:...|    8|         6-2|         252|     03/19/1991|           Auburn|      DE|          NE|             KC|   1|Gillette Stadium|Foxborough, MA|    Outdoor|Field Turf|Clear and warm|         63|      77|        8|           SW|\n",
            "|2017090700|20170907000118|away|74.11|16.64|1.11|0.83|0.02|     357.23|322.59|2543637|Terrance Mitchell|          39|  2017|      35|      1| 14:14:00|            NE|   3|       2|           NE|                  0|                     0|    2543773|         SHOTGUN|1 RB, 1 TE, 3 WR|                6|2 DL, 3 LB, 6 DB|         left|2017-09-08T00:44:...|2017-09-08T00:44:...|    8|        5-11|         190|     05/17/1992|           Oregon|      CB|          NE|             KC|   1|Gillette Stadium|Foxborough, MA|    Outdoor|Field Turf|Clear and warm|         63|      77|        8|           SW|\n",
            "|2017090700|20170907000118|away|73.37|18.73|1.24|0.74|0.13|     328.52|270.04|2543851|   Phillip Gaines|          23|  2017|      35|      1| 14:14:00|            NE|   3|       2|           NE|                  0|                     0|    2543773|         SHOTGUN|1 RB, 1 TE, 3 WR|                6|2 DL, 3 LB, 6 DB|         left|2017-09-08T00:44:...|2017-09-08T00:44:...|    8|         6-0|         193|     04/04/1991|             Rice|      CB|          NE|             KC|   1|Gillette Stadium|Foxborough, MA|    Outdoor|Field Turf|Clear and warm|         63|      77|        8|           SW|\n",
            "|2017090700|20170907000118|away|56.63| 26.9|0.26|1.86|0.28|      344.7| 55.31|2550257|  Daniel Sorensen|          49|  2017|      35|      1| 14:14:00|            NE|   3|       2|           NE|                  0|                     0|    2543773|         SHOTGUN|1 RB, 1 TE, 3 WR|                6|2 DL, 3 LB, 6 DB|         left|2017-09-08T00:44:...|2017-09-08T00:44:...|    8|         6-2|         208|     03/05/1990|    Brigham Young|      SS|          NE|             KC|   1|Gillette Stadium|Foxborough, MA|    Outdoor|Field Turf|Clear and warm|         63|      77|        8|           SW|\n",
            "|2017090700|20170907000118|away|73.35|38.83|4.55|0.76|0.51|      75.47|190.84|2552488|    Marcus Peters|          22|  2017|      35|      1| 14:14:00|            NE|   3|       2|           NE|                  0|                     0|    2543773|         SHOTGUN|1 RB, 1 TE, 3 WR|                6|2 DL, 3 LB, 6 DB|         left|2017-09-08T00:44:...|2017-09-08T00:44:...|    8|         6-0|         197|     01/09/1993|       Washington|      CB|          NE|             KC|   1|Gillette Stadium|Foxborough, MA|    Outdoor|Field Turf|Clear and warm|         63|      77|        8|           SW|\n",
            "|2017090700|20170907000118|away|74.15| 28.9|0.72|0.73|0.01|     342.58|274.14|2556369|      Chris Jones|          95|  2017|      35|      1| 14:14:00|            NE|   3|       2|           NE|                  0|                     0|    2543773|         SHOTGUN|1 RB, 1 TE, 3 WR|                6|2 DL, 3 LB, 6 DB|         left|2017-09-08T00:44:...|2017-09-08T00:44:...|    8|         6-6|         308|     07/03/1994|Mississippi State|      DT|          NE|             KC|   1|Gillette Stadium|Foxborough, MA|    Outdoor|Field Turf|Clear and warm|         63|      77|        8|           SW|\n",
            "|2017090700|20170907000118|home|75.82|17.56| 2.3|1.39|0.55|     178.97|284.15|   2649|   Danny Amendola|          80|  2017|      35|      1| 14:14:00|            NE|   3|       2|           NE|                  0|                     0|    2543773|         SHOTGUN|1 RB, 1 TE, 3 WR|                6|2 DL, 3 LB, 6 DB|         left|2017-09-08T00:44:...|2017-09-08T00:44:...|    8|        5-11|         185|     11/02/1985|       Texas Tech|      WR|          NE|             KC|   1|Gillette Stadium|Foxborough, MA|    Outdoor|Field Turf|Clear and warm|         63|      77|        8|           SW|\n",
            "|2017090700|20170907000118|home|74.78|33.21|1.71|0.82|0.19|     178.82| 215.9| 497240|   Rob Gronkowski|          87|  2017|      35|      1| 14:14:00|            NE|   3|       2|           NE|                  0|                     0|    2543773|         SHOTGUN|1 RB, 1 TE, 3 WR|                6|2 DL, 3 LB, 6 DB|         left|2017-09-08T00:44:...|2017-09-08T00:44:...|    8|         6-6|         265|     05/14/1989|          Arizona|      TE|          NE|             KC|   1|Gillette Stadium|Foxborough, MA|    Outdoor|Field Turf|Clear and warm|         63|      77|        8|           SW|\n",
            "|2017090700|20170907000118|home|75.43|32.41| 1.5|1.36|0.32|     207.08|222.76|2495131|    Marcus Cannon|          61|  2017|      35|      1| 14:14:00|            NE|   3|       2|           NE|                  0|                     0|    2543773|         SHOTGUN|1 RB, 1 TE, 3 WR|                6|2 DL, 3 LB, 6 DB|         left|2017-09-08T00:44:...|2017-09-08T00:44:...|    8|         6-6|         335|     05/06/1988|  Texas Christian|       T|          NE|             KC|   1|Gillette Stadium|Foxborough, MA|    Outdoor|Field Turf|Clear and warm|         63|      77|        8|           SW|\n",
            "|2017090700|20170907000118|home| 75.9|25.12|1.38| 0.8|0.19|     133.01|198.55|2495232|      Nate Solder|          77|  2017|      35|      1| 14:14:00|            NE|   3|       2|           NE|                  0|                     0|    2543773|         SHOTGUN|1 RB, 1 TE, 3 WR|                6|2 DL, 3 LB, 6 DB|         left|2017-09-08T00:44:...|2017-09-08T00:44:...|    8|         6-9|         325|     04/12/1988|         Colorado|       T|          NE|             KC|   1|Gillette Stadium|Foxborough, MA|    Outdoor|Field Turf|Clear and warm|         63|      77|        8|           SW|\n",
            "|2017090700|20170907000118|home|79.76|29.49|0.84|1.22|   0|     192.18|110.86|2504211|        Tom Brady|          12|  2017|      35|      1| 14:14:00|            NE|   3|       2|           NE|                  0|                     0|    2543773|         SHOTGUN|1 RB, 1 TE, 3 WR|                6|2 DL, 3 LB, 6 DB|         left|2017-09-08T00:44:...|2017-09-08T00:44:...|    8|         6-4|         225|     08/03/1977|         Michigan|      QB|          NE|             KC|   1|Gillette Stadium|Foxborough, MA|    Outdoor|Field Turf|Clear and warm|         63|      77|        8|           SW|\n",
            "|2017090700|20170907000118|home|76.47|36.91|5.15|0.77|0.59|     112.02|195.09|2530515|      Chris Hogan|          15|  2017|      35|      1| 14:14:00|            NE|   3|       2|           NE|                  0|                     0|    2543773|         SHOTGUN|1 RB, 1 TE, 3 WR|                6|2 DL, 3 LB, 6 DB|         left|2017-09-08T00:44:...|2017-09-08T00:44:...|    8|         6-1|         210|     10/24/1987|   Monmouth, N.J.|      WR|          NE|             KC|   1|Gillette Stadium|Foxborough, MA|    Outdoor|Field Turf|Clear and warm|         63|      77|        8|           SW|\n",
            "|2017090700|20170907000118|home| 74.7|19.19| 2.1|1.48|0.51|     152.14|278.52|2543498|    Brandin Cooks|          14|  2017|      35|      1| 14:14:00|            NE|   3|       2|           NE|                  0|                     0|    2543773|         SHOTGUN|1 RB, 1 TE, 3 WR|                6|2 DL, 3 LB, 6 DB|         left|2017-09-08T00:44:...|2017-09-08T00:44:...|    8|        5-10|         183|     09/25/1993|     Oregon State|      WR|          NE|             KC|   1|Gillette Stadium|Foxborough, MA|    Outdoor|Field Turf|Clear and warm|         63|      77|        8|           SW|\n",
            "|2017090700|20170907000118|home|78.75|30.53|3.63|3.35|0.38|     161.98|245.74|2543773|      James White|          28|  2017|      35|      1| 14:14:00|            NE|   3|       2|           NE|                  0|                     0|    2543773|         SHOTGUN|1 RB, 1 TE, 3 WR|                6|2 DL, 3 LB, 6 DB|         left|2017-09-08T00:44:...|2017-09-08T00:44:...|    8|        5-10|         205|     02/03/1992|        Wisconsin|      RB|          NE|             KC|   1|Gillette Stadium|Foxborough, MA|    Outdoor|Field Turf|Clear and warm|         63|      77|        8|           SW|\n",
            "|2017090700|20170907000118|home| 74.6|31.88|1.86|1.51|0.17|     218.49|267.32|2552563|       Shaq Mason|          69|  2017|      35|      1| 14:14:00|            NE|   3|       2|           NE|                  0|                     0|    2543773|         SHOTGUN|1 RB, 1 TE, 3 WR|                6|2 DL, 3 LB, 6 DB|         left|2017-09-08T00:44:...|2017-09-08T00:44:...|    8|         6-1|         310|     08/28/1993|     Georgia Tech|       G|          NE|             KC|   1|Gillette Stadium|Foxborough, MA|    Outdoor|Field Turf|Clear and warm|         63|      77|        8|           SW|\n",
            "+----------+--------------+----+-----+-----+----+----+----+-----------+------+-------+-----------------+------------+------+--------+-------+---------+--------------+----+--------+-------------+-------------------+----------------------+-----------+----------------+----------------+-----------------+----------------+-------------+--------------------+--------------------+-----+------------+------------+---------------+-----------------+--------+------------+---------------+----+----------------+--------------+-----------+----------+--------------+-----------+--------+---------+-------------+\n",
            "only showing top 20 rows\n",
            "\n"
          ]
        }
      ]
    },
    {
      "cell_type": "code",
      "source": [
        "df.columns"
      ],
      "metadata": {
        "colab": {
          "base_uri": "https://localhost:8080/"
        },
        "id": "YXezQNWQkFAW",
        "outputId": "6a0b7f03-b2fb-45a4-c84a-89e580d042bc"
      },
      "execution_count": 24,
      "outputs": [
        {
          "output_type": "execute_result",
          "data": {
            "text/plain": [
              "['GameId',\n",
              " 'PlayId',\n",
              " 'Team',\n",
              " 'X',\n",
              " 'Y',\n",
              " 'S',\n",
              " 'A',\n",
              " 'Dis',\n",
              " 'Orientation',\n",
              " 'Dir',\n",
              " 'NflId',\n",
              " 'DisplayName',\n",
              " 'JerseyNumber',\n",
              " 'Season',\n",
              " 'YardLine',\n",
              " 'Quarter',\n",
              " 'GameClock',\n",
              " 'PossessionTeam',\n",
              " 'Down',\n",
              " 'Distance',\n",
              " 'FieldPosition',\n",
              " 'HomeScoreBeforePlay',\n",
              " 'VisitorScoreBeforePlay',\n",
              " 'NflIdRusher',\n",
              " 'OffenseFormation',\n",
              " 'OffensePersonnel',\n",
              " 'DefendersInTheBox',\n",
              " 'DefensePersonnel',\n",
              " 'PlayDirection',\n",
              " 'TimeHandoff',\n",
              " 'TimeSnap',\n",
              " 'Yards',\n",
              " 'PlayerHeight',\n",
              " 'PlayerWeight',\n",
              " 'PlayerBirthDate',\n",
              " 'PlayerCollegeName',\n",
              " 'Position',\n",
              " 'HomeTeamAbbr',\n",
              " 'VisitorTeamAbbr',\n",
              " 'Week',\n",
              " 'Stadium',\n",
              " 'Location',\n",
              " 'StadiumType',\n",
              " 'Turf',\n",
              " 'GameWeather',\n",
              " 'Temperature',\n",
              " 'Humidity',\n",
              " 'WindSpeed',\n",
              " 'WindDirection']"
            ]
          },
          "metadata": {},
          "execution_count": 24
        }
      ]
    },
    {
      "cell_type": "code",
      "source": [
        "\n",
        "#Pandas\n",
        "start = time.time()\n",
        "nullvalues = df_train.loc[:, df_train.isnull().any()].isnull().sum()\n",
        "end = time.time()\n",
        "print(end-start)\n",
        "\n",
        "#Spark\n",
        "start = time.time()\n",
        "unique_value = df.select([count(when(isnan(c) | col(c).isNull(), c)).alias(c) for c in df.columns])\n",
        "end = time.time()\n",
        "print(end-start)\n",
        "\n",
        "unique_value.show()"
      ],
      "metadata": {
        "id": "3olsfOf_ka5g",
        "colab": {
          "base_uri": "https://localhost:8080/"
        },
        "outputId": "351ffbd1-9109-4028-de99-b4a621f3187d"
      },
      "execution_count": 25,
      "outputs": [
        {
          "output_type": "stream",
          "name": "stdout",
          "text": [
            "2.6922454833984375\n",
            "1.426992416381836\n",
            "+------+------+----+---+---+---+---+---+-----------+---+-----+-----------+------------+------+--------+-------+---------+--------------+----+--------+-------------+-------------------+----------------------+-----------+----------------+----------------+-----------------+----------------+-------------+-----------+--------+-----+------------+------------+---------------+-----------------+--------+------------+---------------+----+-------+--------+-----------+----+-----------+-----------+--------+---------+-------------+\n",
            "|GameId|PlayId|Team|  X|  Y|  S|  A|Dis|Orientation|Dir|NflId|DisplayName|JerseyNumber|Season|YardLine|Quarter|GameClock|PossessionTeam|Down|Distance|FieldPosition|HomeScoreBeforePlay|VisitorScoreBeforePlay|NflIdRusher|OffenseFormation|OffensePersonnel|DefendersInTheBox|DefensePersonnel|PlayDirection|TimeHandoff|TimeSnap|Yards|PlayerHeight|PlayerWeight|PlayerBirthDate|PlayerCollegeName|Position|HomeTeamAbbr|VisitorTeamAbbr|Week|Stadium|Location|StadiumType|Turf|GameWeather|Temperature|Humidity|WindSpeed|WindDirection|\n",
            "+------+------+----+---+---+---+---+---+-----------+---+-----+-----------+------------+------+--------+-------+---------+--------------+----+--------+-------------+-------------------+----------------------+-----------+----------------+----------------+-----------------+----------------+-------------+-----------+--------+-----+------------+------------+---------------+-----------------+--------+------------+---------------+----+-------+--------+-----------+----+-----------+-----------+--------+---------+-------------+\n",
            "|     0|     0|   0|  0|  0|  0|  0|  0|         23| 28|    0|          0|           0|     0|       0|      0|        0|             0|   0|       0|         8602|                  0|                     0|          0|              88|               0|               22|               0|            0|          0|       0|    0|           0|           0|              0|                0|       0|           0|              0|   0|      0|       0|      41690|   0|      55374|      63646|    6160|    91872|       103818|\n",
            "+------+------+----+---+---+---+---+---+-----------+---+-----+-----------+------------+------+--------+-------+---------+--------------+----+--------+-------------+-------------------+----------------------+-----------+----------------+----------------+-----------------+----------------+-------------+-----------+--------+-----+------------+------------+---------------+-----------------+--------+------------+---------------+----+-------+--------+-----------+----+-----------+-----------+--------+---------+-------------+\n",
            "\n"
          ]
        }
      ]
    },
    {
      "cell_type": "code",
      "source": [
        "def Plays_Games_Players():\n",
        "  #Pandas\n",
        "  start = time.time()\n",
        "  unique_plays = df_train.groupby('Season').agg({'PlayId': 'nunique', 'GameId': 'nunique', 'NflId':'nunique'})\n",
        "  end = time.time()\n",
        "  pandas_query = (end-start)\n",
        "\n",
        "  #Spark\n",
        "  start = time.time()\n",
        "  playIddistinct = df.groupBy(\"Season\").agg(countDistinct('PlayId')) \n",
        "  GameIddistinct = df.groupBy(\"Season\").agg(countDistinct('GameId')) \n",
        "  NflIddistinct = df.groupBy(\"Season\").agg(countDistinct('NflId')) \n",
        "\n",
        "  end = time.time()\n",
        "  spark_query = (end-start)\n",
        "\n",
        "\n",
        "  # playIddistinct.show()\n",
        "  # GameIddistinct.show()\n",
        "  # NflIddistinct.show()\n",
        "\n",
        "  playIddistinct = playIddistinct.toPandas()\n",
        "  GameIddistinct = GameIddistinct.toPandas()\n",
        "  NflIddistinct = NflIddistinct.toPandas()\n",
        "\n",
        "  f,ax=plt.subplots(1,3,figsize=(11,4))\n",
        "  playIddistinct.plot(ax=ax[0],color='crimson', kind='bar')\n",
        "\n",
        "  ax[0].set_title('Count of Plays')\n",
        "  GameIddistinct.plot(ax=ax[1],color='darkmagenta', kind='bar')\n",
        "\n",
        "  ax[1].set_title('Count of Games')\n",
        "  NflIddistinct.plot(ax=ax[2],color='slateblue', kind='bar')\n",
        "\n",
        "  ax[2].set_title('Count of Player')\n",
        "\n",
        "  # plt.show()\n",
        "  plt.savefig('test.png')\n",
        "  return PIL.Image.open('test.png', 'r'), pandas_query, spark_query"
      ],
      "metadata": {
        "id": "2vVXGq_7mEKL"
      },
      "execution_count": 26,
      "outputs": []
    },
    {
      "cell_type": "code",
      "source": [
        "def Away_Home():\n",
        "  #Pandas\n",
        "  start = time.time()\n",
        "  df_team = df_train.loc[:,['PlayId', 'Team']].drop_duplicates()\n",
        "  teamcount = df_team[\"Team\"].value_counts()\n",
        "  end = time.time()\n",
        "  pandas_query = (end-start)\n",
        "\n",
        "  #Spark\n",
        "  start = time.time()\n",
        "  team_count = df.select('PlayId', 'Team').drop_duplicates().groupby('Team').count().orderBy('count', ascending=False)\n",
        "  end = time.time()\n",
        "  spark_query = (end-start)\n",
        "\n",
        "\n",
        "\n",
        "  team_count = team_count.toPandas()\n",
        "  print(team_count)\n",
        "  fig = px.bar(team_count, x='Team', y='count')\n",
        "  fig.update_layout(\n",
        "      title_text=\"Team (Away or Home)\", height=300, width=300)\n",
        "  fig.write_image(file='test.png', format='png')\n",
        "  return PIL.Image.open('test.png', 'r'), pandas_query, spark_query\n",
        "# fig.show()"
      ],
      "metadata": {
        "id": "zWjctZsuuGsP"
      },
      "execution_count": 27,
      "outputs": []
    },
    {
      "cell_type": "code",
      "source": [
        "def weight_height_fre():\n",
        "  #Pandas\n",
        "  start = time.time()\n",
        "  df_player = df_train.loc[:,['NflId', 'DisplayName', 'PlayerBirthDate', 'PlayerWeight', 'PlayerHeight', 'PlayerCollegeName']].drop_duplicates()\n",
        "  end = time.time()\n",
        "  pandas_query = (end-start)\n",
        "\n",
        "  #Spark\n",
        "  start = time.time()\n",
        "  df_player = df.select('NflId', 'DisplayName', 'PlayerBirthDate', 'PlayerWeight', 'PlayerHeight', 'PlayerCollegeName').drop_duplicates()\n",
        "  end = time.time()\n",
        "  spark_query = (end-start)\n",
        "\n",
        "  # df_player.show()\n",
        "\n",
        "  df_player = df_player.toPandas()\n",
        "  df_player = df_player.loc[:,['NflId', 'DisplayName', 'PlayerBirthDate', 'PlayerWeight', 'PlayerHeight', 'PlayerCollegeName']].drop_duplicates()\n",
        "  df_player[\"HeightFt\"] = df_player[\"PlayerHeight\"].str.split('-', expand=True)[0].astype(int)\n",
        "  df_player[\"HeightIn\"] = df_player[\"PlayerHeight\"].str.split('-', expand=True)[1].astype(int)\n",
        "  df_player[\"HeightCm\"] = df_player[\"HeightFt\"]*30.48 + df_player[\"HeightIn\"]*2.54\n",
        "  df_player['PlayerWeight'] = df_player['PlayerWeight'].astype(float)\n",
        "  df_player[\"WeightKg\"] = df_player[\"PlayerWeight\"]*0.45359237\n",
        "  df_height = df_player.groupby(['PlayerHeight','HeightFt','HeightIn']).size().reset_index().sort_values([\"HeightFt\", \"HeightIn\"])\n",
        "  df_height.columns = [\"PlayerHeight\",\"HeightFt\",\"HeightIn\",\"Count\"]\n",
        "\n",
        "\n",
        "  f,ax=plt.subplots(1,2,figsize=(13,5))\n",
        "  df_height.loc[:,[\"PlayerHeight\",\"Count\"]].set_index(\"PlayerHeight\").plot(ax=ax[0],color='slateblue', kind='bar')\n",
        "\n",
        "  ax[0].set_xlabel(\"Height\") \n",
        "  ax[0].set_ylabel(\"Count\") \n",
        "  ax[0].get_legend().remove()\n",
        "  ax[0].set_title('Player Height (ft-in)')\n",
        "\n",
        "  df_player.PlayerWeight.plot.hist(ax=ax[1],bins=30,edgecolor='black',color='steelblue')\n",
        "\n",
        "  ax[1].set_xlabel(\"Weight\") \n",
        "  ax[1].set_title('Player Weight (lbs)')\n",
        "  plt.savefig('test.png')\n",
        "  return PIL.Image.open('test.png', 'r'), pandas_query, spark_query\n",
        "# plt.show()"
      ],
      "metadata": {
        "id": "AU3ll3ufM3BC"
      },
      "execution_count": 28,
      "outputs": []
    },
    {
      "cell_type": "code",
      "source": [
        "def weight_height_corre():\n",
        "  #Pandas\n",
        "  start = time.time()\n",
        "  df_player = df_train.loc[:,['NflId', 'DisplayName', 'PlayerBirthDate', 'PlayerWeight', 'PlayerHeight', 'PlayerCollegeName']].drop_duplicates()\n",
        "  end = time.time()\n",
        "  pandas_query = (end-start)\n",
        "\n",
        "  #Spark\n",
        "  start = time.time()\n",
        "  df_player = df.select('NflId', 'DisplayName', 'PlayerBirthDate', 'PlayerWeight', 'PlayerHeight', 'PlayerCollegeName').drop_duplicates()\n",
        "  end = time.time()\n",
        "  spark_query = (end-start)\n",
        "\n",
        "  # df_player.show()\n",
        "\n",
        "  df_player = df_player.toPandas()\n",
        "  df_player = df_player.loc[:,['NflId', 'DisplayName', 'PlayerBirthDate', 'PlayerWeight', 'PlayerHeight', 'PlayerCollegeName']].drop_duplicates()\n",
        "  df_player[\"HeightFt\"] = df_player[\"PlayerHeight\"].str.split('-', expand=True)[0].astype(int)\n",
        "  df_player[\"HeightIn\"] = df_player[\"PlayerHeight\"].str.split('-', expand=True)[1].astype(int)\n",
        "  df_player[\"HeightCm\"] = df_player[\"HeightFt\"]*30.48 + df_player[\"HeightIn\"]*2.54\n",
        "  df_player['PlayerWeight'] = df_player['PlayerWeight'].astype(float)\n",
        "  df_player[\"WeightKg\"] = df_player[\"PlayerWeight\"]*0.45359237\n",
        "  df_height = df_player.groupby(['PlayerHeight','HeightFt','HeightIn']).size().reset_index().sort_values([\"HeightFt\", \"HeightIn\"])\n",
        "  df_height.columns = [\"PlayerHeight\",\"HeightFt\",\"HeightIn\",\"Count\"]\n",
        "\n",
        "  fig = go.Figure(data=go.Scattergl\n",
        "  (\n",
        "      x = df_player[\"HeightCm\"], \n",
        "      y = df_player[\"WeightKg\"],\n",
        "      mode='markers',\n",
        "      text = df_player['DisplayName'],\n",
        "      marker=dict(line_width=0.4),\n",
        "      marker_color='rgb(0,145,119)'))\n",
        "\n",
        "  fig.update_layout(title='Weight Height Correlation', height=600, width=800)\n",
        "  fig.update_xaxes(title_text=\"Height (Cm)\")\n",
        "  fig.update_yaxes(title_text=\"Weight (Kg)\")\n",
        "  fig.write_image(file='test.png', format='png')\n",
        "  return PIL.Image.open('test.png', 'r'), pandas_query, spark_query\n",
        "  # fig.show()"
      ],
      "metadata": {
        "id": "3DyhBsFFPlEw"
      },
      "execution_count": 29,
      "outputs": []
    },
    {
      "cell_type": "code",
      "source": [
        "def Player_Colleges_Fre():\n",
        "  #Pandas\n",
        "  start = time.time()\n",
        "  df_player = df_train.loc[:,['NflId', 'DisplayName', 'PlayerBirthDate', 'PlayerWeight', 'PlayerHeight', 'PlayerCollegeName']].drop_duplicates()\n",
        "  end = time.time()\n",
        "  pandas_query = (end-start)\n",
        "\n",
        "  #Spark\n",
        "  start = time.time()\n",
        "  df_player = df.select('NflId', 'DisplayName', 'PlayerBirthDate', 'PlayerWeight', 'PlayerHeight', 'PlayerCollegeName').drop_duplicates()\n",
        "  end = time.time()\n",
        "  spark_query = (end-start)\n",
        "\n",
        "  # df_player.show()\n",
        "\n",
        "  df_player = df_player.toPandas()\n",
        "  df_player = df_player.loc[:,['NflId', 'DisplayName', 'PlayerBirthDate', 'PlayerWeight', 'PlayerHeight', 'PlayerCollegeName']].drop_duplicates()\n",
        "  df_player[\"HeightFt\"] = df_player[\"PlayerHeight\"].str.split('-', expand=True)[0].astype(int)\n",
        "  df_player[\"HeightIn\"] = df_player[\"PlayerHeight\"].str.split('-', expand=True)[1].astype(int)\n",
        "  df_player[\"HeightCm\"] = df_player[\"HeightFt\"]*30.48 + df_player[\"HeightIn\"]*2.54\n",
        "  df_player['PlayerWeight'] = df_player['PlayerWeight'].astype(float)\n",
        "  df_player[\"WeightKg\"] = df_player[\"PlayerWeight\"]*0.45359237\n",
        "  df_height = df_player.groupby(['PlayerHeight','HeightFt','HeightIn']).size().reset_index().sort_values([\"HeightFt\", \"HeightIn\"])\n",
        "  df_height.columns = [\"PlayerHeight\",\"HeightFt\",\"HeightIn\",\"Count\"]\n",
        "\n",
        "  Collage = df_player[\"PlayerCollegeName\"].value_counts()\n",
        "  df_CollageCount = pd.DataFrame({'College Name':Collage.index, 'Count':Collage.values}).sort_values(\"Count\", ascending = False).head(50)\n",
        "\n",
        "  fig = px.bar(df_CollageCount, x='College Name', y='Count', title=\"The 50 Top Colleges With The Most Players\", height=700, width=800)\n",
        "\n",
        "  fig.update_traces(marker_color='rgb(239, 117, 100)', marker_line_color='rgb(8,48,107)',\n",
        "                    marker_line_width=2, opacity=0.7)\n",
        "  fig.write_image(file='test.png', format='png')\n",
        "  return PIL.Image.open('test.png', 'r'), pandas_query, spark_query\n",
        "  # fig.show()"
      ],
      "metadata": {
        "id": "BBsyDK1mPnzQ"
      },
      "execution_count": 30,
      "outputs": []
    },
    {
      "cell_type": "code",
      "source": [
        "def Age_Fre(): \n",
        "  #Pandas\n",
        "  start = time.time()\n",
        "  df_player = df_train.loc[:,['NflId', 'DisplayName', 'PlayerBirthDate', 'PlayerWeight', 'PlayerHeight', 'PlayerCollegeName']].drop_duplicates()\n",
        "  end = time.time()\n",
        "  pandas_query = (end-start)\n",
        "\n",
        "  #Spark\n",
        "  start = time.time()\n",
        "  df_player = df.select('NflId', 'DisplayName', 'PlayerBirthDate', 'PlayerWeight', 'PlayerHeight', 'PlayerCollegeName').drop_duplicates()\n",
        "  end = time.time()\n",
        "  spark_query = (end-start)\n",
        "\n",
        "  # df_player.show()\n",
        "\n",
        "  df_player = df_player.toPandas()\n",
        "  df_player = df_player.loc[:,['NflId', 'DisplayName', 'PlayerBirthDate', 'PlayerWeight', 'PlayerHeight', 'PlayerCollegeName']].drop_duplicates()\n",
        "  df_player[\"HeightFt\"] = df_player[\"PlayerHeight\"].str.split('-', expand=True)[0].astype(int)\n",
        "  df_player[\"HeightIn\"] = df_player[\"PlayerHeight\"].str.split('-', expand=True)[1].astype(int)\n",
        "  df_player[\"HeightCm\"] = df_player[\"HeightFt\"]*30.48 + df_player[\"HeightIn\"]*2.54\n",
        "  df_player['PlayerWeight'] = df_player['PlayerWeight'].astype(float)\n",
        "  df_player[\"WeightKg\"] = df_player[\"PlayerWeight\"]*0.45359237\n",
        "  df_height = df_player.groupby(['PlayerHeight','HeightFt','HeightIn']).size().reset_index().sort_values([\"HeightFt\", \"HeightIn\"])\n",
        "  df_height.columns = [\"PlayerHeight\",\"HeightFt\",\"HeightIn\",\"Count\"]\n",
        "\n",
        "\n",
        "  df_player['BirthDate'] = df_player['PlayerBirthDate'].astype('datetime64[ns]')\n",
        "  #df_train[\"TimeSnap\"].astype('datetime64[ns]').sort_values(ascending=False)\n",
        "  #max date in TimeSnap cloumn is 2018-12-31, so i'm not using today function\n",
        "\n",
        "  df_player['MaxDate'] = pd.to_datetime('2019-11-26')\n",
        "\n",
        "  df_player['Age'] = round((df_player['MaxDate'] - df_player['BirthDate'])/np.timedelta64(1,'D')/365.25,1)\n",
        "\n",
        "  plt.figure(figsize=(6,6))\n",
        "\n",
        "  plt.hist(df_player[\"Age\"], bins=20 ,edgecolor='black', color='crimson')\n",
        "  plt.title(\"Age of Players in 2019\")\n",
        "  plt.savefig('test.png')\n",
        "  return PIL.Image.open('test.png', 'r'), pandas_query, spark_query\n",
        "  # plt.show()"
      ],
      "metadata": {
        "id": "y1xdAe24NwgQ"
      },
      "execution_count": 31,
      "outputs": []
    },
    {
      "cell_type": "code",
      "source": [
        "def Game_by_Stadium_Name(): \n",
        "  #Pandas\n",
        "  start = time.time()\n",
        "  df_stadium = df_train.loc[:,[\"PlayId\",\"Stadium\", \"StadiumType\"]].drop_duplicates()\n",
        "  end = time.time()\n",
        "  pandas_query = (end-start)\n",
        "\n",
        "  #Spark\n",
        "  start = time.time()\n",
        "  df_stadium = df.select(\"PlayId\",\"Stadium\", \"StadiumType\").drop_duplicates()\n",
        "  end = time.time()\n",
        "  spark_query = (end-start)\n",
        "  df_stadium = df_stadium.toPandas()\n",
        "\n",
        "  stadium = df_stadium[\"Stadium\"].value_counts()\n",
        "  df_stadiumCount = pd.DataFrame({'Stadium':stadium.index, 'Count':stadium.values}).sort_values(\"Stadium\")\n",
        "  fig = px.bar(df_stadiumCount, x='Stadium', y='Count', title=\"Games by Stadium\", height=700, width=800)\n",
        "  fig.update_traces(marker_color='darkorange', marker_line_color='rgb(8,48,107)',\n",
        "                    marker_line_width=2, opacity=0.7)\n",
        "  fig.write_image(file='test.png', format='png')\n",
        "  return PIL.Image.open('test.png', 'r'), pandas_query, spark_query\n",
        "# fig.show()"
      ],
      "metadata": {
        "id": "_-Cu4o0wPu1X"
      },
      "execution_count": 32,
      "outputs": []
    },
    {
      "cell_type": "code",
      "source": [
        "def Game_by_Stadium_Type():\n",
        "  #Pandas\n",
        "  start = time.time()\n",
        "  df_stadium = df_train.loc[:,[\"PlayId\",\"Stadium\", \"StadiumType\"]].drop_duplicates()\n",
        "  end = time.time()\n",
        "  pandas_query = (end-start)\n",
        "\n",
        "  #Spark\n",
        "  start = time.time()\n",
        "  df_stadium = df.select(\"PlayId\",\"Stadium\", \"StadiumType\").drop_duplicates()\n",
        "  end = time.time()\n",
        "  spark_query = (end-start)\n",
        "  df_stadium = df_stadium.toPandas()\n",
        "\n",
        "  StadiumType = df_stadium[\"StadiumType\"].value_counts()\n",
        "\n",
        "  df_StadiumType = pd.DataFrame({'StadiumType':StadiumType.index, 'Count':StadiumType.values}).sort_values(\"StadiumType\")\n",
        "\n",
        "  fig = px.bar(df_StadiumType, x='StadiumType', y='Count', title=\"Games by Stadium Type\", height=600, width=800)\n",
        "\n",
        "  fig.update_traces(marker_color='rgb(158,202,225)', marker_line_color='rgb(8,48,107)',\n",
        "                    marker_line_width=1.5, opacity=0.6)\n",
        "  fig.write_image(file='test.png', format='png')\n",
        "  return PIL.Image.open('test.png', 'r'), pandas_query, spark_query\n",
        "# fig.show()"
      ],
      "metadata": {
        "id": "IPYjfGW0wkAs"
      },
      "execution_count": 33,
      "outputs": []
    },
    {
      "cell_type": "code",
      "source": [
        "#Pandas\n",
        "start = time.time()\n",
        "stadium_loc = df_train.loc[:,['GameId', 'Location']].drop_duplicates()\n",
        "stadium_loc = stadium_loc['Location'].value_counts()\n",
        "end = time.time()\n",
        "print(end-start)\n",
        "\n",
        "#Spark\n",
        "start = time.time()\n",
        "stadium_loc = df.select(\"GameId\", \"Location\").drop_duplicates()\n",
        "stadium_loc = stadium_loc.groupBy('Location').count().orderBy('count')\n",
        "end = time.time()\n",
        "print(end-start)\n",
        "\n",
        "df_stadium_loc = stadium_loc.toPandas()\n",
        "print(stadium_loc)\n",
        "df_stadium_loc[\"State\"] = df_stadium_loc[\"Location\"].str.split(', ', expand=True)[0]\n",
        "df_stadium_loc[\"StateAbb\"] = df_stadium_loc[\"Location\"].str.split(', ', expand=True)[1]\n",
        "\n",
        "\n",
        "fig = go.Figure(data=go.Choropleth(\n",
        "    locations=df_stadium_loc[\"StateAbb\"], \n",
        "    z = df_stadium_loc['count'], \n",
        "    locationmode = 'USA-states', \n",
        "    text = df_stadium_loc['State'],\n",
        "    colorscale=\n",
        "            [[0.0, \"rgb(251, 237, 235)\"],\n",
        "            [0.09, \"rgb(245, 211, 206)\"],\n",
        "            [0.12, \"rgb(239, 179, 171)\"],\n",
        "            [0.15, \"rgb(236, 148, 136)\"],\n",
        "            [0.22, \"rgb(239, 117, 100)\"],\n",
        "            [0.35, \"rgb(235, 90, 70)\"],\n",
        "            [0.45, \"rgb(207, 81, 61)\"],\n",
        "            [0.65, \"rgb(176, 70, 50)\"],\n",
        "            [0.85, \"rgb(147, 59, 39)\"],\n",
        "            [1.00, \"rgb(110, 47, 26)\"]],\n",
        "    autocolorscale = False))\n",
        "\n",
        "fig.update_layout(\n",
        "    geo_scope='usa',\n",
        "    title_text = 'Total Number of Games by States', height=500, width=700)\n",
        "\n",
        "fig.show()"
      ],
      "metadata": {
        "id": "tDevfOIcwR_Y",
        "colab": {
          "base_uri": "https://localhost:8080/",
          "height": 569
        },
        "outputId": "32cfdc36-37cb-4edf-bca0-2fc147d24335"
      },
      "execution_count": 34,
      "outputs": [
        {
          "output_type": "stream",
          "name": "stdout",
          "text": [
            "0.24558353424072266\n",
            "0.08973479270935059\n",
            "DataFrame[Location: string, count: bigint]\n"
          ]
        },
        {
          "output_type": "display_data",
          "data": {
            "text/html": [
              "<html>\n",
              "<head><meta charset=\"utf-8\" /></head>\n",
              "<body>\n",
              "    <div>            <script src=\"https://cdnjs.cloudflare.com/ajax/libs/mathjax/2.7.5/MathJax.js?config=TeX-AMS-MML_SVG\"></script><script type=\"text/javascript\">if (window.MathJax) {MathJax.Hub.Config({SVG: {font: \"STIX-Web\"}});}</script>                <script type=\"text/javascript\">window.PlotlyConfig = {MathJaxConfig: 'local'};</script>\n",
              "        <script src=\"https://cdn.plot.ly/plotly-2.8.3.min.js\"></script>                <div id=\"e2eea483-3774-4aa4-939c-7d5a9fae47b3\" class=\"plotly-graph-div\" style=\"height:500px; width:700px;\"></div>            <script type=\"text/javascript\">                                    window.PLOTLYENV=window.PLOTLYENV || {};                                    if (document.getElementById(\"e2eea483-3774-4aa4-939c-7d5a9fae47b3\")) {                    Plotly.newPlot(                        \"e2eea483-3774-4aa4-939c-7d5a9fae47b3\",                        [{\"autocolorscale\":false,\"colorscale\":[[0.0,\"rgb(251, 237, 235)\"],[0.09,\"rgb(245, 211, 206)\"],[0.12,\"rgb(239, 179, 171)\"],[0.15,\"rgb(236, 148, 136)\"],[0.22,\"rgb(239, 117, 100)\"],[0.35,\"rgb(235, 90, 70)\"],[0.45,\"rgb(207, 81, 61)\"],[0.65,\"rgb(176, 70, 50)\"],[0.85,\"rgb(147, 59, 39)\"],[1.0,\"rgb(110, 47, 26)\"]],\"locationmode\":\"USA-states\",\"locations\":[\"Mexico\",\"OH\",null,null,null,null,null,\"TX\",null,\"CSA\",null,\" MO\",null,\"NJ\",null,\"Florida\",\"Maryland\",\"Fl\",\"Ma\",\"PA\",\"MD\",\"N.J.\",\"CA\",\"FL\",null,\"PA\",\"FLA\",\"NY\",\"MI\",null,\"OH\",\"Texas\",null,\"La.\",\"NC\",\"England\",\"Ohio\",\"North Carolina\",\"LA\",\"Fla.\",\"TX\",\"Ohio\",\"FL\",\"WA\",null,\"Calif.\",\"Md.\",null,\"CO\",\"Pa.\",\"CA\",\"MA\",\"MO\",\"Texas\",null,\"IL\",\"CA\",\"FL\",\"GA\",\"MN\",\"CA\",\"AZ\",\"MD\",\"TN\",\"WI\",\"Ind.\",\"NJ\"],\"text\":[\"Mexico City\",\"Cleveland\",\"Charlotte North Carolina\",\"Cleveland\",\"London\",\"Jacksonville Florida\",\"Mexico City\",\"Arlington\",\"Chicago\",\"Santa Clara\",\"New Orleans\",\"Kansas City\",\"Cleveland Ohio\",\"E. Rutherford\",\"Chicago. IL\",\"Jacksonville\",\"Baltimore\",\"Jacksonville\",\"Foxborough\",\"Pittsburgh\",\"Baltimore\",\"East Rutherford\",\"Los Angeles\",\"Miami Gardens\",\"Denver CO\",\"Philadelphia\",\"Miami Gardens\",\"Orchard Park\",\"Detroit\",\"Seattle\",\"Cincinnati\",\"Houston\",\"Cleveland,Ohio\",\"New Orleans\",\"Charlotte\",\"London\",\"Cleveland\",\"Charlotte\",\"New Orleans\",\"Miami Gardens\",\"Houston\",\"Cincinnati\",\"Jacksonville\",\"Seattle\",\"Detroit\",\"Los Angeles\",\"Baltimore\",\"Orchard Park NY\",\"Denver\",\"Philadelphia\",\"Oakland\",\"Foxborough\",\"Kansas City\",\"Arlington\",\"Pittsburgh\",\"Chicago\",\"Carson\",\"Tampa\",\"Atlanta\",\"Minneapolis\",\"Santa Clara\",\"Glendale\",\"Landover\",\"Nashville\",\"Green Bay\",\"Indianapolis\",\"East Rutherford\"],\"z\":[1,1,1,1,1,1,1,1,1,1,1,1,1,1,1,1,2,2,2,2,2,3,3,3,3,3,4,4,5,5,7,7,8,8,9,10,10,11,13,14,14,14,14,16,16,17,17,18,18,19,19,19,20,20,20,20,20,20,21,21,21,21,22,22,22,22,39],\"type\":\"choropleth\"}],                        {\"template\":{\"data\":{\"bar\":[{\"error_x\":{\"color\":\"#2a3f5f\"},\"error_y\":{\"color\":\"#2a3f5f\"},\"marker\":{\"line\":{\"color\":\"#E5ECF6\",\"width\":0.5},\"pattern\":{\"fillmode\":\"overlay\",\"size\":10,\"solidity\":0.2}},\"type\":\"bar\"}],\"barpolar\":[{\"marker\":{\"line\":{\"color\":\"#E5ECF6\",\"width\":0.5},\"pattern\":{\"fillmode\":\"overlay\",\"size\":10,\"solidity\":0.2}},\"type\":\"barpolar\"}],\"carpet\":[{\"aaxis\":{\"endlinecolor\":\"#2a3f5f\",\"gridcolor\":\"white\",\"linecolor\":\"white\",\"minorgridcolor\":\"white\",\"startlinecolor\":\"#2a3f5f\"},\"baxis\":{\"endlinecolor\":\"#2a3f5f\",\"gridcolor\":\"white\",\"linecolor\":\"white\",\"minorgridcolor\":\"white\",\"startlinecolor\":\"#2a3f5f\"},\"type\":\"carpet\"}],\"choropleth\":[{\"colorbar\":{\"outlinewidth\":0,\"ticks\":\"\"},\"type\":\"choropleth\"}],\"contour\":[{\"colorbar\":{\"outlinewidth\":0,\"ticks\":\"\"},\"colorscale\":[[0.0,\"#0d0887\"],[0.1111111111111111,\"#46039f\"],[0.2222222222222222,\"#7201a8\"],[0.3333333333333333,\"#9c179e\"],[0.4444444444444444,\"#bd3786\"],[0.5555555555555556,\"#d8576b\"],[0.6666666666666666,\"#ed7953\"],[0.7777777777777778,\"#fb9f3a\"],[0.8888888888888888,\"#fdca26\"],[1.0,\"#f0f921\"]],\"type\":\"contour\"}],\"contourcarpet\":[{\"colorbar\":{\"outlinewidth\":0,\"ticks\":\"\"},\"type\":\"contourcarpet\"}],\"heatmap\":[{\"colorbar\":{\"outlinewidth\":0,\"ticks\":\"\"},\"colorscale\":[[0.0,\"#0d0887\"],[0.1111111111111111,\"#46039f\"],[0.2222222222222222,\"#7201a8\"],[0.3333333333333333,\"#9c179e\"],[0.4444444444444444,\"#bd3786\"],[0.5555555555555556,\"#d8576b\"],[0.6666666666666666,\"#ed7953\"],[0.7777777777777778,\"#fb9f3a\"],[0.8888888888888888,\"#fdca26\"],[1.0,\"#f0f921\"]],\"type\":\"heatmap\"}],\"heatmapgl\":[{\"colorbar\":{\"outlinewidth\":0,\"ticks\":\"\"},\"colorscale\":[[0.0,\"#0d0887\"],[0.1111111111111111,\"#46039f\"],[0.2222222222222222,\"#7201a8\"],[0.3333333333333333,\"#9c179e\"],[0.4444444444444444,\"#bd3786\"],[0.5555555555555556,\"#d8576b\"],[0.6666666666666666,\"#ed7953\"],[0.7777777777777778,\"#fb9f3a\"],[0.8888888888888888,\"#fdca26\"],[1.0,\"#f0f921\"]],\"type\":\"heatmapgl\"}],\"histogram\":[{\"marker\":{\"pattern\":{\"fillmode\":\"overlay\",\"size\":10,\"solidity\":0.2}},\"type\":\"histogram\"}],\"histogram2d\":[{\"colorbar\":{\"outlinewidth\":0,\"ticks\":\"\"},\"colorscale\":[[0.0,\"#0d0887\"],[0.1111111111111111,\"#46039f\"],[0.2222222222222222,\"#7201a8\"],[0.3333333333333333,\"#9c179e\"],[0.4444444444444444,\"#bd3786\"],[0.5555555555555556,\"#d8576b\"],[0.6666666666666666,\"#ed7953\"],[0.7777777777777778,\"#fb9f3a\"],[0.8888888888888888,\"#fdca26\"],[1.0,\"#f0f921\"]],\"type\":\"histogram2d\"}],\"histogram2dcontour\":[{\"colorbar\":{\"outlinewidth\":0,\"ticks\":\"\"},\"colorscale\":[[0.0,\"#0d0887\"],[0.1111111111111111,\"#46039f\"],[0.2222222222222222,\"#7201a8\"],[0.3333333333333333,\"#9c179e\"],[0.4444444444444444,\"#bd3786\"],[0.5555555555555556,\"#d8576b\"],[0.6666666666666666,\"#ed7953\"],[0.7777777777777778,\"#fb9f3a\"],[0.8888888888888888,\"#fdca26\"],[1.0,\"#f0f921\"]],\"type\":\"histogram2dcontour\"}],\"mesh3d\":[{\"colorbar\":{\"outlinewidth\":0,\"ticks\":\"\"},\"type\":\"mesh3d\"}],\"parcoords\":[{\"line\":{\"colorbar\":{\"outlinewidth\":0,\"ticks\":\"\"}},\"type\":\"parcoords\"}],\"pie\":[{\"automargin\":true,\"type\":\"pie\"}],\"scatter\":[{\"marker\":{\"colorbar\":{\"outlinewidth\":0,\"ticks\":\"\"}},\"type\":\"scatter\"}],\"scatter3d\":[{\"line\":{\"colorbar\":{\"outlinewidth\":0,\"ticks\":\"\"}},\"marker\":{\"colorbar\":{\"outlinewidth\":0,\"ticks\":\"\"}},\"type\":\"scatter3d\"}],\"scattercarpet\":[{\"marker\":{\"colorbar\":{\"outlinewidth\":0,\"ticks\":\"\"}},\"type\":\"scattercarpet\"}],\"scattergeo\":[{\"marker\":{\"colorbar\":{\"outlinewidth\":0,\"ticks\":\"\"}},\"type\":\"scattergeo\"}],\"scattergl\":[{\"marker\":{\"colorbar\":{\"outlinewidth\":0,\"ticks\":\"\"}},\"type\":\"scattergl\"}],\"scattermapbox\":[{\"marker\":{\"colorbar\":{\"outlinewidth\":0,\"ticks\":\"\"}},\"type\":\"scattermapbox\"}],\"scatterpolar\":[{\"marker\":{\"colorbar\":{\"outlinewidth\":0,\"ticks\":\"\"}},\"type\":\"scatterpolar\"}],\"scatterpolargl\":[{\"marker\":{\"colorbar\":{\"outlinewidth\":0,\"ticks\":\"\"}},\"type\":\"scatterpolargl\"}],\"scatterternary\":[{\"marker\":{\"colorbar\":{\"outlinewidth\":0,\"ticks\":\"\"}},\"type\":\"scatterternary\"}],\"surface\":[{\"colorbar\":{\"outlinewidth\":0,\"ticks\":\"\"},\"colorscale\":[[0.0,\"#0d0887\"],[0.1111111111111111,\"#46039f\"],[0.2222222222222222,\"#7201a8\"],[0.3333333333333333,\"#9c179e\"],[0.4444444444444444,\"#bd3786\"],[0.5555555555555556,\"#d8576b\"],[0.6666666666666666,\"#ed7953\"],[0.7777777777777778,\"#fb9f3a\"],[0.8888888888888888,\"#fdca26\"],[1.0,\"#f0f921\"]],\"type\":\"surface\"}],\"table\":[{\"cells\":{\"fill\":{\"color\":\"#EBF0F8\"},\"line\":{\"color\":\"white\"}},\"header\":{\"fill\":{\"color\":\"#C8D4E3\"},\"line\":{\"color\":\"white\"}},\"type\":\"table\"}]},\"layout\":{\"annotationdefaults\":{\"arrowcolor\":\"#2a3f5f\",\"arrowhead\":0,\"arrowwidth\":1},\"autotypenumbers\":\"strict\",\"coloraxis\":{\"colorbar\":{\"outlinewidth\":0,\"ticks\":\"\"}},\"colorscale\":{\"diverging\":[[0,\"#8e0152\"],[0.1,\"#c51b7d\"],[0.2,\"#de77ae\"],[0.3,\"#f1b6da\"],[0.4,\"#fde0ef\"],[0.5,\"#f7f7f7\"],[0.6,\"#e6f5d0\"],[0.7,\"#b8e186\"],[0.8,\"#7fbc41\"],[0.9,\"#4d9221\"],[1,\"#276419\"]],\"sequential\":[[0.0,\"#0d0887\"],[0.1111111111111111,\"#46039f\"],[0.2222222222222222,\"#7201a8\"],[0.3333333333333333,\"#9c179e\"],[0.4444444444444444,\"#bd3786\"],[0.5555555555555556,\"#d8576b\"],[0.6666666666666666,\"#ed7953\"],[0.7777777777777778,\"#fb9f3a\"],[0.8888888888888888,\"#fdca26\"],[1.0,\"#f0f921\"]],\"sequentialminus\":[[0.0,\"#0d0887\"],[0.1111111111111111,\"#46039f\"],[0.2222222222222222,\"#7201a8\"],[0.3333333333333333,\"#9c179e\"],[0.4444444444444444,\"#bd3786\"],[0.5555555555555556,\"#d8576b\"],[0.6666666666666666,\"#ed7953\"],[0.7777777777777778,\"#fb9f3a\"],[0.8888888888888888,\"#fdca26\"],[1.0,\"#f0f921\"]]},\"colorway\":[\"#636efa\",\"#EF553B\",\"#00cc96\",\"#ab63fa\",\"#FFA15A\",\"#19d3f3\",\"#FF6692\",\"#B6E880\",\"#FF97FF\",\"#FECB52\"],\"font\":{\"color\":\"#2a3f5f\"},\"geo\":{\"bgcolor\":\"white\",\"lakecolor\":\"white\",\"landcolor\":\"#E5ECF6\",\"showlakes\":true,\"showland\":true,\"subunitcolor\":\"white\"},\"hoverlabel\":{\"align\":\"left\"},\"hovermode\":\"closest\",\"mapbox\":{\"style\":\"light\"},\"paper_bgcolor\":\"white\",\"plot_bgcolor\":\"#E5ECF6\",\"polar\":{\"angularaxis\":{\"gridcolor\":\"white\",\"linecolor\":\"white\",\"ticks\":\"\"},\"bgcolor\":\"#E5ECF6\",\"radialaxis\":{\"gridcolor\":\"white\",\"linecolor\":\"white\",\"ticks\":\"\"}},\"scene\":{\"xaxis\":{\"backgroundcolor\":\"#E5ECF6\",\"gridcolor\":\"white\",\"gridwidth\":2,\"linecolor\":\"white\",\"showbackground\":true,\"ticks\":\"\",\"zerolinecolor\":\"white\"},\"yaxis\":{\"backgroundcolor\":\"#E5ECF6\",\"gridcolor\":\"white\",\"gridwidth\":2,\"linecolor\":\"white\",\"showbackground\":true,\"ticks\":\"\",\"zerolinecolor\":\"white\"},\"zaxis\":{\"backgroundcolor\":\"#E5ECF6\",\"gridcolor\":\"white\",\"gridwidth\":2,\"linecolor\":\"white\",\"showbackground\":true,\"ticks\":\"\",\"zerolinecolor\":\"white\"}},\"shapedefaults\":{\"line\":{\"color\":\"#2a3f5f\"}},\"ternary\":{\"aaxis\":{\"gridcolor\":\"white\",\"linecolor\":\"white\",\"ticks\":\"\"},\"baxis\":{\"gridcolor\":\"white\",\"linecolor\":\"white\",\"ticks\":\"\"},\"bgcolor\":\"#E5ECF6\",\"caxis\":{\"gridcolor\":\"white\",\"linecolor\":\"white\",\"ticks\":\"\"}},\"title\":{\"x\":0.05},\"xaxis\":{\"automargin\":true,\"gridcolor\":\"white\",\"linecolor\":\"white\",\"ticks\":\"\",\"title\":{\"standoff\":15},\"zerolinecolor\":\"white\",\"zerolinewidth\":2},\"yaxis\":{\"automargin\":true,\"gridcolor\":\"white\",\"linecolor\":\"white\",\"ticks\":\"\",\"title\":{\"standoff\":15},\"zerolinecolor\":\"white\",\"zerolinewidth\":2}}},\"geo\":{\"scope\":\"usa\"},\"title\":{\"text\":\"Total Number of Games by States\"},\"height\":500,\"width\":700},                        {\"responsive\": true}                    ).then(function(){\n",
              "                            \n",
              "var gd = document.getElementById('e2eea483-3774-4aa4-939c-7d5a9fae47b3');\n",
              "var x = new MutationObserver(function (mutations, observer) {{\n",
              "        var display = window.getComputedStyle(gd).display;\n",
              "        if (!display || display === 'none') {{\n",
              "            console.log([gd, 'removed!']);\n",
              "            Plotly.purge(gd);\n",
              "            observer.disconnect();\n",
              "        }}\n",
              "}});\n",
              "\n",
              "// Listen for the removal of the full notebook cells\n",
              "var notebookContainer = gd.closest('#notebook-container');\n",
              "if (notebookContainer) {{\n",
              "    x.observe(notebookContainer, {childList: true});\n",
              "}}\n",
              "\n",
              "// Listen for the clearing of the current output cell\n",
              "var outputEl = gd.closest('.output');\n",
              "if (outputEl) {{\n",
              "    x.observe(outputEl, {childList: true});\n",
              "}}\n",
              "\n",
              "                        })                };                            </script>        </div>\n",
              "</body>\n",
              "</html>"
            ]
          },
          "metadata": {}
        }
      ]
    },
    {
      "cell_type": "code",
      "source": [
        "def Offensive_Players_Ratio():\n",
        "  #Pandas\n",
        "  start = time.time()\n",
        "  df_Off = df_train.loc[:,[\"PlayId\",\"OffensePersonnel\"]].drop_duplicates()\n",
        "  df_Off[\"OffensePersonnel\"] = df_Off[\"OffensePersonnel\"].str.replace(\",1\", \", 1\")\n",
        "  df_Off[\"OffensePersonnel\"] = df_Off[\"OffensePersonnel\"].str.replace(\",2\", \", 2\")\n",
        "  OffenseCount = df_Off[\"OffensePersonnel\"].value_counts()\n",
        "  end = time.time()\n",
        "  pandas_query = (end-start)\n",
        "\n",
        "\n",
        "  #Spark\n",
        "  start = time.time()\n",
        "  df_Off = df.select(\"PlayId\", \"OffensePersonnel\").drop_duplicates()\n",
        "  df_Off = df_Off.withColumn('OffensePersonnel', regexp_replace('OffensePersonnel', ',1', ', 1')) \n",
        "  df_Off = df_Off.withColumn('OffensePersonnel', regexp_replace('OffensePersonnel', ',2', ', 2')) \n",
        "  OffenseCount = df_Off.groupBy('OffensePersonnel').count().orderBy('count')\n",
        "  end = time.time()\n",
        "  spark_query = (end-start)\n",
        "\n",
        "  # OffenseCount.show()\n",
        "  OffenseCount = OffenseCount.toPandas()\n",
        "\n",
        "\n",
        "  dic_Offense = {'DL': [0],'LB': [0],'DB': [0],'OL': [0],'RB': [0],'TE': [0],'WR': [0],'QB': [0]}\n",
        "\n",
        "  df_Offense = pd.DataFrame.from_dict(dic_Offense, orient='index')\n",
        "\n",
        "  df_Offense.columns = [\"Count\"]\n",
        "  for i in OffenseCount.OffensePersonnel:\n",
        "    for j in i.split(\", \"):\n",
        "        df_Offense.loc[ j.split(\" \")[1] : j.split(\" \")[1],:] += int(j.split(\" \")[0]) * OffenseCount.loc[OffenseCount['OffensePersonnel'] == i, 'count'].iloc[0]\n",
        "\n",
        "  colors = ['g', 'b', 'p', 'plum', 'gold', 'mediumturquoise', 'darkorange', 'lightgreen']\n",
        "\n",
        "  fig = go.Figure(data=[go.Pie(labels=df_Offense.index.values.tolist(), \n",
        "                              values=df_Offense[\"Count\"].tolist() , hole=.3)])\n",
        "\n",
        "  fig.update_traces(hoverinfo='label+percent', textinfo='value', textfont_size=18,\n",
        "                    marker=dict(colors=colors, line=dict(color='#000000', width=2)))\n",
        "\n",
        "  fig.update_layout(\n",
        "      title_text=\"Offensive Players Ratio in All Plays\", height=500, width=700)\n",
        "  fig.write_image(file='test.png', format='png')\n",
        "  return PIL.Image.open('test.png', 'r'), pandas_query, spark_query\n",
        "# fig.show()\n"
      ],
      "metadata": {
        "id": "uUa1QzPOSi0e"
      },
      "execution_count": 35,
      "outputs": []
    },
    {
      "cell_type": "code",
      "source": [
        "def Defense_Player_ratio():\n",
        "\n",
        "  #Pandas\n",
        "  start = time.time()\n",
        "  df_Off = df_train.loc[:,[\"PlayId\",\"DefensePersonnel\"]].drop_duplicates()\n",
        "  df_Off[\"DefensePersonnel\"] = df_Off[\"DefensePersonnel\"].str.replace(\",1\", \", 1\")\n",
        "  df_Off[\"DefensePersonnel\"] = df_Off[\"DefensePersonnel\"].str.replace(\",2\", \", 2\")\n",
        "  OffenseCount = df_Off[\"DefensePersonnel\"].value_counts()\n",
        "  end = time.time()\n",
        "  pandas_query = (end-start)\n",
        "\n",
        "\n",
        "  #Spark\n",
        "  start = time.time()\n",
        "  df_Off = df.select(\"PlayId\", \"DefensePersonnel\").drop_duplicates()\n",
        "  df_Off = df_Off.withColumn('DefensePersonnel', regexp_replace('DefensePersonnel', ',1', ', 1')) \n",
        "  df_Off = df_Off.withColumn('DefensePersonnel', regexp_replace('DefensePersonnel', ',2', ', 2')) \n",
        "  OffenseCount = df_Off.groupBy('DefensePersonnel').count().orderBy('count')\n",
        "  end = time.time()\n",
        "  spark_query = (end-start)\n",
        "\n",
        "  # OffenseCount.show()\n",
        "  OffenseCount = OffenseCount.toPandas()\n",
        "\n",
        "\n",
        "  dic_Offense = {'DL': [0],'LB': [0],'DB': [0],'OL': [0],'RB': [0],'TE': [0],'WR': [0],'QB': [0]}\n",
        "\n",
        "  df_Offense = pd.DataFrame.from_dict(dic_Offense, orient='index')\n",
        "  df_Offense.columns = [\"Count\"]\n",
        "\n",
        "  for i in OffenseCount.DefensePersonnel:\n",
        "    for j in i.split(\", \"):\n",
        "        df_Offense.loc[ j.split(\" \")[1] : j.split(\" \")[1],:] += int(j.split(\" \")[0]) * OffenseCount.loc[OffenseCount['DefensePersonnel'] == i, 'count'].iloc[0]\n",
        "    \n",
        "  colors = ['g', 'b', 'p', 'plum', 'gold', 'mediumturquoise', 'darkorange', 'lightgreen']\n",
        "\n",
        "  fig = go.Figure(data=[go.Pie(labels=df_Offense.index.values.tolist(), \n",
        "                              values=df_Offense[\"Count\"].tolist() , hole=.3)])\n",
        "  fig.update_traces(hoverinfo='label+percent', textinfo='value', textfont_size=18,\n",
        "                    marker=dict(colors=colors, line=dict(color='#000000', width=2)))\n",
        "  fig.update_layout(\n",
        "      title_text=\"Defense Players Ratio in All Plays\", height=500, width=700)\n",
        "  fig.write_image(file='test.png', format='png')\n",
        "  return PIL.Image.open('test.png', 'r'), pandas_query, spark_query\n",
        "# fig.show()  \n",
        "  #     df_Offense.loc[ j.split(\" \")[1] : j.split(\" \")[1],:] += int(j.split(\" \")[0]) * OffenseCount[i]"
      ],
      "metadata": {
        "id": "z6u4CLAUfOon"
      },
      "execution_count": 36,
      "outputs": []
    },
    {
      "cell_type": "code",
      "source": [
        "def Speed_Distritution():\n",
        "  #Pandas\n",
        "  start = time.time()\n",
        "  df_speed = df_train.loc[:,['DisplayName', 'S']].groupby('DisplayName').mean()\n",
        "  end = time.time()\n",
        "  pandas_query = (end-start)\n",
        "\n",
        "  #Spark\n",
        "  start = time.time()\n",
        "  df_speed = df.select('DisplayName', 'S').groupBy('DisplayName').agg(mean('S'))\n",
        "  end = time.time()\n",
        "  spark_query = (end-start)\n",
        "\n",
        "\n",
        "  # df_speed.show()\n",
        "  df_speed = df_speed.toPandas()\n",
        "  df_speed = df_speed.sort_values(\"avg(S)\", ascending = False)\n",
        "\n",
        "  fig = px.histogram(df_speed, x=\"avg(S)\",\n",
        "                    title='Average Speed Distribution of Players',\n",
        "                    opacity=0.8,\n",
        "                    color_discrete_sequence=['indianred']\n",
        "                    )\n",
        "\n",
        "  fig.update_layout(\n",
        "      yaxis_title_text='Count',\n",
        "      height=500, width=800)\n",
        "\n",
        "  fig.update_traces(marker_line_color='rgb(8,48,107)',\n",
        "                    marker_line_width=1.5, opacity=0.8\n",
        "                  )\n",
        "\n",
        "# fig.show()\n",
        "\n",
        "  fig.write_image(file='test.png', format='png')\n",
        "  return PIL.Image.open('test.png', 'r'), pandas_query, spark_query"
      ],
      "metadata": {
        "id": "zxE-ybfEjQHl"
      },
      "execution_count": 37,
      "outputs": []
    },
    {
      "cell_type": "code",
      "source": [
        "import pyspark.sql.functions as f\n",
        "\n",
        "def Speed_to_yards():\n",
        "  #Pandas\n",
        "  start = time.time()\n",
        "  df_speed_yards = df_train[df_train[\"NflIdRusher\"] == df_train[\"NflId\"]].loc[:,['GameId', 'DisplayName', 'S', 'Yards']]\n",
        "  end = time.time()\n",
        "  pandas_query = (end-start)\n",
        "\n",
        "\n",
        "\n",
        "  #Spark\n",
        "  start = time.time()\n",
        "  df_speed_yards = df.filter(df['NflIdRusher'] == df['NflId']).select('GameId', 'DisplayName', 'S', 'Yards')\n",
        "  end = time.time()\n",
        "  spark_query = (end-start)\n",
        "  # df_speed_yards.show()\n",
        "  df_speed_yards = df_speed_yards.toPandas()\n",
        "  df_speed_yards['S'] = df_speed_yards['S'].astype(\"float\")\n",
        "  df_speed_yards['Yards'] = df_speed_yards['Yards'].astype(\"float\")\n",
        "  df_speed_yards = df_speed_yards.sort_values(['S', 'Yards'],\n",
        "                ascending = [True, True])\n",
        "\n",
        "  fig = go.Figure(data=go.Scattergl\n",
        "  (\n",
        "      x = df_speed_yards[\"Yards\"], \n",
        "      y = df_speed_yards[\"S\"],\n",
        "      text = df_speed_yards['DisplayName'],\n",
        "      mode='markers',\n",
        "      marker=dict(line_width=0.4),\n",
        "      marker_color='darkorange'))\n",
        "\n",
        "  fig.update_layout(title='Speed to Yards', height=700, width=800)\n",
        "\n",
        "  fig.update_xaxes(title_text=\"Yards\")\n",
        "  fig.update_yaxes(title_text=\"Speed (yards/second)\")\n",
        "\n",
        "  # fig.show()\n",
        "\n",
        "  fig.write_image(file='test.png', format='png')\n",
        "  return PIL.Image.open('test.png', 'r'), pandas_query, spark_query"
      ],
      "metadata": {
        "id": "M0oSr665avXZ"
      },
      "execution_count": 38,
      "outputs": []
    },
    {
      "cell_type": "code",
      "source": [
        "def Age_MaxSpeed():\n",
        "  #Pandas\n",
        "  start = time.time()\n",
        "  df_MaxSpeed = df_train.loc[:,['DisplayName', 'PlayerBirthDate', 'TimeSnap', 'S', 'Orientation']].groupby(['DisplayName', 'PlayerBirthDate'], as_index=False).max()\n",
        "  end = time.time()\n",
        "  pandas_query = (end-start)\n",
        "\n",
        "  #Spark\n",
        "  start = time.time()\n",
        "  windowDept = Window.partitionBy(['DisplayName', 'PlayerBirthDate']).orderBy(col(\"S\").desc())\n",
        "  df_MaxSpeed = df.withColumn(\"row\",row_number().over(windowDept)) \\\n",
        "    .filter(col(\"row\") == 1).drop(\"row\").select('DisplayName', 'PlayerBirthDate', 'TimeSnap', 'S', 'Orientation')\n",
        "  end = time.time()\n",
        "  spark_query = (end-start)\n",
        "  # df_MaxSpeed.show()\n",
        "\n",
        "  df_MaxSpeed = df_MaxSpeed.toPandas()\n",
        "  df_MaxSpeed['S'] = df_MaxSpeed['S'].astype(\"float\")\n",
        "  df_MaxSpeed = df_MaxSpeed.sort_values(['S'],\n",
        "                ascending = [True])\n",
        "\n",
        "  # print(df_MaxSpeed)\n",
        "\n",
        "\n",
        "  df_MaxSpeed[\"Age\"] = round((df_MaxSpeed['TimeSnap'].astype('datetime64[ns]') - df_MaxSpeed['PlayerBirthDate'].astype('datetime64[ns]'))/np.timedelta64(1,'D')/365.25,1)\n",
        "  df_MaxSpeed = df_MaxSpeed.sort_values('S')\n",
        "  fig = go.Figure(data=go.Scattergl\n",
        "  (\n",
        "      x = df_MaxSpeed[\"S\"], \n",
        "      y = df_MaxSpeed[\"Age\"],\n",
        "      text = df_MaxSpeed['DisplayName'],\n",
        "      mode='markers',\n",
        "      marker=dict(line_width=0.4),\n",
        "      marker_color='mediumorchid'\n",
        "  )\n",
        "                ) \n",
        "\n",
        "  fig.update_layout(title='Age of The Players When They Make Their Maximum Speed', height=700, width=800)\n",
        "  fig.update_traces(marker_line_color='rgb(8,48,107)', opacity=0.7)\n",
        "\n",
        "  fig.update_xaxes(title_text=\"Speed of Player (yards/second)\")\n",
        "  fig.update_yaxes(title_text=\"Age\")\n",
        "\n",
        "# fig.show()\n",
        "  fig.write_image(file='test.png', format='png')\n",
        "  return PIL.Image.open('test.png', 'r'), pandas_query, spark_query"
      ],
      "metadata": {
        "id": "yeJ838dCj3bz"
      },
      "execution_count": 39,
      "outputs": []
    },
    {
      "cell_type": "code",
      "source": [
        "def Orientation_Age_Visuallize():\n",
        "\n",
        "  #Spark\n",
        "  start = time.time()\n",
        "  windowDept = Window.partitionBy(['DisplayName', 'PlayerBirthDate']).orderBy(col(\"S\").desc())\n",
        "  df_MaxSpeed = df.withColumn(\"row\",row_number().over(windowDept)) \\\n",
        "    .filter(col(\"row\") == 1).drop(\"row\").select('DisplayName', 'PlayerBirthDate', 'TimeSnap', 'S', 'Orientation')\n",
        "  end = time.time()\n",
        "  spark_query = (end-start)\n",
        "\n",
        "  #Pandas\n",
        "  start = time.time()\n",
        "  df_MaxSpeed = df_train.loc[:,['DisplayName', 'PlayerBirthDate', 'TimeSnap', 'S', 'Orientation']].groupby(['DisplayName', 'PlayerBirthDate'], as_index=False).max()\n",
        "  end = time.time()\n",
        "  pandas_query = (end-start)\n",
        "\n",
        "  df_MaxSpeed[\"Age\"] = round((df_MaxSpeed['TimeSnap'].astype('datetime64[ns]') - df_MaxSpeed['PlayerBirthDate'].astype('datetime64[ns]'))/np.timedelta64(1,'D')/365.25,1)\n",
        "  fig = go.Figure()\n",
        "\n",
        "  fig.add_trace(go.Scatter(x=df_MaxSpeed[\"S\"], y=df_MaxSpeed[\"Orientation\"],\n",
        "                      mode='markers',\n",
        "                      text = df_MaxSpeed['DisplayName'],     \n",
        "                      name='Speed',\n",
        "                      marker=dict(line_width=0.4)\n",
        "                      )\n",
        "              )\n",
        "\n",
        "  fig.add_trace(go.Scatter(x=df_MaxSpeed[\"Age\"], y=df_MaxSpeed[\"Orientation\"],\n",
        "                      mode='markers',\n",
        "                      text = df_MaxSpeed['DisplayName'],     \n",
        "                      name='Age',\n",
        "                      marker=dict(line_width=0.4)\n",
        "                      )\n",
        "              )\n",
        "\n",
        "  fig.update_layout(title='Orientation & Speed +  Orientation & Age Correlation', height=500, width=800)\n",
        "\n",
        "  fig.update_traces(marker_line_color='rgb(8,48,107)', opacity=0.8)\n",
        "  fig.update_yaxes(title_text=\"Orientation\")\n",
        "\n",
        "  # fig.show()\n",
        "  fig.write_image(file='test.png', format='png')\n",
        "  return PIL.Image.open('test.png', 'r'), pandas_query, spark_query"
      ],
      "metadata": {
        "id": "HRWHq3Nihcr0"
      },
      "execution_count": 40,
      "outputs": []
    },
    {
      "cell_type": "code",
      "source": [
        "def DefendersInTheBoxVisuallize():\n",
        "  #Spark\n",
        "  start = time.time()\n",
        "  df_defenders = df.select('DefendersInTheBox', 'Yards')\n",
        "  d1 = df_defenders.filter(df_defenders.DefendersInTheBox==1)\n",
        "  d2 = df_defenders.filter(df_defenders.DefendersInTheBox==2)\n",
        "  d3 = df_defenders.filter(df_defenders.DefendersInTheBox==3)\n",
        "  d4 = df_defenders.filter(df_defenders.DefendersInTheBox==4)\n",
        "  d5 = df_defenders.filter(df_defenders.DefendersInTheBox==5)\n",
        "  d6 = df_defenders.filter(df_defenders.DefendersInTheBox==6)\n",
        "  d7 = df_defenders.filter(df_defenders.DefendersInTheBox==7)\n",
        "  d8 = df_defenders.filter(df_defenders.DefendersInTheBox==8)\n",
        "  d9 = df_defenders.filter(df_defenders.DefendersInTheBox==9)\n",
        "  d10 = df_defenders.filter(df_defenders.DefendersInTheBox==10)\n",
        "  d11 = df_defenders.filter(df_defenders.DefendersInTheBox==11)\n",
        "  end = time.time()\n",
        "  pandas_query = (end-start)\n",
        "\n",
        "\n",
        "  #Pandas\n",
        "  start = time.time()\n",
        "  df_defenders = df_train.loc[:,['DefendersInTheBox', 'Yards']]\n",
        "  d1 = df_defenders[df_defenders.DefendersInTheBox==1]['Yards']\n",
        "  d2 = df_defenders[df_defenders.DefendersInTheBox==2]['Yards']\n",
        "  d3 = df_defenders[df_defenders.DefendersInTheBox==3]['Yards']\n",
        "  d4 = df_defenders[df_defenders.DefendersInTheBox==4]['Yards']\n",
        "  d5 = df_defenders[df_defenders.DefendersInTheBox==5]['Yards']\n",
        "  d6 = df_defenders[df_defenders.DefendersInTheBox==6]['Yards']\n",
        "  d7 = df_defenders[df_defenders.DefendersInTheBox==7]['Yards']\n",
        "  d8 = df_defenders[df_defenders.DefendersInTheBox==8]['Yards']\n",
        "  d9 = df_defenders[df_defenders.DefendersInTheBox==9]['Yards']\n",
        "  d10 = df_defenders[df_defenders.DefendersInTheBox==10]['Yards']\n",
        "  d11 = df_defenders[df_defenders.DefendersInTheBox==11]['Yards']\n",
        "  end = time.time()\n",
        "  spark_query = (end-start)\n",
        "\n",
        "  fig = go.Figure()\n",
        "  yards = [d1, d2, d3, d4, d5, d6, d7, d8, d9, d10, d11]\n",
        "  tags = [\"1\", \"2\", \"3\", \"4\", \"5\", \"6\", \"7\", \"8\", \"9\", \"10\", \"11\"]\n",
        "\n",
        "  for index, category in enumerate(yards):\n",
        "      fig.add_trace(go.Box(y=category, name=tags[index]))\n",
        "      \n",
        "  fig.update_layout(autosize=False, width=800,height=500,showlegend=False,\n",
        "                    title=\"Yards and Number of Defenders in the Box Correlation\", \n",
        "                    yaxis=dict(title=\"Yards\"), \n",
        "                    xaxis=dict(title=\"Number of Players\"),\n",
        "                    paper_bgcolor='rgb(243, 243, 243)', \n",
        "                    plot_bgcolor='rgb(243, 243, 243)', \n",
        "                    margin=dict(l=40,r=30,b=80,t=100,)\n",
        "                  )\n",
        "\n",
        "  # fig.show()\n",
        "\n",
        "\n",
        "\n",
        "  fig.write_image(file='test.png', format='png')\n",
        "  return PIL.Image.open('test.png', 'r'), pandas_query, spark_query\n"
      ],
      "metadata": {
        "id": "JG8W0yndh0jA"
      },
      "execution_count": 41,
      "outputs": []
    },
    {
      "cell_type": "code",
      "source": [
        "DefendersInTheBoxVisuallize()"
      ],
      "metadata": {
        "id": "L4tZPsLTya6W",
        "outputId": "dbb47794-ec7b-46b0-c2d0-71e0f28a3552",
        "colab": {
          "base_uri": "https://localhost:8080/"
        }
      },
      "execution_count": 48,
      "outputs": [
        {
          "output_type": "execute_result",
          "data": {
            "text/plain": [
              "(<PIL.PngImagePlugin.PngImageFile image mode=RGBA size=800x500 at 0x7FE0893270A0>,\n",
              " 0.1199796199798584,\n",
              " 0.03865361213684082)"
            ]
          },
          "metadata": {},
          "execution_count": 48
        }
      ]
    },
    {
      "cell_type": "code",
      "source": [
        "def OffenseForm_Visuallize():\n",
        "#Pandas\n",
        "  start = time.time()\n",
        "  df_OffenseForm = df_train.loc[:,['PlayId', 'OffenseFormation', 'Season']].drop_duplicates()\n",
        "  OffenseForm2017 = df_OffenseForm[df_train[\"Season\"] == 2017][\"OffenseFormation\"].value_counts()\n",
        "  OffenseForm2018 = df_OffenseForm[df_train[\"Season\"] == 2018][\"OffenseFormation\"].value_counts()\n",
        "  OffenseForm2019 = df_OffenseForm[df_train[\"Season\"] == 2019][\"OffenseFormation\"].value_counts()\n",
        "  end = time.time()\n",
        "  pandas_query = (end-start)\n",
        "\n",
        "  #Spark\n",
        "  start = time.time()\n",
        "  df_OffenseForm = df.select('PlayId', 'OffenseFormation', 'Season').drop_duplicates()\n",
        "  OffenseForm2017 = df_OffenseForm.filter(df_OffenseForm.Season == 2017).groupby(\"OffenseFormation\").count()\n",
        "  OffenseForm2018 = df_OffenseForm.filter(df_OffenseForm.Season == 2018).groupby(\"OffenseFormation\").count()\n",
        "  OffenseForm2019 = df_OffenseForm.filter(df_OffenseForm.Season == 2019).groupby(\"OffenseFormation\").count()\n",
        "  end = time.time()\n",
        "  spark_query = (end-start)\n",
        "  OffenseForm2017 = OffenseForm2017.toPandas()\n",
        "  OffenseForm2018 = OffenseForm2018.toPandas()\n",
        "  OffenseForm2019 = OffenseForm2019.toPandas()\n",
        "  # print(OffenseForm2017)\n",
        "\n",
        "\n",
        "  fig = make_subplots(rows=1, cols=3, specs=[[{'type':'domain'}, {'type':'domain'}, {'type':'domain'}]])\n",
        "\n",
        "  fig.add_trace(\n",
        "      go.Pie(labels=OffenseForm2017['OffenseFormation'], values=OffenseForm2017['count'], name=\"2017\"),\n",
        "                1, 1)\n",
        "\n",
        "  fig.add_trace(\n",
        "      go.Pie(labels=OffenseForm2018['OffenseFormation'], values=OffenseForm2018['count'], name=\"2018\"),\n",
        "                1, 2)\n",
        "\n",
        "  fig.add_trace(\n",
        "      go.Pie(labels=OffenseForm2019['OffenseFormation'], values=OffenseForm2019['count'], name=\"2019\"),\n",
        "                1, 3)\n",
        "\n",
        "  fig.update_traces(hole=.4, hoverinfo=\"label+value\")\n",
        "\n",
        "  fig.update_layout(\n",
        "      title_text=\"Favorite Offense Formation in 2017 and 2018 and 2019\",\n",
        "      height=500, width=800,\n",
        "      annotations=[dict(text='2017', x=0.18, y=0.5, font_size=20, showarrow=False),\n",
        "                  dict(text='2018', x=0.52, y=0.5, font_size=20, showarrow=False),\n",
        "                  dict(text='2019', x=0.86, y=0.5, font_size=20, showarrow=False)\n",
        "                  ]\n",
        "  )\n",
        "\n",
        "  # fig.show()\n",
        "  fig.write_image(file='test.png', format='png')\n",
        "  return PIL.Image.open('test.png', 'r'), pandas_query, spark_query"
      ],
      "metadata": {
        "id": "w1B8vVVyl6IR"
      },
      "execution_count": 43,
      "outputs": []
    },
    {
      "cell_type": "code",
      "source": [
        "def Position_Visuallize():\n",
        "    #pandas\n",
        "    start = time.time()\n",
        "    df_xy = df_train[(df_train[\"NflIdRusher\"] == df_train[\"NflId\"])].loc[:,[\"Yards\", \"DefendersInTheBox\", \"X\", \"Y\" ]].sort_values(\"X\" )\n",
        "    end = time.time()\n",
        "    print(end-start)\n",
        "    pandas_query = (end-start)\n",
        "    #spark\n",
        "    start = time.time()\n",
        "    df_xy = df.filter(df.NflIdRusher == df.NflId).select(\"Yards\", \"DefendersInTheBox\", \"X\", \"Y\" )\n",
        "    end = time.time()\n",
        "    print(end-start)\n",
        "    spark_query = (end-start)\n",
        "\n",
        "\n",
        "\n",
        "\n",
        "    df_xy = df_xy.toPandas()\n",
        "    df_xy[\"X\"] = df_xy[\"X\"].astype(\"float\")\n",
        "    df_xy[\"Y\"] = df_xy[\"Y\"].astype(\"float\")\n",
        "\n",
        "    df_xy = df_xy.sort_values(['X', 'Y'],\n",
        "                  ascending = [True, True])\n",
        "\n",
        "\n",
        "\n",
        "    fig = go.Figure(data=go.Scattergl\n",
        "    (\n",
        "        x = df_xy[\"X\"], \n",
        "        y = df_xy[\"Y\"],\n",
        "        mode='markers',\n",
        "        marker=dict(line_width=0.8),\n",
        "        marker_color='tan'))\n",
        "\n",
        "    fig.update_layout(title='X and Y Positions of Players', height=700, width=800)\n",
        "    fig.update_traces(marker_line_color='rgb(8,48,107)', opacity=0.7)\n",
        "\n",
        "    fig.update_xaxes(title_text=\"X\")\n",
        "    fig.update_yaxes(title_text=\"Y\")\n",
        "\n",
        "    # fig.show()\n",
        "    fig.write_image(file='test.png', format='png')\n",
        "    return PIL.Image.open('test.png', 'r'), pandas_query, spark_query"
      ],
      "metadata": {
        "id": "waoTKYQJt0gc"
      },
      "execution_count": 44,
      "outputs": []
    },
    {
      "cell_type": "code",
      "source": [
        "def State_Visuallize():\n",
        "    start = time.time()\n",
        "    stadium_loc = df_train.loc[:,['GameId', 'Location']].drop_duplicates()\n",
        "    stadium_loc = stadium_loc['Location'].value_counts()\n",
        "    end = time.time()\n",
        "    pandas_query = (end-start)\n",
        "\n",
        "    #Spark\n",
        "    start = time.time()\n",
        "    stadium_loc = df.select(\"GameId\", \"Location\").drop_duplicates()\n",
        "    stadium_loc = stadium_loc.groupBy('Location').count().orderBy('count')\n",
        "    end = time.time()\n",
        "    spark_query = (end-start)\n",
        "\n",
        "    df_stadium_loc = stadium_loc.toPandas()\n",
        "    # print(str(df_stadium_loc['Location'][0]))\n",
        "    df_stadium_loc[\"State\"] = df_stadium_loc[\"Location\"].str.split(', ', expand=True)[0]\n",
        "    df_stadium_loc[\"StateAbb\"] = df_stadium_loc[\"Location\"].str.split(', ', expand=True)[1]\n",
        "\n",
        "\n",
        "    fig = go.Figure(data=go.Choropleth(\n",
        "        locations=df_stadium_loc[\"StateAbb\"], \n",
        "        z = df_stadium_loc['count'], \n",
        "        locationmode = 'USA-states', \n",
        "        text = df_stadium_loc['State'],\n",
        "        colorscale=\n",
        "                [[0.0, \"rgb(251, 237, 235)\"],\n",
        "                [0.09, \"rgb(245, 211, 206)\"],\n",
        "                [0.12, \"rgb(239, 179, 171)\"],\n",
        "                [0.15, \"rgb(236, 148, 136)\"],\n",
        "                [0.22, \"rgb(239, 117, 100)\"],\n",
        "                [0.35, \"rgb(235, 90, 70)\"],\n",
        "                [0.45, \"rgb(207, 81, 61)\"],\n",
        "                [0.65, \"rgb(176, 70, 50)\"],\n",
        "                [0.85, \"rgb(147, 59, 39)\"],\n",
        "                [1.00, \"rgb(110, 47, 26)\"]],\n",
        "        autocolorscale = False))\n",
        "\n",
        "    fig.update_layout(\n",
        "        geo_scope='usa',\n",
        "        title_text = 'Total Number of Games by States', height=500, width=700)\n",
        "\n",
        "    # print(fig.to_html())\n",
        "    # print(type(fig))\n",
        "    # fig.write_image(\"test\", engine='kaleido') \n",
        "    fig.write_image(file='test.png', format='png')\n",
        "    # fig.savefig(\"test.png\")\n",
        "    \n",
        "    return PIL.Image.open('test.png', 'r'), pandas_query, spark_query"
      ],
      "metadata": {
        "id": "JHT8yPUR7brO"
      },
      "execution_count": 45,
      "outputs": []
    },
    {
      "cell_type": "code",
      "source": [
        "\n",
        "title = \"Big Data - NFL Analysis\"\n",
        "# description = \"NFL Analysis\"\n",
        "\n",
        "\n",
        "def fn(Atribute_choice, input):\n",
        "  if Atribute_choice==\"State\":\n",
        "    return State_Visuallize()\n",
        "  if Atribute_choice==\"Position\":\n",
        "    return Position_Visuallize()\n",
        "  if Atribute_choice==\"Orientation_Age\":\n",
        "    return Orientation_Age_Visuallize()\n",
        "  if Atribute_choice==\"OffenseForm\":\n",
        "    return OffenseForm_Visuallize()\n",
        "  if Atribute_choice==\"Defenders_In_The_Box\":\n",
        "    return DefendersInTheBoxVisuallize()\n",
        "  if Atribute_choice==\"Age_MaxSpeed\":\n",
        "    return Age_MaxSpeed()\n",
        "  if Atribute_choice==\"Speed_to_yards\":\n",
        "    return Speed_to_yards()\n",
        "  if Atribute_choice==\"Speed_Distritution\":\n",
        "    return Speed_Distritution()\n",
        "  if Atribute_choice==\"Defense_Player_ratio\":\n",
        "    return Defense_Player_ratio()\n",
        "  if Atribute_choice==\"Offensive_Players_Ratio\":\n",
        "    return Offensive_Players_Ratio()\n",
        "  if Atribute_choice==\"Game_by_Stadium_Type\":\n",
        "    return Game_by_Stadium_Type()\n",
        "  if Atribute_choice==\"Game_by_Stadium_Name\":\n",
        "    return Game_by_Stadium_Name()\n",
        "\n",
        "  if Atribute_choice==\"Age_Fre\":\n",
        "    return Age_Fre()\n",
        "  if Atribute_choice==\"Player_Colleges_Fre\":\n",
        "    return Player_Colleges_Fre()\n",
        "  if Atribute_choice==\"weight_height_corre\":\n",
        "    return weight_height_corre()\n",
        "  if Atribute_choice==\"weight_height_fre\":\n",
        "    return weight_height_fre()\n",
        "  if Atribute_choice==\"Away_Home\":\n",
        "    return Away_Home()\n",
        "  if Atribute_choice==\"Plays_Games_Players\":\n",
        "    return Plays_Games_Players()\n",
        "    \n",
        "  \n",
        "\n",
        "gr.Interface(fn, [gr.inputs.Dropdown([\"Plays_Games_Players\", \"Away_Home\", \"weight_height_fre\", \"weight_height_corre\", \"Player_Colleges_Fre\", \"Age_Fre\", \"Game_by_Stadium_Name\", \"Game_by_Stadium_Type\", \"Offensive_Players_Ratio\", \"Defense_Player_ratio\",\"Speed_Distritution\",\"Speed_to_yards\",\"Age_MaxSpeed\",\"Defenders_In_The_Box\",\"Orientation_Age\", \"OffenseForm\",\"State\", \"Position\"])], [\"image\", \"text\", \"text\"],title=title,\n",
        ").launch()"
      ],
      "metadata": {
        "id": "2A0-u101i3Kk",
        "colab": {
          "base_uri": "https://localhost:8080/",
          "height": 913
        },
        "outputId": "0efc12bf-2e01-4a19-f5e6-88b5189a4a5c"
      },
      "execution_count": 49,
      "outputs": [
        {
          "output_type": "stream",
          "name": "stderr",
          "text": [
            "/usr/local/lib/python3.8/dist-packages/gradio/inputs.py:217: UserWarning:\n",
            "\n",
            "Usage of gradio.inputs is deprecated, and will not be supported in the future, please import your component from gradio.components\n",
            "\n",
            "/usr/local/lib/python3.8/dist-packages/gradio/deprecation.py:40: UserWarning:\n",
            "\n",
            "`optional` parameter is deprecated, and it has no effect\n",
            "\n",
            "/usr/local/lib/python3.8/dist-packages/gradio/utils.py:840: UserWarning:\n",
            "\n",
            "Expected 2 arguments for function <function fn at 0x7fe084562e50>, received 1.\n",
            "\n",
            "/usr/local/lib/python3.8/dist-packages/gradio/utils.py:844: UserWarning:\n",
            "\n",
            "Expected at least 2 arguments for function <function fn at 0x7fe084562e50>, received 1.\n",
            "\n"
          ]
        },
        {
          "output_type": "stream",
          "name": "stdout",
          "text": [
            "Colab notebook detected. To show errors in colab notebook, set debug=True in launch()\n",
            "Note: opening Chrome Inspector may crash demo inside Colab notebooks.\n",
            "\n",
            "To create a public link, set `share=True` in `launch()`.\n"
          ]
        },
        {
          "output_type": "display_data",
          "data": {
            "text/plain": [
              "<IPython.core.display.Javascript object>"
            ],
            "application/javascript": [
              "(async (port, path, width, height, cache, element) => {\n",
              "                        if (!google.colab.kernel.accessAllowed && !cache) {\n",
              "                            return;\n",
              "                        }\n",
              "                        element.appendChild(document.createTextNode(''));\n",
              "                        const url = await google.colab.kernel.proxyPort(port, {cache});\n",
              "\n",
              "                        const external_link = document.createElement('div');\n",
              "                        external_link.innerHTML = `\n",
              "                            <div style=\"font-family: monospace; margin-bottom: 0.5rem\">\n",
              "                                Running on <a href=${new URL(path, url).toString()} target=\"_blank\">\n",
              "                                    https://localhost:${port}${path}\n",
              "                                </a>\n",
              "                            </div>\n",
              "                        `;\n",
              "                        element.appendChild(external_link);\n",
              "\n",
              "                        const iframe = document.createElement('iframe');\n",
              "                        iframe.src = new URL(path, url).toString();\n",
              "                        iframe.height = height;\n",
              "                        iframe.allow = \"autoplay; camera; microphone; clipboard-read; clipboard-write;\"\n",
              "                        iframe.width = width;\n",
              "                        iframe.style.border = 0;\n",
              "                        element.appendChild(iframe);\n",
              "                    })(7862, \"/\", \"100%\", 500, false, window.element)"
            ]
          },
          "metadata": {}
        },
        {
          "output_type": "execute_result",
          "data": {
            "text/plain": []
          },
          "metadata": {},
          "execution_count": 49
        }
      ]
    },
    {
      "cell_type": "code",
      "source": [
        "Plays_Games_Players()"
      ],
      "metadata": {
        "colab": {
          "base_uri": "https://localhost:8080/",
          "height": 295
        },
        "id": "2CJnng3aYeuj",
        "outputId": "ad3a9aab-8c98-412f-f3e5-3aea3d0708bb"
      },
      "execution_count": 47,
      "outputs": [
        {
          "output_type": "execute_result",
          "data": {
            "text/plain": [
              "<function __main__.Plays_Games_Players()>"
            ]
          },
          "metadata": {},
          "execution_count": 47
        },
        {
          "output_type": "display_data",
          "data": {
            "text/plain": [
              "<Figure size 792x288 with 3 Axes>"
            ],
            "image/png": "[encoded data removed]"
          },
          "metadata": {
            "needs_background": "light"
          }
        }
      ]
    }
  ]
}